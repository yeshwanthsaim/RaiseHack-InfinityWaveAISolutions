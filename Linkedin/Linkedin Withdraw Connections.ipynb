{
 "cells": [
  {
   "cell_type": "code",
   "execution_count": 1,
   "id": "a2eadb68-ad1b-47f6-a34a-34719f4f0107",
   "metadata": {},
   "outputs": [
    {
     "data": {
      "text/plain": [
       "'Aim: To automate the withdraw of connections sent.\\nHelps to clean up the linkedin. \\n'"
      ]
     },
     "execution_count": 1,
     "metadata": {},
     "output_type": "execute_result"
    }
   ],
   "source": [
    "\"\"\"Aim: To automate the withdraw of connections sent.\n",
    "Helps to clean up the linkedin. \n",
    "\"\"\""
   ]
  },
  {
   "cell_type": "code",
   "execution_count": 3,
   "id": "e071af77-5bb0-4be9-be4f-af8f144b6d39",
   "metadata": {},
   "outputs": [],
   "source": [
    "# libraries :: Selenium\n",
    "\n",
    "from selenium import webdriver\n",
    "from selenium.webdriver.common.action_chains import ActionChains\n",
    "from selenium.webdriver.chrome.service import Service\n",
    "\n",
    "from selenium import webdriver\n",
    "from selenium.webdriver.common.by import By\n",
    "from selenium.webdriver.common.keys import Keys\n",
    "\n",
    "from selenium.webdriver.chrome.options import Options\n",
    "\n",
    "# libraries :: \n",
    "\n",
    "# Selenium\n",
    "from selenium import webdriver\n",
    "from selenium.webdriver.common.action_chains import ActionChains\n",
    "from selenium.webdriver.chrome.service import Service\n",
    "from selenium import webdriver\n",
    "from selenium.webdriver.common.by import By\n",
    "from selenium import webdriver\n",
    "from selenium.webdriver.chrome.service import Service\n",
    "from webdriver_manager.chrome import ChromeDriverManager as CM\n",
    "from selenium.webdriver.chrome.options import Options\n",
    "from selenium.webdriver.support.ui import WebDriverWait\n",
    "from selenium.webdriver.support import expected_conditions as EC\n",
    "from selenium.webdriver.common.by import By\n",
    "from selenium.webdriver.common.keys import Keys\n",
    "\n",
    "# others\n",
    "import time\n",
    "import pandas as pd\n",
    "import re\n",
    "import tqdm\n",
    "import os\n",
    "\n",
    "# libraries :: Other helpers\n",
    "import time\n",
    "import pandas as pd\n",
    "import re\n",
    "import tqdm\n",
    "import os"
   ]
  },
  {
   "cell_type": "code",
   "execution_count": null,
   "id": "e15c98aa-b329-481e-a1b9-f55ccfcade0d",
   "metadata": {},
   "outputs": [],
   "source": [
    "# Initiating the browser : Old way\n",
    "options = webdriver.ChromeOptions()\n",
    "path = \"./chrome/chromedriver.exe\"\n",
    "user_agent = 'Chrome/112.0.5615.138'\n",
    "# options.add_argument('--headless')\n",
    "options.add_argument(f'--user-agent={user_agent}')\n",
    "\n",
    "service = Service(executable_path=path)\n",
    "browser = webdriver.Chrome(service=service,options=options)\n",
    "browser.maximize_window()"
   ]
  },
  {
   "cell_type": "code",
   "execution_count": 4,
   "id": "9d23dd0f-ac3d-467d-9619-ed4464dc1eb2",
   "metadata": {},
   "outputs": [],
   "source": [
    "# New way :>\n",
    "chrome_options = Options()\n",
    "\n",
    "# Use WebDriverManager to handle driver installation\n",
    "service = Service(executable_path=CM().install())\n",
    "browser = webdriver.Chrome(service=service, options=chrome_options)"
   ]
  },
  {
   "cell_type": "code",
   "execution_count": 5,
   "id": "31f124bb-1a09-4048-af70-c6e8f67dea03",
   "metadata": {},
   "outputs": [],
   "source": [
    "# login auto :>\n",
    "linkedin_url = \"https://www.linkedin.com/\"\n",
    "browser.get(linkedin_url)\n",
    "\n",
    "time.sleep(2)\n",
    "\n",
    "time.sleep(5)\n",
    "# Linkedin Login:\n",
    "## Linkedin Sign In :: Single go\n",
    "## Identify remember option :: linkedin has\n",
    "login_url = \"https://www.linkedin.com/login\"\n",
    "browser.get(login_url)\n",
    "\n",
    "username = \"yeshudatascience@gmail.com\"\n",
    "password = \"Y35#&e@I*ninefour\"\n",
    "\n",
    "elem = browser.find_element(By.ID, \"username\")\n",
    "elem.clear()\n",
    "elem.send_keys(username)\n",
    "\n",
    "elem = browser.find_element(By.ID, \"password\")\n",
    "elem.clear()\n",
    "elem.send_keys(password)\n",
    "\n",
    "# pressing enter after filling\n",
    "elem.send_keys(Keys.RETURN)\n"
   ]
  },
  {
   "cell_type": "code",
   "execution_count": 6,
   "id": "5d699d6a-174c-44cb-b580-8c513acfbc09",
   "metadata": {},
   "outputs": [],
   "source": [
    "# Withdraw link\n",
    "withdraw_url = \"https://www.linkedin.com/mynetwork/invitation-manager/sent/?page=2\"\n",
    "browser.get(withdraw_url)"
   ]
  },
  {
   "cell_type": "code",
   "execution_count": null,
   "id": "58495895-f416-456a-9b34-ec69f341355d",
   "metadata": {},
   "outputs": [],
   "source": [
    "# steps:\n",
    "# find all withdraw\n",
    "# click each withdraw\n",
    "# then wait for confirm window \n",
    "# click on confirm "
   ]
  },
  {
   "cell_type": "code",
   "execution_count": 55,
   "id": "b220b74a-c776-4939-b30c-f7c8c6e041e0",
   "metadata": {},
   "outputs": [],
   "source": [
    "# find all span with class artdeco-button__text\n",
    "\n",
    "elements = browser.find_elements(By.XPATH, \"//span[@class='artdeco-button__text']\")"
   ]
  },
  {
   "cell_type": "code",
   "execution_count": 56,
   "id": "c536e7f3-a1c8-4c20-ab22-a2ba56742236",
   "metadata": {},
   "outputs": [],
   "source": [
    "buttons =  browser.find_elements(By.XPATH, \"//button[@class='artdeco-button artdeco-button--muted artdeco-button--3 artdeco-button--tertiary ember-view invitation-card__action-btn']\")"
   ]
  },
  {
   "cell_type": "code",
   "execution_count": 57,
   "id": "f7975638-3217-43ae-b4b2-0d34e696a447",
   "metadata": {},
   "outputs": [
    {
     "data": {
      "text/plain": [
       "100"
      ]
     },
     "execution_count": 57,
     "metadata": {},
     "output_type": "execute_result"
    }
   ],
   "source": [
    "len(buttons)"
   ]
  },
  {
   "cell_type": "code",
   "execution_count": 42,
   "id": "8653810e-dd8e-48af-ae4e-fab33c490008",
   "metadata": {},
   "outputs": [],
   "source": [
    "button = buttons[0]"
   ]
  },
  {
   "cell_type": "code",
   "execution_count": 43,
   "id": "63a45ad8-f235-4b87-80da-6975585688c0",
   "metadata": {},
   "outputs": [],
   "source": [
    "browser.execute_script(\"arguments[0].click();\", button)"
   ]
  },
  {
   "cell_type": "code",
   "execution_count": 44,
   "id": "f8ae6dd1-1547-44d8-a870-ce27fc11965a",
   "metadata": {},
   "outputs": [],
   "source": [
    "## confirm withdraw dialog :>\n",
    "withdraw_dialog_button =  browser.find_element(By.XPATH, \"//button[@class='artdeco-button artdeco-button--2 artdeco-button--primary ember-view artdeco-modal__confirm-dialog-btn']\")"
   ]
  },
  {
   "cell_type": "code",
   "execution_count": 45,
   "id": "3e495b2e-796a-4219-a0b3-b666c1245b99",
   "metadata": {},
   "outputs": [],
   "source": [
    "browser.execute_script(\"arguments[0].click();\", withdraw_dialog_button)"
   ]
  },
  {
   "cell_type": "code",
   "execution_count": 16,
   "id": "369c8c83-32d7-4b6f-a65f-f735aec486a7",
   "metadata": {},
   "outputs": [],
   "source": [
    "# buttons =  browser.find_elements(By.XPATH, \"//button[@class='artdeco-button artdeco-button--muted artdeco-button--3 artdeco-button--tertiary ember-view invitation-card__action-btn']\")"
   ]
  },
  {
   "cell_type": "code",
   "execution_count": 58,
   "id": "033cf99c-02aa-419a-8a07-40e019560c54",
   "metadata": {},
   "outputs": [],
   "source": [
    "for button in buttons:\n",
    "    browser.execute_script(\"arguments[0].click();\", button)\n",
    "    time.sleep(1)\n",
    "    ## confirm withdraw dialog :>\n",
    "    withdraw_dialog_button =  browser.find_element(By.XPATH, \"//button[@class='artdeco-button artdeco-button--2 artdeco-button--primary ember-view artdeco-modal__confirm-dialog-btn']\")\n",
    "    browser.execute_script(\"arguments[0].click();\", withdraw_dialog_button)\n",
    "    time.sleep(1)\n",
    "    "
   ]
  },
  {
   "cell_type": "code",
   "execution_count": 37,
   "id": "71942dd7-6f5c-4279-9724-0b3dfb8159e5",
   "metadata": {},
   "outputs": [],
   "source": [
    "button =  browser.find_element(By.XPATH, \"//button[@class='artdeco-button artdeco-button--muted artdeco-button--3 artdeco-button--tertiary ember-view invitation-card__action-btn']\")\n",
    "browser.execute_script(\"arguments[0].click();\", button)\n",
    "\n",
    "time.sleep(1)\n",
    "\n",
    "## confirm withdraw dialog :>\n",
    "withdraw_dialog_button =  browser.find_element(By.XPATH, \"//button[@class='artdeco-button artdeco-button--2 artdeco-button--primary ember-view artdeco-modal__confirm-dialog-btn']\")\n",
    "browser.execute_script(\"arguments[0].click();\", withdraw_dialog_button)\n"
   ]
  },
  {
   "cell_type": "code",
   "execution_count": 51,
   "id": "3c855e6f-3127-4280-8c10-724fea965c93",
   "metadata": {},
   "outputs": [],
   "source": [
    "for _ in range(6):\n",
    "    time.sleep(1)\n",
    "    \n",
    "    button =  browser.find_element(By.XPATH, \"//button[@class='artdeco-button artdeco-button--muted artdeco-button--3 artdeco-button--tertiary ember-view invitation-card__action-btn']\")\n",
    "    browser.execute_script(\"arguments[0].click();\", button)\n",
    "    \n",
    "    time.sleep(1)\n",
    "    \n",
    "    ## confirm withdraw dialog :>\n",
    "    withdraw_dialog_button =  browser.find_element(By.XPATH, \"//button[@class='artdeco-button artdeco-button--2 artdeco-button--primary ember-view artdeco-modal__confirm-dialog-btn']\")\n",
    "    browser.execute_script(\"arguments[0].click();\", withdraw_dialog_button)\n"
   ]
  },
  {
   "cell_type": "code",
   "execution_count": null,
   "id": "e0307366-4fde-45c2-9b75-bab5ee529d9f",
   "metadata": {},
   "outputs": [],
   "source": []
  }
 ],
 "metadata": {
  "kernelspec": {
   "display_name": "Python 3 (ipykernel)",
   "language": "python",
   "name": "python3"
  },
  "language_info": {
   "codemirror_mode": {
    "name": "ipython",
    "version": 3
   },
   "file_extension": ".py",
   "mimetype": "text/x-python",
   "name": "python",
   "nbconvert_exporter": "python",
   "pygments_lexer": "ipython3",
   "version": "3.10.14"
  }
 },
 "nbformat": 4,
 "nbformat_minor": 5
}
