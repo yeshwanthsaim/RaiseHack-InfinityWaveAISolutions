{
 "cells": [
  {
   "cell_type": "markdown",
   "id": "62f6161e-9a04-4abc-b8f0-31bebc8ed3c9",
   "metadata": {},
   "source": [
    "### Selenium guide codes"
   ]
  },
  {
   "cell_type": "raw",
   "id": "de86d4be-d8fc-44b7-906d-af9e531ac8e6",
   "metadata": {},
   "source": [
    "Install selenium\n",
    "Run each and every function and feature of selenium individually"
   ]
  },
  {
   "cell_type": "code",
   "execution_count": 1,
   "id": "3e2b6538-64bd-402e-9d0b-49e9fdddc4e5",
   "metadata": {},
   "outputs": [],
   "source": [
    "# libraries :: Selenium\n",
    "\n",
    "from selenium import webdriver\n",
    "from selenium.webdriver.common.action_chains import ActionChains\n",
    "from selenium.webdriver.chrome.service import Service\n",
    "\n",
    "from selenium import webdriver\n",
    "from selenium.webdriver.common.by import By\n",
    "from selenium.webdriver.common.keys import Keys\n"
   ]
  },
  {
   "cell_type": "code",
   "execution_count": 2,
   "id": "d1df122d-4650-4597-a6c6-802bc35d20fb",
   "metadata": {},
   "outputs": [],
   "source": [
    "# libraries :: Other helpers\n",
    "import time\n",
    "import pandas as pd\n",
    "import re\n",
    "import tqdm\n",
    "import os"
   ]
  },
  {
   "cell_type": "code",
   "execution_count": 3,
   "id": "a8953beb-bcdd-4d51-b9a2-6e352a0e3ae5",
   "metadata": {},
   "outputs": [],
   "source": [
    "from selenium.webdriver.chrome.options import Options"
   ]
  },
  {
   "cell_type": "code",
   "execution_count": 222,
   "id": "f84f40ef-9c5e-402a-a1fb-beabb02d3630",
   "metadata": {},
   "outputs": [],
   "source": [
    "\n",
    "\n"
   ]
  },
  {
   "cell_type": "code",
   "execution_count": 4,
   "id": "13e25381-507c-42bf-81b5-b576bc50ce20",
   "metadata": {},
   "outputs": [],
   "source": [
    "# Initiating the browser\n",
    "options = webdriver.ChromeOptions()\n",
    "path = \"./chrome/chromedriver.exe\"\n",
    "user_agent = 'Chrome/112.0.5615.138'\n",
    "# options.add_argument('--headless')\n",
    "options.add_argument(f'--user-agent={user_agent}')\n",
    "\n",
    "service = Service(executable_path=path)\n",
    "browser = webdriver.Chrome(service=service,options=options)\n",
    "browser.maximize_window()"
   ]
  },
  {
   "cell_type": "code",
   "execution_count": 6,
   "id": "8842e09d-505f-4710-b307-2d32854f5d10",
   "metadata": {},
   "outputs": [],
   "source": [
    "## Directly starting with Linkedin\n",
    "## As we will be eventually building Linkedin Automation Job application Tool"
   ]
  },
  {
   "cell_type": "code",
   "execution_count": 5,
   "id": "d000e988-98fd-4db6-b1dc-8869fa1f7505",
   "metadata": {},
   "outputs": [],
   "source": [
    "linkedin_url = \"https://www.linkedin.com/\"\n",
    "browser.get(linkedin_url)"
   ]
  },
  {
   "cell_type": "code",
   "execution_count": 22,
   "id": "59bd7c8a-d6e3-44ec-9d77-a1d4fa1038be",
   "metadata": {},
   "outputs": [
    {
     "data": {
      "text/plain": [
       "True"
      ]
     },
     "execution_count": 22,
     "metadata": {},
     "output_type": "execute_result"
    }
   ],
   "source": [
    "browser.get_screenshot_as_file('page.png')"
   ]
  },
  {
   "cell_type": "code",
   "execution_count": null,
   "id": "d688a7b2-d69a-4b97-81cb-f4e012a98287",
   "metadata": {},
   "outputs": [],
   "source": [
    "# finding element with text:\n"
   ]
  },
  {
   "cell_type": "code",
   "execution_count": 29,
   "id": "3135ac9d-e95a-4a0d-8dc4-fe02610f4e4a",
   "metadata": {},
   "outputs": [
    {
     "data": {
      "text/plain": [
       "<selenium.webdriver.remote.webelement.WebElement (session=\"cff7df2eb01c6c2398f978c843ab23ab\", element=\"f.E141F0B76D15E9F92B5494B9B0770222.d.28BBDE50BA2B81F46E6EA37794159444.e.14\")>"
      ]
     },
     "execution_count": 29,
     "metadata": {},
     "output_type": "execute_result"
    }
   ],
   "source": [
    "xpath = \"//*[contains(text(), 'Sign in')]\"\n",
    "element = browser.find_element(By.XPATH,xpath)\n",
    "element"
   ]
  },
  {
   "cell_type": "code",
   "execution_count": null,
   "id": "376c77cc-d9ac-4e9b-8d61-887d01afd551",
   "metadata": {},
   "outputs": [],
   "source": []
  },
  {
   "cell_type": "code",
   "execution_count": 5,
   "id": "5ecf8a6c-e850-4f09-b841-349e545d1fff",
   "metadata": {},
   "outputs": [],
   "source": [
    "## opening login screen for linkedin\n",
    "login_url = \"https://www.linkedin.com/login\"\n",
    "browser.get(login_url)"
   ]
  },
  {
   "cell_type": "code",
   "execution_count": 6,
   "id": "3c014634-5e38-4665-804d-5c9e2adae81a",
   "metadata": {},
   "outputs": [],
   "source": [
    "## TODO: \n",
    "## Login: \n",
    "username = \"yeshudatascience@gmail.com\"\n",
    "password = \"Y35#&e@I*ninefour\""
   ]
  },
  {
   "cell_type": "code",
   "execution_count": 7,
   "id": "2139cc19-dca1-4fc0-ab2c-becf036b888a",
   "metadata": {},
   "outputs": [],
   "source": [
    "# identifying an element by id"
   ]
  },
  {
   "cell_type": "code",
   "execution_count": 8,
   "id": "7ef3f336-e92b-4212-afaf-f7dd7a3986ae",
   "metadata": {},
   "outputs": [],
   "source": [
    "elem = browser.find_element(By.ID, \"username\")\n",
    "elem.clear()\n",
    "elem.send_keys(username)"
   ]
  },
  {
   "cell_type": "code",
   "execution_count": 9,
   "id": "2fe8c140-e9ef-4451-9b44-dd73e72f0308",
   "metadata": {},
   "outputs": [],
   "source": [
    "elem = browser.find_element(By.ID, \"password\")\n",
    "elem.clear()\n",
    "elem.send_keys(password)"
   ]
  },
  {
   "cell_type": "code",
   "execution_count": 10,
   "id": "34a637d3-798f-489e-9656-b6d9bd12bb3e",
   "metadata": {},
   "outputs": [],
   "source": [
    "# pressing enter after filling\n",
    "elem.send_keys(Keys.RETURN)"
   ]
  },
  {
   "cell_type": "code",
   "execution_count": null,
   "id": "7497b173-c21a-4970-92a0-29aad4fdefe6",
   "metadata": {},
   "outputs": [],
   "source": []
  },
  {
   "cell_type": "code",
   "execution_count": 6,
   "id": "4f73e660-3023-4bad-a587-c93a98d77545",
   "metadata": {},
   "outputs": [],
   "source": [
    "## Linkedin Sign In :: Single go\n",
    "## Identify remember option :: linkedin has\n",
    "login_url = \"https://www.linkedin.com/login\"\n",
    "browser.get(login_url)\n",
    "\n",
    "username = \"yeshudatascience@gmail.com\"\n",
    "password = \"Y35#&e@I*ninefour\"\n",
    "\n",
    "elem = browser.find_element(By.ID, \"username\")\n",
    "elem.clear()\n",
    "elem.send_keys(username)\n",
    "\n",
    "elem = browser.find_element(By.ID, \"password\")\n",
    "elem.clear()\n",
    "elem.send_keys(password)\n",
    "\n",
    "\n",
    "# pressing enter after filling\n",
    "elem.send_keys(Keys.RETURN)"
   ]
  },
  {
   "cell_type": "code",
   "execution_count": null,
   "id": "cc51574b-9e7e-4820-9040-20701bdc5816",
   "metadata": {},
   "outputs": [],
   "source": []
  },
  {
   "cell_type": "code",
   "execution_count": 11,
   "id": "9b951149-ce25-4427-a2fa-fde9ac6c83ed",
   "metadata": {},
   "outputs": [],
   "source": [
    "# clicking on jobs via xpath\n",
    "## TODO: Remember if xpath selection has issues \n",
    "## navigate to ::> https://www.linkedin.com/jobs/\n",
    "xpath = '//*[@id=\"global-nav\"]/div/nav/ul/li[3]/a'\n",
    "element = browser.find_element(By.XPATH,xpath)"
   ]
  },
  {
   "cell_type": "code",
   "execution_count": 12,
   "id": "026e75ea-ac56-4077-8e54-68ae5df5c9c2",
   "metadata": {},
   "outputs": [
    {
     "data": {
      "text/plain": [
       "'Jobs'"
      ]
     },
     "execution_count": 12,
     "metadata": {},
     "output_type": "execute_result"
    }
   ],
   "source": [
    "element.text"
   ]
  },
  {
   "cell_type": "code",
   "execution_count": 13,
   "id": "e5c0fc31-8a99-456e-af7c-6fd5a3c6bf46",
   "metadata": {},
   "outputs": [],
   "source": [
    "element.click()"
   ]
  },
  {
   "cell_type": "code",
   "execution_count": null,
   "id": "fd67133d-7d6f-4c55-ad61-71fdf2a06d20",
   "metadata": {},
   "outputs": [],
   "source": [
    "# clicking on show all\n",
    "xpath = '//*[@id=\"ember644\"]/div/div/section/div[2]/a/span'\n",
    "element = browser.find_element(By.XPATH,xpath)\n",
    "element.click()"
   ]
  },
  {
   "cell_type": "code",
   "execution_count": null,
   "id": "02bf8d49-1f9f-4125-b2c4-37d7983cd5e8",
   "metadata": {},
   "outputs": [],
   "source": [
    "# clicking minimize messages dialog\n",
    "xpath = '//*[@id=\"ember122\"]'\n",
    "element = browser.find_element(By.XPATH,xpath)\n",
    "element.click()"
   ]
  },
  {
   "cell_type": "code",
   "execution_count": null,
   "id": "9e55b0fb-6e55-4a86-aed8-b3408b5206b8",
   "metadata": {},
   "outputs": [],
   "source": [
    "elem = browser.find_element(By.ID, \"username\")\n",
    "elem"
   ]
  },
  {
   "cell_type": "code",
   "execution_count": null,
   "id": "3162cc9f-3976-4063-b8e1-858cc3d7081e",
   "metadata": {},
   "outputs": [],
   "source": [
    "elem = browser.find_element(By.CLASS_NAME, \"member__profile\")\n",
    "elem"
   ]
  },
  {
   "cell_type": "code",
   "execution_count": null,
   "id": "35e24263-6614-4d4e-b5a3-72ff32a2aa7e",
   "metadata": {},
   "outputs": [],
   "source": []
  },
  {
   "cell_type": "code",
   "execution_count": 54,
   "id": "50472a71-de66-4ad3-9f0a-3668b044764a",
   "metadata": {
    "scrolled": true
   },
   "outputs": [],
   "source": [
    "## Navigated to jobs till now :: In a single go:\n",
    "\n",
    "## steps\n",
    "## open login url\n",
    "## enter username and password\n",
    "## check for remmebering\n",
    "## submit\n",
    "## Click on jobs \n",
    "## minimize messsages dialog\n",
    "\n",
    "login_url = \"https://www.linkedin.com/login\"\n",
    "browser.get(login_url)\n",
    "\n",
    "username = \"yeshudatascience@gmail.com\"\n",
    "password = \"Y35#&e@I*ninefour\"\n",
    "\n",
    "# try for remembered user:\n",
    "try:\n",
    "    elem = browser.find_element(By.ID, \"username\")\n",
    "    elem.clear()\n",
    "    elem.send_keys(username)\n",
    "except:\n",
    "    elem = browser.find_element(By.CLASS_NAME, \"member__profile\")\n",
    "     \n",
    "elem = browser.find_element(By.ID, \"password\")\n",
    "elem.clear()\n",
    "elem.send_keys(password)\n",
    "\n",
    "\n",
    "# pressing enter after filling\n",
    "elem.send_keys(Keys.RETURN)\n",
    "\n",
    "\n",
    "## TODO: Remember if xpath selection has issues \n",
    "## navigate to ::> https://www.linkedin.com/jobs/\n",
    "xpath = '//*[@id=\"global-nav\"]/div/nav/ul/li[3]/a'\n",
    "element = browser.find_element(By.XPATH,xpath)\n",
    "\n",
    "## element.text\n",
    "element.click()\n",
    "\n",
    "time.sleep(3)\n",
    "\n",
    "# clicking on show all\n",
    "classname = \"discovery-templates-vertical-list__footer\"\n",
    "element = browser.find_element(By.CLASS_NAME,classname)\n",
    "element.click()\n",
    "\n",
    "time.sleep(2)\n",
    "\n",
    "# minimize messages dialogue\n",
    "xpath = '//*[@id=\"ember122\"]'\n",
    "element = browser.find_element(By.XPATH,xpath)\n",
    "element.click()\n",
    "\n"
   ]
  },
  {
   "cell_type": "code",
   "execution_count": 19,
   "id": "da9b4812-b63b-44a2-9670-9fdce1ca653e",
   "metadata": {},
   "outputs": [],
   "source": [
    "xpath = '//*[@id=\"ember430\"]/div/div/section/div[2]/a'\n",
    "element = browser.find_element(By.XPATH,xpath)\n",
    "element.click()\n"
   ]
  },
  {
   "cell_type": "code",
   "execution_count": null,
   "id": "5d4361c5-9f32-444d-bef3-033e3895678a",
   "metadata": {},
   "outputs": [],
   "source": [
    "### Now apply jobs => Automate !! "
   ]
  },
  {
   "cell_type": "code",
   "execution_count": null,
   "id": "b615c277-ecca-4e8c-9dbc-b276d8e77165",
   "metadata": {},
   "outputs": [],
   "source": []
  },
  {
   "cell_type": "code",
   "execution_count": null,
   "id": "c2d8eb8f-de45-44f9-9964-804bfbaf7bfe",
   "metadata": {},
   "outputs": [],
   "source": [
    "### Selinium\n",
    "\n",
    "### click => 45,65 - 50, 70\n",
    "\n",
    "### Vision based tools\n",
    "\n",
    "# go to pixe => 48,67\n",
    "# left click"
   ]
  },
  {
   "cell_type": "code",
   "execution_count": null,
   "id": "335fee74-223c-4dda-80ca-a195ab77c74a",
   "metadata": {},
   "outputs": [],
   "source": [
    "Tool => selinium\n",
    "Reasoing => LLama 3.2 11B Vision model\n",
    "RAG => Resume + general + roles specific questions => QnA\n",
    "\n",
    "=> linkedin job application"
   ]
  },
  {
   "cell_type": "code",
   "execution_count": null,
   "id": "87c5de2f-53d8-4e84-b193-6c0bfafbf544",
   "metadata": {},
   "outputs": [],
   "source": [
    "Resume => QnA => How many years of work experience do you have with Quant? => 5 \n",
    "Pre-questio => \"what is your expected Salary?\" 4500000\n",
    "            What is your Official Notice Period?\n",
    "                15\n",
    "            How many years of work experience do you have with IT Integration?\n",
    "            7"
   ]
  },
  {
   "cell_type": "code",
   "execution_count": null,
   "id": "ac27cabf-8417-4356-a9c9-d82a7e017e9e",
   "metadata": {},
   "outputs": [],
   "source": [
    "UI \n",
    "    => Upload resume\n",
    "    => Question and answer \n",
    "        Question\n",
    "        Anwer => User enters the text\n",
    "        \n"
   ]
  },
  {
   "cell_type": "code",
   "execution_count": null,
   "id": "ec711785-f3ec-4fd0-8cfb-b7bbd75ea9e3",
   "metadata": {},
   "outputs": [],
   "source": [
    "\"\"\"\n",
    "Steps 1: Login\n",
    "\n",
    "1. Open into linkedin.com\n",
    "2. Open linkedin.com/login\n",
    "3. Enter creds\n",
    "4. Press submit\n",
    "\n",
    "\"\"\""
   ]
  },
  {
   "cell_type": "code",
   "execution_count": 31,
   "id": "4829401e-b861-4c76-9d02-bc075dbdffb8",
   "metadata": {},
   "outputs": [],
   "source": [
    "login_url = \"https://www.linkedin.com/login\"\n",
    "browser.get(login_url)\n",
    "\n",
    "username = \"yeshudatascience@gmail.com\"\n",
    "password = \"Y35#&e@I*ninefour\"\n",
    "\n",
    "# try for remembered user:\n",
    "try:\n",
    "    elem = browser.find_element(By.ID, \"username\")\n",
    "    elem.clear()\n",
    "    elem.send_keys(username)\n",
    "except:\n",
    "    elem = browser.find_element(By.CLASS_NAME, \"member__profile\")\n",
    "     \n",
    "elem = browser.find_element(By.ID, \"password\")\n",
    "elem.clear()\n",
    "elem.send_keys(password)\n",
    "\n",
    "\n",
    "# pressing enter after filling\n",
    "elem.send_keys(Keys.RETURN)"
   ]
  },
  {
   "cell_type": "code",
   "execution_count": null,
   "id": "b663a89d-9984-4904-a864-02dc3a2365b2",
   "metadata": {},
   "outputs": [],
   "source": [
    "\"\"\"\n",
    "Steps 2: Get to required jobs page\n",
    "\n",
    "1. Click on Jobs\n",
    "2. Click on Show all\n",
    "3. Filters =>Click on Easy Apply\n",
    "\n",
    "Refresh once or twice\n",
    "\"\"\""
   ]
  },
  {
   "cell_type": "code",
   "execution_count": 7,
   "id": "2724dc04-4447-4f3d-979b-4fb844760c76",
   "metadata": {},
   "outputs": [],
   "source": [
    "# Going to jobs url page : kind of restarting the process of filling: \n",
    "login_url = \"https://www.linkedin.com/jobs\"\n",
    "browser.get(login_url)"
   ]
  },
  {
   "cell_type": "code",
   "execution_count": null,
   "id": "c26a5b0d-487c-4c2a-a2d4-257a63c6e44c",
   "metadata": {},
   "outputs": [],
   "source": [
    "xpath = \"//*[text()='Jobs']\"\n",
    "element = browser.find_element(By.XPATH,xpath)\n",
    "\n",
    "element.click()\n",
    "\n",
    "xpath = \"//*[text()='Show all']\"\n",
    "element = browser.find_element(By.XPATH,xpath)\n",
    "element\n",
    "\n",
    "element.click()\n",
    "\n",
    "xpath = \"//*[text()='Easy Apply']\"\n",
    "element = browser.find_element(By.XPATH,xpath)\n",
    "element\n",
    "\n",
    "browser.refresh()\n"
   ]
  },
  {
   "cell_type": "code",
   "execution_count": 8,
   "id": "4115c3c8-7171-4c25-9b1e-6e131dbe3c82",
   "metadata": {},
   "outputs": [],
   "source": [
    "xpath = \"//*[text()='Show all']\"\n",
    "element = browser.find_element(By.XPATH,xpath)\n",
    "element\n",
    "\n",
    "element.click()\n"
   ]
  },
  {
   "cell_type": "code",
   "execution_count": 9,
   "id": "cf0a84a7-d8d1-4ef8-8629-39f72bcdcbd1",
   "metadata": {},
   "outputs": [],
   "source": [
    "xpath = \"//*[text()='Easy Apply']\"\n",
    "element = browser.find_element(By.XPATH,xpath)\n",
    "element.click()\n",
    "\n"
   ]
  },
  {
   "cell_type": "code",
   "execution_count": 238,
   "id": "a06145b7-f9a8-423d-9dc5-ce301725b3ad",
   "metadata": {},
   "outputs": [],
   "source": [
    "browser.refresh()"
   ]
  },
  {
   "cell_type": "code",
   "execution_count": null,
   "id": "7c29cc0c-36d5-4207-8998-498107eca6b5",
   "metadata": {},
   "outputs": [],
   "source": [
    "## For analytics ::\n",
    "# Get a screenshot \n",
    "# save it jobs list page\n",
    "\n"
   ]
  },
  {
   "cell_type": "code",
   "execution_count": 66,
   "id": "da78072d-b980-400a-bdc4-1a4f799be612",
   "metadata": {},
   "outputs": [
    {
     "data": {
      "text/plain": [
       "True"
      ]
     },
     "execution_count": 66,
     "metadata": {},
     "output_type": "execute_result"
    }
   ],
   "source": [
    "browser.get_screenshot_as_file('jobs_list_page.png')"
   ]
  },
  {
   "cell_type": "code",
   "execution_count": null,
   "id": "b463f83d-cf20-4861-ae79-5fef3f1e0428",
   "metadata": {},
   "outputs": [],
   "source": []
  },
  {
   "cell_type": "code",
   "execution_count": 67,
   "id": "ae2f24d0-5793-4426-b672-1e6ddb49e387",
   "metadata": {},
   "outputs": [],
   "source": [
    "## Now iterative apply each job application ::"
   ]
  },
  {
   "cell_type": "code",
   "execution_count": null,
   "id": "13da7670-414f-49be-8ce6-90496bd387ce",
   "metadata": {},
   "outputs": [],
   "source": [
    "\"\"\"\n",
    "Steps: \n",
    "\n",
    "1. Identify job container \n",
    "2. Get all the job elements\n",
    "3. Iterative to all elements\n",
    "4. click each one\n",
    "5. Apply\n",
    "report | Save\n",
    "6. Get the page links\n",
    "7. Click Next page\n",
    "8. Repeast 2 to 5\n",
    "\n",
    "\"\"\""
   ]
  },
  {
   "cell_type": "code",
   "execution_count": null,
   "id": "73d93d76-8d4f-48ee-9456-7ad360828ad7",
   "metadata": {},
   "outputs": [],
   "source": [
    "jobs_list_container_classname = \"scaffold-layout__list-container\"\n",
    "jobs_list_container = browser.find_element(By.CLASS_NAME,jobs_list_container_classname)\n",
    "\n",
    "job_elements = jobs_list_container.find_elements(By.XPATH, \"./*\")\n",
    "\n",
    "## iterate to each job element:\n",
    "for job in job_element:\n",
    "    job.click()\n",
    "\n",
    "    ## Apply\n",
    "\n",
    "# Go to next page ::\n",
    "# jobs page numbers list\n",
    "jobs_pagenumber_list_container_classname = \"artdeco-pagination__pages \"\n",
    "jobs_pagenumber_list_container = browser.find_element(By.CLASS_NAME,jobs_pagenumber_list_container_classname)\n",
    "\n",
    "page_numbers_elements_list = jobs_pagenumber_list_container.find_elements(By.XPATH, \"./*\")\n",
    "\n",
    "page_numbers_elements_list[2].text\n"
   ]
  },
  {
   "cell_type": "code",
   "execution_count": 9,
   "id": "13be4e39-61d4-475d-990d-e01ab18b596a",
   "metadata": {},
   "outputs": [],
   "source": [
    "jobs_list_container_classname = \"scaffold-layout__list-container\"\n",
    "jobs_list_container = browser.find_element(By.CLASS_NAME,jobs_list_container_classname)\n",
    "\n",
    "job_elements = jobs_list_container.find_elements(By.XPATH, \"./*\")"
   ]
  },
  {
   "cell_type": "code",
   "execution_count": 10,
   "id": "075ebfef-8745-43b4-8946-60360ca37307",
   "metadata": {},
   "outputs": [
    {
     "data": {
      "text/plain": [
       "25"
      ]
     },
     "execution_count": 10,
     "metadata": {},
     "output_type": "execute_result"
    }
   ],
   "source": [
    "len(job_elements)"
   ]
  },
  {
   "cell_type": "code",
   "execution_count": 415,
   "id": "f3f03270-8928-41fa-b443-431e33fa3847",
   "metadata": {},
   "outputs": [
    {
     "name": "stdout",
     "output_type": "stream",
     "text": [
      "AI Agent Ops Engineer\n",
      "AI Agent Ops Engineer\n",
      "Expedite Commerce\n",
      "India (Remote)\n",
      "Viewed\n",
      "15 applicants\n",
      "Easy Apply\n",
      "-\n"
     ]
    }
   ],
   "source": [
    "for job in job_elements:\n",
    "    if \"Applied\" not in job.text:\n",
    "        print(job.text)\n",
    "        print(\"-\")\n",
    "        job.click()\n",
    "        break"
   ]
  },
  {
   "cell_type": "code",
   "execution_count": null,
   "id": "cf9cf856-6660-4ca0-860d-95a9263e7d23",
   "metadata": {},
   "outputs": [],
   "source": []
  },
  {
   "cell_type": "code",
   "execution_count": null,
   "id": "53292713-f4db-4cfd-818a-8925046075e8",
   "metadata": {},
   "outputs": [],
   "source": []
  },
  {
   "cell_type": "code",
   "execution_count": 116,
   "id": "feb3d0ad-ebe7-4c85-93ca-7d45f9abcbca",
   "metadata": {},
   "outputs": [],
   "source": [
    "## Apply ::"
   ]
  },
  {
   "cell_type": "code",
   "execution_count": 170,
   "id": "401e891f-3688-4f7a-9c69-8ecce0cc0154",
   "metadata": {},
   "outputs": [],
   "source": [
    "## Step 1: click easy apply"
   ]
  },
  {
   "cell_type": "code",
   "execution_count": 303,
   "id": "58efb458-a198-4590-9815-8f6760b80359",
   "metadata": {},
   "outputs": [],
   "source": [
    "## Getting inside job details:\n",
    "job_details_container_class = \"job-view-layout\" \n",
    "jobs_details_container = browser.find_element(By.CLASS_NAME,job_details_container_class)"
   ]
  },
  {
   "cell_type": "code",
   "execution_count": 304,
   "id": "906cb3b0-1ecf-4578-971d-e7da92991974",
   "metadata": {},
   "outputs": [
    {
     "data": {
      "text/plain": [
       "<selenium.webdriver.remote.webelement.WebElement (session=\"703d73b3f8a675e134db33fbca29041a\", element=\"f.CEACB1F5A4FDB18EB883411C029FA06C.d.B6054495FE6986B6E01426F810776C6D.e.891\")>"
      ]
     },
     "execution_count": 304,
     "metadata": {},
     "output_type": "execute_result"
    }
   ],
   "source": [
    "# Get to Easy Apply:\n",
    "# click \n",
    "xpath = \"//span[text()='Easy Apply']\"\n",
    "element = jobs_details_container.find_element(By.XPATH,xpath)\n",
    "element"
   ]
  },
  {
   "cell_type": "code",
   "execution_count": 305,
   "id": "9ca92cdd-0a77-4d5c-8540-ac463f833cf5",
   "metadata": {},
   "outputs": [
    {
     "data": {
      "text/plain": [
       "'Easy Apply'"
      ]
     },
     "execution_count": 305,
     "metadata": {},
     "output_type": "execute_result"
    }
   ],
   "source": [
    "element.text"
   ]
  },
  {
   "cell_type": "code",
   "execution_count": 245,
   "id": "ebcff48c-daac-402c-873b-03444e8e61af",
   "metadata": {},
   "outputs": [],
   "source": [
    "element.click()"
   ]
  },
  {
   "cell_type": "code",
   "execution_count": 246,
   "id": "7e4c37c2-c6fd-4804-ab88-fcf0ba929801",
   "metadata": {},
   "outputs": [],
   "source": [
    "browser.execute_script(\"arguments[0].click();\", element)"
   ]
  },
  {
   "cell_type": "code",
   "execution_count": 442,
   "id": "62879a21-5bbb-4e9c-a8a6-a9bff3419579",
   "metadata": {},
   "outputs": [],
   "source": [
    "\n",
    "element_class = \"artdeco-button__text\"\n",
    "element = browser.find_element(By.CLASS_NAME,element_class)\n"
   ]
  },
  {
   "cell_type": "code",
   "execution_count": 443,
   "id": "13e19f8d-ca1f-448e-9635-1350a1c3529b",
   "metadata": {},
   "outputs": [
    {
     "data": {
      "text/plain": [
       "(84, 14)"
      ]
     },
     "execution_count": 443,
     "metadata": {},
     "output_type": "execute_result"
    }
   ],
   "source": [
    "element.location['x'], element.location['y']"
   ]
  },
  {
   "cell_type": "code",
   "execution_count": null,
   "id": "1f3ece41-1f6f-4a39-9cfc-a0af245da125",
   "metadata": {
    "scrolled": true
   },
   "outputs": [],
   "source": [
    "element.click()"
   ]
  },
  {
   "cell_type": "code",
   "execution_count": null,
   "id": "7a40fb49-e76e-4968-a226-0a3c5f1c6a7c",
   "metadata": {},
   "outputs": [],
   "source": []
  },
  {
   "cell_type": "code",
   "execution_count": null,
   "id": "7401f398-cf00-44f3-9c44-d5b36bee96ac",
   "metadata": {
    "scrolled": true
   },
   "outputs": [],
   "source": [
    "browser.execute_script(\"arguments[0].scrollIntoView();\", element)            \n",
    "\n",
    "element.click()"
   ]
  },
  {
   "cell_type": "code",
   "execution_count": null,
   "id": "b084a62e-25c8-4de8-94b5-4e61dc81df8a",
   "metadata": {},
   "outputs": [],
   "source": []
  },
  {
   "cell_type": "code",
   "execution_count": 333,
   "id": "cbe93a29-e6e1-4c5b-ba58-4054ccd7eaf8",
   "metadata": {},
   "outputs": [],
   "source": [
    "from selenium.webdriver import ActionChains\n",
    "actionChains = ActionChains(browser)\n"
   ]
  },
  {
   "cell_type": "code",
   "execution_count": null,
   "id": "0fe2b401-2abf-4687-9fd7-6e5ac5b21d44",
   "metadata": {
    "scrolled": true
   },
   "outputs": [],
   "source": [
    "action = actionChains.move_to_element_with_offset(job, 50, 10)\n",
    "action.click()\n",
    "action.perform()"
   ]
  },
  {
   "cell_type": "code",
   "execution_count": null,
   "id": "ca7dcf8f-a27e-4816-b473-2d7f7e377ccb",
   "metadata": {},
   "outputs": [],
   "source": []
  },
  {
   "cell_type": "code",
   "execution_count": 496,
   "id": "04e68e40-31a0-45d0-ad62-24d394f2b9b1",
   "metadata": {},
   "outputs": [],
   "source": [
    "from time import sleep\n",
    "from selenium import webdriver\n",
    "from selenium.webdriver import ActionChains\n",
    "from selenium.webdriver.common.actions.action_builder import ActionBuilder\n",
    "\n",
    "\n",
    "# Move to position (64,60) and click() at that position (Note: you will not see your mouse move)\n"
   ]
  },
  {
   "cell_type": "code",
   "execution_count": 362,
   "id": "71b3f0ee-5ce5-4318-aca7-7178b413552b",
   "metadata": {},
   "outputs": [],
   "source": []
  },
  {
   "cell_type": "code",
   "execution_count": 378,
   "id": "074be330-8ff4-4022-8b4c-364ea5781f44",
   "metadata": {},
   "outputs": [],
   "source": [
    "browser.set_window_size(1250,650)"
   ]
  },
  {
   "cell_type": "code",
   "execution_count": null,
   "id": "26043466-be3b-4dd4-9ed2-b648068af622",
   "metadata": {},
   "outputs": [],
   "source": [
    "action = ActionBuilder(browser)\n",
    "action.pointer_action.move_to_location(623, 578)\n",
    "action.pointer_action.click()\n",
    "action.perform()"
   ]
  },
  {
   "cell_type": "code",
   "execution_count": null,
   "id": "802f7c81-9643-4c1a-8318-ad01a7a3bd96",
   "metadata": {
    "scrolled": true
   },
   "outputs": [],
   "source": [
    "\n",
    "for i in range(10):\n",
    "    action = ActionBuilder(browser)\n",
    "    x = 10 * i\n",
    "    y = 450\n",
    "    print(x,y)\n",
    "    action.pointer_action.move_to_location(623, 578)\n",
    "    action.pointer_action.click()\n",
    "    action.perform()\n",
    "    time.sleep(0.5)"
   ]
  },
  {
   "cell_type": "code",
   "execution_count": 495,
   "id": "ea747155-f464-4070-a459-2e605fefe2df",
   "metadata": {},
   "outputs": [],
   "source": [
    "from pynput.mouse import Controller"
   ]
  },
  {
   "cell_type": "code",
   "execution_count": 400,
   "id": "57a2c258-1fa0-4a05-bb67-7d82b132200d",
   "metadata": {},
   "outputs": [],
   "source": [
    "mouse = Controller()"
   ]
  },
  {
   "cell_type": "code",
   "execution_count": 401,
   "id": "ab1621c6-b18f-478e-82f3-be6f9995af6f",
   "metadata": {},
   "outputs": [
    {
     "data": {
      "text/plain": [
       "(0, 523)"
      ]
     },
     "execution_count": 401,
     "metadata": {},
     "output_type": "execute_result"
    }
   ],
   "source": [
    "mouse.position"
   ]
  },
  {
   "cell_type": "code",
   "execution_count": 402,
   "id": "eb55cfa7-a0a7-4879-a76a-1872dc3f55cb",
   "metadata": {},
   "outputs": [
    {
     "data": {
      "text/plain": [
       "(217, 581)"
      ]
     },
     "execution_count": 402,
     "metadata": {},
     "output_type": "execute_result"
    }
   ],
   "source": [
    "mouse.position"
   ]
  },
  {
   "cell_type": "code",
   "execution_count": 493,
   "id": "8bed4cb8-29b5-4108-b4fe-7a32d08257d0",
   "metadata": {},
   "outputs": [
    {
     "name": "stdout",
     "output_type": "stream",
     "text": [
      "(297, 419)\n",
      "(100, 213)\n",
      "(3, 169)\n",
      "(3, 144)\n",
      "(2, 141)\n",
      "(2, 141)\n",
      "(2, 141)\n",
      "(2, 141)\n",
      "(2, 141)\n",
      "(2, 141)\n"
     ]
    }
   ],
   "source": [
    "for i in range(10):\n",
    "    time.sleep(0.5)\n",
    "    print(mouse.position)"
   ]
  },
  {
   "cell_type": "code",
   "execution_count": null,
   "id": "be32fd4f-61ae-4da8-abd2-b47d875cf3b0",
   "metadata": {},
   "outputs": [],
   "source": []
  },
  {
   "cell_type": "code",
   "execution_count": 409,
   "id": "dcbe675a-e9b6-457b-b4c9-d84a99ccf63b",
   "metadata": {},
   "outputs": [],
   "source": [
    "action = ActionBuilder(browser)\n",
    "x = 623\n",
    "y = 578 - 141\n",
    "action.pointer_action.move_to_location(x, y)\n",
    "action.pointer_action.click()\n",
    "action.perform()"
   ]
  },
  {
   "cell_type": "code",
   "execution_count": null,
   "id": "add1280b-3adc-459e-8b08-639430ef057c",
   "metadata": {},
   "outputs": [],
   "source": []
  },
  {
   "cell_type": "code",
   "execution_count": null,
   "id": "5c5bc809-2c30-4e20-a9c6-f166d8534c26",
   "metadata": {
    "scrolled": true
   },
   "outputs": [],
   "source": [
    "## for each job element :: \n",
    "## click on easy apply button with 5 seconds delay ::\n",
    "for job in job_elements:\n",
    "    if \"Applied\" not in job.text:\n",
    "        print(job.text)\n",
    "        print(\"-\")\n",
    "        job.click()\n",
    "        \n",
    "        time.sleep(5)\n",
    "        \n",
    "        ## click on easy apply button\n",
    "        action = ActionBuilder(browser)\n",
    "        x = 623\n",
    "        y = 578 - 141\n",
    "        action.pointer_action.move_to_location(x, y)\n",
    "        action.pointer_action.click()\n",
    "        action.perform()\n",
    "\n",
    "        "
   ]
  },
  {
   "cell_type": "code",
   "execution_count": 527,
   "id": "1f382e7c-71ba-461c-b6a8-5791f726d2ec",
   "metadata": {},
   "outputs": [],
   "source": [
    "i = 6\n",
    "\n",
    "job_elements[i].click()\n"
   ]
  },
  {
   "cell_type": "code",
   "execution_count": 481,
   "id": "f11ff904-7c16-4986-8bc9-744166885b5b",
   "metadata": {},
   "outputs": [
    {
     "data": {
      "text/plain": [
       "<selenium.webdriver.remote.webelement.WebElement (session=\"703d73b3f8a675e134db33fbca29041a\", element=\"f.CEACB1F5A4FDB18EB883411C029FA06C.d.505F42C64413365AECD7A69103C78966.e.3563\")>"
      ]
     },
     "execution_count": 481,
     "metadata": {},
     "output_type": "execute_result"
    }
   ],
   "source": [
    "## Getting inside job details:\n",
    "# job_details_container_class = \"job-view-layout\" \n",
    "# jobs_details_container = browser.find_element(By.CLASS_NAME,job_details_container_class)\n",
    "\n",
    "xpath = \"//span[text()='Easy Apply']\"\n",
    "element = browser.find_element(By.XPATH,xpath)\n",
    "element"
   ]
  },
  {
   "cell_type": "code",
   "execution_count": 482,
   "id": "baa468d2-0269-4a3d-b26b-5f85a4982146",
   "metadata": {},
   "outputs": [
    {
     "data": {
      "text/plain": [
       "(294, 173)"
      ]
     },
     "execution_count": 482,
     "metadata": {},
     "output_type": "execute_result"
    }
   ],
   "source": [
    "element.location['x'], element.location['y']"
   ]
  },
  {
   "cell_type": "code",
   "execution_count": 507,
   "id": "58b52cea-c58d-4dad-9d5d-88f5f458a5f1",
   "metadata": {},
   "outputs": [],
   "source": [
    "action = ActionBuilder(browser)\n",
    "action.pointer_action.move_to_location(620, 437)\n",
    "action.pointer_action.click()\n",
    "action.perform()"
   ]
  },
  {
   "cell_type": "code",
   "execution_count": 466,
   "id": "b207c5e7-b35d-450d-a2d4-d4c45903b320",
   "metadata": {},
   "outputs": [
    {
     "data": {
      "text/plain": [
       "(623, 437)"
      ]
     },
     "execution_count": 466,
     "metadata": {},
     "output_type": "execute_result"
    }
   ],
   "source": [
    "x = 623\n",
    "y = 578 - 141\n",
    "x,y"
   ]
  },
  {
   "cell_type": "raw",
   "id": "acabf500-db07-4ce2-8f47-0b2218fa1418",
   "metadata": {},
   "source": [
    "element coords => 294 173\n",
    "pixel => 623, 437\n",
    "\n",
    "actual => 676, 573"
   ]
  },
  {
   "cell_type": "code",
   "execution_count": null,
   "id": "50d4bb3c-75b4-443c-aee9-c3e7510a4767",
   "metadata": {},
   "outputs": [],
   "source": []
  },
  {
   "cell_type": "code",
   "execution_count": null,
   "id": "bbfe92d4-de08-497c-950d-b547fdf1b7a9",
   "metadata": {},
   "outputs": [],
   "source": []
  },
  {
   "cell_type": "code",
   "execution_count": 422,
   "id": "08ae2966-ec1d-4e8a-b7fb-f6e575f13cd4",
   "metadata": {},
   "outputs": [],
   "source": [
    "\n",
    "(623, 437)"
   ]
  },
  {
   "cell_type": "code",
   "execution_count": 255,
   "id": "c3a5e2ec-2f5d-490e-a46c-b2e74df227ce",
   "metadata": {},
   "outputs": [],
   "source": [
    "browser.refresh()"
   ]
  },
  {
   "cell_type": "code",
   "execution_count": 10,
   "id": "4d80d298-c560-46c3-9029-e85bcbe89c23",
   "metadata": {},
   "outputs": [],
   "source": [
    "from a_selenium_click_on_coords import click_on_coordinates\n",
    "# click_on_coordinates(browser,x=623,y=500, script_timeout=1)"
   ]
  },
  {
   "cell_type": "code",
   "execution_count": 600,
   "id": "be63109e-d649-49e9-b565-6e12d187f113",
   "metadata": {},
   "outputs": [
    {
     "name": "stdout",
     "output_type": "stream",
     "text": [
      "(379, 414)\n",
      "(379, 414)\n",
      "(505, 437)\n",
      "(665, 580)\n",
      "(663, 579)\n",
      "(663, 579)\n",
      "(663, 579)\n",
      "(663, 579)\n",
      "(663, 579)\n",
      "(663, 579)\n"
     ]
    }
   ],
   "source": [
    "for i in range(10):\n",
    "    time.sleep(0.5)\n",
    "    print(mouse.position)"
   ]
  },
  {
   "cell_type": "raw",
   "id": "b3920e94-615d-4bdf-a724-a53cc9a382eb",
   "metadata": {},
   "source": [
    "Mormal ::>\n",
    "(600, 540) -> 727, 540\n",
    "\n",
    "edge ::>\n",
    "(600,500) -> 728, 500"
   ]
  },
  {
   "cell_type": "code",
   "execution_count": null,
   "id": "2bfc06dd-26c4-4ed0-972c-3969b6fcc51a",
   "metadata": {},
   "outputs": [],
   "source": [
    "559, 400"
   ]
  },
  {
   "cell_type": "code",
   "execution_count": 281,
   "id": "d2ee47af-8e1a-43a8-9a42-23fd23c19248",
   "metadata": {},
   "outputs": [],
   "source": [
    "x = 600\n",
    "y = 400"
   ]
  },
  {
   "cell_type": "code",
   "execution_count": 279,
   "id": "bd4a9668-ccd4-4b05-b6df-04df66e30776",
   "metadata": {},
   "outputs": [],
   "source": [
    "# edge case ::\n",
    "x = 600\n",
    "y = 380"
   ]
  },
  {
   "cell_type": "code",
   "execution_count": 302,
   "id": "b7a6a268-db24-497e-ba9c-f8f6836d7140",
   "metadata": {},
   "outputs": [],
   "source": [
    "# edge case ::\n",
    "x = 600\n",
    "y = 430"
   ]
  },
  {
   "cell_type": "code",
   "execution_count": 303,
   "id": "9d08a912-b008-4ffd-944d-5737f4fc98bc",
   "metadata": {},
   "outputs": [
    {
     "data": {
      "text/plain": [
       "<selenium.webdriver.remote.webelement.WebElement (session=\"a3d5c48545aa97c6eceb7137084ff4aa\", element=\"f.AA4EAD8EA83EA4EBDFEEBC5D9980131C.d.7F00EE58FDA9CD8D1D0A4AB5469D8F4B.e.374100\")>"
      ]
     },
     "execution_count": 303,
     "metadata": {},
     "output_type": "execute_result"
    }
   ],
   "source": [
    "from a_selenium_click_on_coords import click_on_coordinates\n",
    "click_on_coordinates(browser,x=x,y=y, script_timeout=1)"
   ]
  },
  {
   "cell_type": "code",
   "execution_count": 612,
   "id": "26942964-2d81-4af6-818a-f35a6f072b2c",
   "metadata": {},
   "outputs": [],
   "source": [
    "i = 20\n",
    "\n",
    "job_elements[i].click()\n"
   ]
  },
  {
   "cell_type": "code",
   "execution_count": 604,
   "id": "a92738d1-219f-47bd-8cf6-5d761ded9939",
   "metadata": {},
   "outputs": [],
   "source": [
    "jobs_list_container_classname = \"scaffold-layout__list-container\"\n",
    "jobs_list_container = browser.find_element(By.CLASS_NAME,jobs_list_container_classname)\n",
    "\n",
    "job_elements = jobs_list_container.find_elements(By.XPATH, \"./*\")"
   ]
  },
  {
   "cell_type": "code",
   "execution_count": null,
   "id": "af77c1a0-2040-42df-8dae-732bab4f36b9",
   "metadata": {},
   "outputs": [],
   "source": []
  },
  {
   "cell_type": "code",
   "execution_count": null,
   "id": "331fe0bd-3c57-4b7e-b020-0b07b49d9973",
   "metadata": {},
   "outputs": [],
   "source": []
  },
  {
   "cell_type": "code",
   "execution_count": null,
   "id": "616c9932-378d-46f9-b5cd-499c34f17202",
   "metadata": {},
   "outputs": [],
   "source": []
  },
  {
   "cell_type": "code",
   "execution_count": 305,
   "id": "99d99acc-1269-4c95-bcd9-2c44f59e3452",
   "metadata": {},
   "outputs": [],
   "source": [
    "# Get button with text next:\n",
    "\n",
    "xpath = \"//*[text()='Next']\"\n",
    "element = browser.find_element(By.XPATH,xpath)\n",
    "element.click()"
   ]
  },
  {
   "cell_type": "code",
   "execution_count": 306,
   "id": "ab838c62-90a5-4cd7-831a-66caa8d482d8",
   "metadata": {
    "scrolled": true
   },
   "outputs": [],
   "source": [
    "xpath = \"//*[text()='Review']\"\n",
    "element = browser.find_element(By.XPATH,xpath)\n",
    "element.click()"
   ]
  },
  {
   "cell_type": "code",
   "execution_count": 307,
   "id": "6bc0d179-dbf1-4d4e-b63b-5cfec605dbf5",
   "metadata": {
    "scrolled": true
   },
   "outputs": [],
   "source": [
    "xpath = \"//*[text()='Submit application']\"\n",
    "element = browser.find_element(By.XPATH,xpath)\n",
    "element.click()"
   ]
  },
  {
   "cell_type": "code",
   "execution_count": 237,
   "id": "a4274efe-5c8a-4e98-b5d3-3b062e356148",
   "metadata": {},
   "outputs": [],
   "source": [
    "xpath = \"//*[text()='Done']\"\n",
    "element = browser.find_element(By.XPATH,xpath)\n",
    "element.click()"
   ]
  },
  {
   "cell_type": "code",
   "execution_count": 300,
   "id": "3f490c10-a6a2-4486-b8ec-625d4631a205",
   "metadata": {},
   "outputs": [],
   "source": [
    "## dismiss dialogue:\n",
    "xpath = \"//button[@aria-label='Dismiss']\"\n",
    "element = browser.find_element(By.XPATH,xpath)\n",
    "element.click()"
   ]
  },
  {
   "cell_type": "code",
   "execution_count": null,
   "id": "79f0d6bb-7685-4361-8cc6-848a103453d4",
   "metadata": {},
   "outputs": [],
   "source": []
  },
  {
   "cell_type": "code",
   "execution_count": null,
   "id": "f0a19079-1b00-40a7-9c9b-fe464a6fb202",
   "metadata": {},
   "outputs": [],
   "source": []
  },
  {
   "cell_type": "code",
   "execution_count": null,
   "id": "65114d03-fc6a-4db4-bb4f-8d3e6d76719d",
   "metadata": {},
   "outputs": [],
   "source": []
  },
  {
   "cell_type": "code",
   "execution_count": 231,
   "id": "b1ca9bd2-3227-4f45-97ae-3736a2b0f350",
   "metadata": {},
   "outputs": [],
   "source": [
    "# Extracting question: \n",
    "form = browser.find_element(By.TAG_NAME,\"form\")"
   ]
  },
  {
   "cell_type": "code",
   "execution_count": 232,
   "id": "b137a879-1bcc-4772-86d1-6846c3baede7",
   "metadata": {},
   "outputs": [],
   "source": [
    "tagname = \"label\"\n",
    "labels = form.find_elements(By.TAG_NAME,tagname)\n"
   ]
  },
  {
   "cell_type": "code",
   "execution_count": 233,
   "id": "6ad08679-86cc-4420-9372-e6edf61d8461",
   "metadata": {},
   "outputs": [
    {
     "data": {
      "text/plain": [
       "6"
      ]
     },
     "execution_count": 233,
     "metadata": {},
     "output_type": "execute_result"
    }
   ],
   "source": [
    "len(labels)"
   ]
  },
  {
   "cell_type": "code",
   "execution_count": 234,
   "id": "99b4e380-7850-4340-94b3-f114e7fd970f",
   "metadata": {
    "scrolled": true
   },
   "outputs": [
    {
     "name": "stdout",
     "output_type": "stream",
     "text": [
      "How many years of experience do you have as a AI Agent Developer?\n",
      "Do you have experience with Cloning an existing AI agent architecture?\n",
      "How many years of experience do you have with AWS?\n",
      "How many years of experience do you have as an AI/ML Developer?\n",
      "What is your notice period?\n",
      "What is your current CTC?\n"
     ]
    }
   ],
   "source": [
    "for label in labels:\n",
    "    print(label.text)"
   ]
  },
  {
   "cell_type": "raw",
   "id": "0cef6f51-1aa2-43f5-9476-1310930de089",
   "metadata": {},
   "source": [
    "How many years of experience do you have as a AI Agent Developer?\n",
    "Do you have experience with Cloning an existing AI agent architecture?\n",
    "How many years of experience do you have with AWS?\n",
    "How many years of experience do you have as an AI/ML Developer?\n",
    "What is your notice period?\n",
    "What is your current CTC?"
   ]
  },
  {
   "cell_type": "code",
   "execution_count": 136,
   "id": "a4b02b80-9e0c-430c-a25d-b9c72cc7f741",
   "metadata": {},
   "outputs": [
    {
     "data": {
      "text/plain": [
       "23"
      ]
     },
     "execution_count": 136,
     "metadata": {},
     "output_type": "execute_result"
    }
   ],
   "source": [
    "tagname = \"input\"\n",
    "inputs = form.find_elements(By.TAG_NAME,tagname)\n",
    "len(inputs)"
   ]
  },
  {
   "cell_type": "code",
   "execution_count": 179,
   "id": "1da6374c-ab60-4123-aabc-d34355b0f2dc",
   "metadata": {},
   "outputs": [],
   "source": [
    "qnas = [\n",
    "    {\"question\":\"Have you designed, developed and deployed at least 2-3 agent based Agent frameworks solutions into Production?Have you designed, developed and deployed at least 2-3 agent based Agent frameworks solutions into Production?\",\n",
    "    \"answer\":\"yes\"},\n",
    "    {\"question\":\"address\",\n",
    "    \"answer\":\"Jubilee Hills, Hyderabad,Telangana. 500033\"},\n",
    "    {\"question\":\"How many years of work experience do you have with Jira?\",\n",
    "    \"answer\":\"3\"},\n",
    "    {\"question\":\"How many years of work experience do you have with Python (Programming Language)?\",\n",
    "    \"answer\":\"7\"},\n",
    "    {\"question\":\"How many years of work experience do you have with Large Language Models (LLM)?\",\n",
    "    \"answer\":\"3\"},\n",
    "    {\n",
    "        \"question\":\"What is your current Expected CTC in INR Lakhs?\",\n",
    "        \"answer\":\"45\"\n",
    "    },\n",
    "    {\n",
    "        \"question\":\"What is your current CTC in INR Lakhs?\",\n",
    "        \"answer\":\"40\"\n",
    "    },\n",
    "    {\n",
    "        \"question\":\"Do you have past experience working for Startups?\",\n",
    "        \"answer\":\"yes\"\n",
    "    },\n",
    "    {\n",
    "        \"question\":\"How soon you can join us if offered?\",\n",
    "        \"answer\":\"0\"\n",
    "    },\n",
    "    {\n",
    "        \"question\":\"Do you have 1-2 years of hands-on experience specifically in NLP solution development?Do you have 1-2 years of hands-on experience specifically in NLP solution development?\",\n",
    "        \"answer\":\"yes\"\n",
    "    },\n",
    "    {\n",
    "        \"question\":\"Have you developed and deployed at least 2-3 agent based NLP solutions into Production?\",\n",
    "        \"answer\":\"yes\"\n",
    "    },\n",
    "    {\n",
    "        \"question\":\"Rate your proficiency in Python 3.10 onwards.\",\n",
    "        \"answer\":\"9.5\"\n",
    "    },\n",
    "    {\n",
    "        \"question\":\"How many years of experience in Agent system evaluation and continual improvement approaches and their deployment into production?\",\n",
    "        \"answer\":\"3\"\n",
    "    },\n",
    "    {\n",
    "        \"question\":\"Do you have agent based solution Production deployment experience with AWS Bedrock, Anthropic and Open AI Assistant?\",\n",
    "        \"answer\":\"yes\"\n",
    "    },\n",
    "    {\n",
    "        \"question\":\"Have you developed a Lambda layer and deployed it into the Production environment?\",\n",
    "        \"answer\":\"yes\"\n",
    "    },\n",
    "    {\n",
    "        \"question\":\"Have you implemented a lambda container/Sagemake Endpoint as part of local model deployment?\",\n",
    "        \"answer\":\"yes\"\n",
    "    },\n",
    "    {\n",
    "        \"question\":\"Do you have experience of IAC for deploying such agent based solutions?Do you have experience of IAC for deploying such agent based solutions?\",\n",
    "        \"answer\":\"yes\"\n",
    "    },\n",
    "    {\n",
    "        \"question\":\"Do you have at least 1 year of development experience in AWS Services S3, Lambda, SQS, DDB, Kinesis?Do you have at least 1 year of development experience in AWS Services S3, Lambda, SQS, DDB, Kinesis?\",\n",
    "        \"answer\":\"yes\"\n",
    "    },\n",
    "    {\n",
    "        \"question\":\"Have you contributed to Open source/kaggle?Have you contributed to Open source/kaggle?\",\n",
    "        \"answer\":\"yes\"\n",
    "    },\n",
    "    {\n",
    "        \"question\":\"Is your notice period 30 days or less?Is your notice period 30 days or less?\",\n",
    "        \"answer\":\"yes\"\n",
    "    },\n",
    "    {\n",
    "        \"question\":\"How many years of experience in Agent system evaluation and continual improvement approaches and their deployment into production?\",\n",
    "        \"answer\":\"3\"\n",
    "    },\n",
    "    {\n",
    "        \"question\":\"Rate your proficiency in Python 3.10 onwards.\",\n",
    "        \"answer\":\"3.5\"\n",
    "    },\n",
    "    {\n",
    "        \"question\":\"Expected Annual Compensation\",\n",
    "        \"answer\":\"4500000\"\n",
    "    },\n",
    "    {\n",
    "        \"question\":\"Current Annual Compensation\",\n",
    "        \"answer\":\"4000000\"\n",
    "    },\n",
    "    {\n",
    "        \"question\":\"Notice Period (in days)\",\n",
    "        \"answer\":\"7\"\n",
    "    },\n",
    "    {\n",
    "        \"question\":\"How many years of work experience do you have with AI Software Development?\",\n",
    "        \"answer\": \"7\",\n",
    "    },\n",
    "    {\n",
    "        \"question\":'How many years of work experience do you have with Artificial Intelligence (AI)?',\n",
    "        \"answer\":\"7\"\n",
    "    },\n",
    "        {\n",
    "        \"question\": \"How many years of work experience do you have with Generative AI?\",\n",
    "        \"answer\": \"3\"\n",
    "        },\n",
    "        {\n",
    "        \"question\": \"How many years of work experience do you have with Custom GPTs?\",\n",
    "        \"answer\": \"3\"\n",
    "        },\n",
    "        {\n",
    "        \"question\": \"How many years of work experience do you have with LangChain?\",\n",
    "        \"answer\": \"3\"\n",
    "        },\n",
    "        {\n",
    "        \"question\": \"Experience on RAG systems\",\n",
    "        \"answer\": \"3\"\n",
    "    },\n",
    "        {\n",
    "        \"question\": \"Experience on GraphQL\",\n",
    "        \"answer\": \"5\"\n",
    "    },\n",
    "        {\n",
    "        \"question\": \"Extensive expertise in Natural Language Processing (NLP)\" ,\n",
    "        \"answer\": \"7\"\n",
    "    },\n",
    "    {\n",
    "        \"question\":'How many years of work experience do you have with Python (Programming Language)?',\n",
    "        \"answer\":\"7\"\n",
    "    },\n",
    "    {\n",
    "        \"question\":'How many years of work experience do you have with Healthcare?',\n",
    "        \"answer\":\"5\"\n",
    "    }\n",
    "    \n",
    "    ]"
   ]
  },
  {
   "cell_type": "code",
   "execution_count": 101,
   "id": "6d01173a-4210-4413-adaa-4a1a1bfb4579",
   "metadata": {},
   "outputs": [],
   "source": [
    "def getAnswer(question):\n",
    "    global qnas\n",
    "    for obj in qnas: \n",
    "        if obj['question'] == question:\n",
    "            return obj['answer']\n",
    "    return \"\"\n"
   ]
  },
  {
   "cell_type": "code",
   "execution_count": 102,
   "id": "1d41d309-bc07-419d-a628-179b333cf00f",
   "metadata": {},
   "outputs": [
    {
     "name": "stdout",
     "output_type": "stream",
     "text": [
      "Question:  How many years of work experience do you have with Artificial Intelligence (AI)?\n",
      "Answer:  7\n",
      "\n",
      "Question:  How many years of work experience do you have with AI Software Development?\n",
      "Answer:  7\n",
      "\n"
     ]
    }
   ],
   "source": [
    "## Extracting answers ::\n",
    "for label,input in zip(labels,inputs):\n",
    "    \n",
    "    question = label.text\n",
    "    # get Answer\n",
    "    answer = getAnswer(question)\n",
    "    print(\"Question: \",question)\n",
    "    print(\"Answer: \",answer)\n",
    "    print(\"\")"
   ]
  },
  {
   "cell_type": "code",
   "execution_count": 103,
   "id": "fb468f2d-1043-45e9-8f68-04818cc388fc",
   "metadata": {},
   "outputs": [],
   "source": [
    "# Filling up::\n",
    "\n",
    "\n",
    "for label,input_label in zip(labels,inputs):\n",
    "    \n",
    "    question = label.text\n",
    "    # get Answer\n",
    "    answer = getAnswer(question)\n",
    "    input_label.clear()\n",
    "    input_label.send_keys(answer)"
   ]
  },
  {
   "cell_type": "code",
   "execution_count": 73,
   "id": "cd01f5b9-4c86-4f1e-8b2c-37b9e3154b93",
   "metadata": {},
   "outputs": [],
   "source": []
  },
  {
   "cell_type": "code",
   "execution_count": null,
   "id": "e50efeff-a2cf-4614-85eb-a037ceae53b7",
   "metadata": {},
   "outputs": [],
   "source": []
  }
 ],
 "metadata": {
  "kernelspec": {
   "display_name": "Python 3 (ipykernel)",
   "language": "python",
   "name": "python3"
  },
  "language_info": {
   "codemirror_mode": {
    "name": "ipython",
    "version": 3
   },
   "file_extension": ".py",
   "mimetype": "text/x-python",
   "name": "python",
   "nbconvert_exporter": "python",
   "pygments_lexer": "ipython3",
   "version": "3.10.14"
  }
 },
 "nbformat": 4,
 "nbformat_minor": 5
}
