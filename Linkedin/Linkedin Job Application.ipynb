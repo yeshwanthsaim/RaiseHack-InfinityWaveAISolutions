{
 "cells": [
  {
   "cell_type": "code",
   "execution_count": null,
   "id": "7fc52ca5-b55f-4f39-895f-bf8d9b30549b",
   "metadata": {},
   "outputs": [],
   "source": []
  },
  {
   "cell_type": "code",
   "execution_count": 3,
   "id": "810e4ead-e530-48e4-9604-ededa5cc2c8b",
   "metadata": {},
   "outputs": [],
   "source": [
    "# libraries :: Selenium\n",
    "\n",
    "from selenium import webdriver\n",
    "from selenium.webdriver.common.action_chains import ActionChains\n",
    "from selenium.webdriver.chrome.service import Service\n",
    "\n",
    "from selenium import webdriver\n",
    "from selenium.webdriver.common.by import By\n",
    "from selenium.webdriver.common.keys import Keys\n",
    "from selenium.webdriver.chrome.options import Options\n",
    "\n",
    "from selenium import webdriver\n",
    "from webdriver_manager.chrome import ChromeDriverManager as CM\n",
    "from selenium.webdriver.support.ui import WebDriverWait\n",
    "from selenium.webdriver.support import expected_conditions as EC\n",
    "\n"
   ]
  },
  {
   "cell_type": "code",
   "execution_count": 4,
   "id": "509f729e-eba5-4646-b0e4-cbc2ca2c7cfc",
   "metadata": {},
   "outputs": [],
   "source": [
    "# libraries :: Other helpers\n",
    "import time\n",
    "import pandas as pd\n",
    "import re\n",
    "import tqdm\n",
    "import os"
   ]
  },
  {
   "cell_type": "code",
   "execution_count": 5,
   "id": "1469e666-264f-4758-987e-cba56f4a1f64",
   "metadata": {},
   "outputs": [],
   "source": [
    "## Initiating browser :> \n",
    "# New way :>\n",
    "chrome_options = Options()\n",
    "\n",
    "# Use WebDriverManager to handle driver installation\n",
    "service = Service(executable_path=CM().install())\n",
    "browser = webdriver.Chrome(service=service, options=chrome_options)"
   ]
  },
  {
   "cell_type": "code",
   "execution_count": 7,
   "id": "a8878db0-d3f2-417e-b5ce-f656186058d4",
   "metadata": {},
   "outputs": [],
   "source": [
    "browser.maximize_window()"
   ]
  },
  {
   "cell_type": "markdown",
   "id": "5507c1d6-7037-408b-8329-9512270823b4",
   "metadata": {},
   "source": [
    "#### Login"
   ]
  },
  {
   "cell_type": "code",
   "execution_count": 6,
   "id": "e1f93884-cbfb-4ee6-b7be-16640c629aa3",
   "metadata": {},
   "outputs": [],
   "source": [
    "## Login credentials: \n",
    "username = \"yeshudatascience@gmail.com\"\n",
    "password = \"Y35#&e@I*ninefour\""
   ]
  },
  {
   "cell_type": "code",
   "execution_count": 8,
   "id": "4af59989-fb25-49ce-972d-43f738d35999",
   "metadata": {},
   "outputs": [],
   "source": [
    "# login auto :>\n",
    "linkedin_url = \"https://www.linkedin.com/\"\n",
    "browser.get(linkedin_url)\n",
    "\n",
    "time.sleep(2)\n",
    "\n",
    "time.sleep(5)\n",
    "# Linkedin Login:\n",
    "## Linkedin Sign In :: Single go\n",
    "## Identify remember option :: linkedin has\n",
    "login_url = \"https://www.linkedin.com/login\"\n",
    "browser.get(login_url)\n",
    "\n",
    "username = \"yeshudatascience@gmail.com\"\n",
    "password = \"Y35#&e@I*ninefour\"\n",
    "\n",
    "elem = browser.find_element(By.ID, \"username\")\n",
    "elem.clear()\n",
    "elem.send_keys(username)\n",
    "\n",
    "elem = browser.find_element(By.ID, \"password\")\n",
    "elem.clear()\n",
    "elem.send_keys(password)\n",
    "\n",
    "# pressing enter after filling\n",
    "elem.send_keys(Keys.RETURN)\n"
   ]
  },
  {
   "cell_type": "code",
   "execution_count": null,
   "id": "9fae3f1e-84d6-448d-9354-c1d05a66246f",
   "metadata": {},
   "outputs": [],
   "source": []
  },
  {
   "cell_type": "markdown",
   "id": "ef758243-c954-438e-b5db-daac115f4756",
   "metadata": {},
   "source": [
    "#### Job Application Process :: Start"
   ]
  },
  {
   "cell_type": "code",
   "execution_count": 10,
   "id": "027df044-da5c-4a7b-b0c8-d9f3473aea77",
   "metadata": {},
   "outputs": [],
   "source": [
    "job_search_url = \"https://www.linkedin.com/jobs/search-results/?keywords=AI%20Developer%20Remote\""
   ]
  },
  {
   "cell_type": "code",
   "execution_count": 12,
   "id": "632f1945-e4a4-4948-b6d1-8df07c02f07b",
   "metadata": {},
   "outputs": [],
   "source": [
    "browser.get(job_search_url)"
   ]
  },
  {
   "cell_type": "code",
   "execution_count": null,
   "id": "f9b357e0-e98d-45c6-9808-6bdacf38bf3c",
   "metadata": {},
   "outputs": [],
   "source": []
  },
  {
   "cell_type": "code",
   "execution_count": null,
   "id": "07d3054b-be94-47f9-abb4-bfb2275a6565",
   "metadata": {},
   "outputs": [],
   "source": [
    "# Now apply one after the other :> "
   ]
  },
  {
   "cell_type": "code",
   "execution_count": null,
   "id": "cf3cb15d-70d9-4a36-9c0e-946c2236e289",
   "metadata": {},
   "outputs": [],
   "source": [
    "<button  id=\"jobs-apply-button-id\" class=\"jobs-apply-button artdeco-button artdeco-button--3 artdeco-button--primary ember-view\" data-job-id=\"4242949406\" data-live-test-job-apply-button=\"\">        <svg role=\"none\" aria-hidden=\"true\" class=\"artdeco-button__icon artdeco-button__icon--in-bug\" xmlns=\"http://www.w3.org/2000/svg\" width=\"14\" height=\"14\" viewBox=\"0 0 14 14\" data-supported-dps=\"14x14\" data-test-icon=\"linkedin-bug-xxsmall\">\n",
    "<!---->    \n",
    "    <use href=\"#linkedin-bug-xxsmall\" width=\"14\" height=\"14\"></use>\n",
    "</svg>\n",
    "\n",
    "\n",
    "<span class=\"artdeco-button__text\">\n",
    "    Easy Apply\n",
    "</span></button>"
   ]
  },
  {
   "cell_type": "code",
   "execution_count": 17,
   "id": "dd906e37-4087-43fb-b251-4da37d47110a",
   "metadata": {},
   "outputs": [],
   "source": [
    "easy_apply_infocus_job_class = \"jobs-apply-button\"\n",
    "easy_apply_infocus_job = browser.find_element(By.CLASS_NAME,easy_apply_infocus_job_class)"
   ]
  },
  {
   "cell_type": "code",
   "execution_count": 19,
   "id": "8210b4f3-2ca9-4b75-9c03-c2735ef41dad",
   "metadata": {},
   "outputs": [],
   "source": [
    "easy_apply_infocus_job.click()"
   ]
  },
  {
   "cell_type": "code",
   "execution_count": 24,
   "id": "73cdcea8-4501-4ab1-b550-3b58cce406c7",
   "metadata": {},
   "outputs": [],
   "source": [
    "browser.find_element(By.XPATH, \"//button[contains(@class, 'jobs-apply-button') and contains(., 'Easy Apply')]\").click()"
   ]
  },
  {
   "cell_type": "code",
   "execution_count": 26,
   "id": "4095ea27-a667-4508-8897-f89249173f6b",
   "metadata": {},
   "outputs": [],
   "source": [
    "button = browser.find_element(By.XPATH, \"//button[contains(@class, 'jobs-apply-button') and contains(., 'Easy Apply')]\")\n",
    "browser.execute_script(\"arguments[0].click();\", button)"
   ]
  },
  {
   "cell_type": "code",
   "execution_count": 29,
   "id": "47da5d16-f270-4248-97f3-1660bb741502",
   "metadata": {},
   "outputs": [],
   "source": [
    "action = webdriver.ActionChains(browser)"
   ]
  },
  {
   "cell_type": "code",
   "execution_count": 30,
   "id": "1d1a95bb-e6aa-4b14-9884-6d6a8e4d08b2",
   "metadata": {},
   "outputs": [],
   "source": [
    "action.move_to_element(button)\n",
    "action.perform()"
   ]
  },
  {
   "cell_type": "code",
   "execution_count": 31,
   "id": "0fbdbd47-1bd4-4a2b-8bdb-91282d0e8bca",
   "metadata": {},
   "outputs": [
    {
     "ename": "ElementClickInterceptedException",
     "evalue": "Message: element click intercepted: Element <button aria-label=\"Easy Apply to Senior Artificial Intelligence Engineer - GCP - (US Remote) at Rackspace Technology\" id=\"jobs-apply-button-id\" class=\"jobs-apply-button\n         artdeco-button artdeco-button--3 artdeco-button--primary ember-view\" data-job-id=\"4242949406\" data-live-test-job-apply-button=\"\">...</button> is not clickable at point (747, 423). Other element would receive the click: <div class=\"hxFazlCFHCpPyewutTCAphsuAMxhbFnUTE\n            \">...</div>\n  (Session info: chrome=137.0.7151.120)\nStacktrace:\n\tGetHandleVerifier [0x0xa43b03+62899]\n\tGetHandleVerifier [0x0xa43b44+62964]\n\t(No symbol) [0x0x8710f3]\n\t(No symbol) [0x0x8bfb30]\n\t(No symbol) [0x0x8bdeea]\n\t(No symbol) [0x0x8bba67]\n\t(No symbol) [0x0x8bad37]\n\t(No symbol) [0x0x8af3e5]\n\t(No symbol) [0x0x8de50c]\n\t(No symbol) [0x0x8aee74]\n\t(No symbol) [0x0x8de784]\n\t(No symbol) [0x0x8ffd81]\n\t(No symbol) [0x0x8de306]\n\t(No symbol) [0x0x8ad670]\n\t(No symbol) [0x0x8ae4e4]\n\tGetHandleVerifier [0x0xca4793+2556483]\n\tGetHandleVerifier [0x0xc9fd02+2537394]\n\tGetHandleVerifier [0x0xa6a2fa+220586]\n\tGetHandleVerifier [0x0xa5aae8+157080]\n\tGetHandleVerifier [0x0xa6141d+184013]\n\tGetHandleVerifier [0x0xa4ba68+95512]\n\tGetHandleVerifier [0x0xa4bc10+95936]\n\tGetHandleVerifier [0x0xa36b5a+9738]\n\tBaseThreadInitThunk [0x0x75ef7ba9+25]\n\tRtlInitializeExceptionChain [0x0x7757c36b+107]\n\tRtlClearBits [0x0x7757c2ef+191]\n",
     "output_type": "error",
     "traceback": [
      "\u001b[1;31m---------------------------------------------------------------------------\u001b[0m",
      "\u001b[1;31mElementClickInterceptedException\u001b[0m          Traceback (most recent call last)",
      "Cell \u001b[1;32mIn[31], line 1\u001b[0m\n\u001b[1;32m----> 1\u001b[0m \u001b[43mbutton\u001b[49m\u001b[38;5;241;43m.\u001b[39;49m\u001b[43mclick\u001b[49m\u001b[43m(\u001b[49m\u001b[43m)\u001b[49m\n",
      "File \u001b[1;32m~\\.conda\\envs\\ai\\lib\\site-packages\\selenium\\webdriver\\remote\\webelement.py:94\u001b[0m, in \u001b[0;36mWebElement.click\u001b[1;34m(self)\u001b[0m\n\u001b[0;32m     92\u001b[0m \u001b[38;5;28;01mdef\u001b[39;00m \u001b[38;5;21mclick\u001b[39m(\u001b[38;5;28mself\u001b[39m) \u001b[38;5;241m-\u001b[39m\u001b[38;5;241m>\u001b[39m \u001b[38;5;28;01mNone\u001b[39;00m:\n\u001b[0;32m     93\u001b[0m \u001b[38;5;250m    \u001b[39m\u001b[38;5;124;03m\"\"\"Clicks the element.\"\"\"\u001b[39;00m\n\u001b[1;32m---> 94\u001b[0m     \u001b[38;5;28;43mself\u001b[39;49m\u001b[38;5;241;43m.\u001b[39;49m\u001b[43m_execute\u001b[49m\u001b[43m(\u001b[49m\u001b[43mCommand\u001b[49m\u001b[38;5;241;43m.\u001b[39;49m\u001b[43mCLICK_ELEMENT\u001b[49m\u001b[43m)\u001b[49m\n",
      "File \u001b[1;32m~\\.conda\\envs\\ai\\lib\\site-packages\\selenium\\webdriver\\remote\\webelement.py:395\u001b[0m, in \u001b[0;36mWebElement._execute\u001b[1;34m(self, command, params)\u001b[0m\n\u001b[0;32m    393\u001b[0m     params \u001b[38;5;241m=\u001b[39m {}\n\u001b[0;32m    394\u001b[0m params[\u001b[38;5;124m\"\u001b[39m\u001b[38;5;124mid\u001b[39m\u001b[38;5;124m\"\u001b[39m] \u001b[38;5;241m=\u001b[39m \u001b[38;5;28mself\u001b[39m\u001b[38;5;241m.\u001b[39m_id\n\u001b[1;32m--> 395\u001b[0m \u001b[38;5;28;01mreturn\u001b[39;00m \u001b[38;5;28;43mself\u001b[39;49m\u001b[38;5;241;43m.\u001b[39;49m\u001b[43m_parent\u001b[49m\u001b[38;5;241;43m.\u001b[39;49m\u001b[43mexecute\u001b[49m\u001b[43m(\u001b[49m\u001b[43mcommand\u001b[49m\u001b[43m,\u001b[49m\u001b[43m \u001b[49m\u001b[43mparams\u001b[49m\u001b[43m)\u001b[49m\n",
      "File \u001b[1;32m~\\.conda\\envs\\ai\\lib\\site-packages\\selenium\\webdriver\\remote\\webdriver.py:347\u001b[0m, in \u001b[0;36mWebDriver.execute\u001b[1;34m(self, driver_command, params)\u001b[0m\n\u001b[0;32m    345\u001b[0m response \u001b[38;5;241m=\u001b[39m \u001b[38;5;28mself\u001b[39m\u001b[38;5;241m.\u001b[39mcommand_executor\u001b[38;5;241m.\u001b[39mexecute(driver_command, params)\n\u001b[0;32m    346\u001b[0m \u001b[38;5;28;01mif\u001b[39;00m response:\n\u001b[1;32m--> 347\u001b[0m     \u001b[38;5;28;43mself\u001b[39;49m\u001b[38;5;241;43m.\u001b[39;49m\u001b[43merror_handler\u001b[49m\u001b[38;5;241;43m.\u001b[39;49m\u001b[43mcheck_response\u001b[49m\u001b[43m(\u001b[49m\u001b[43mresponse\u001b[49m\u001b[43m)\u001b[49m\n\u001b[0;32m    348\u001b[0m     response[\u001b[38;5;124m\"\u001b[39m\u001b[38;5;124mvalue\u001b[39m\u001b[38;5;124m\"\u001b[39m] \u001b[38;5;241m=\u001b[39m \u001b[38;5;28mself\u001b[39m\u001b[38;5;241m.\u001b[39m_unwrap_value(response\u001b[38;5;241m.\u001b[39mget(\u001b[38;5;124m\"\u001b[39m\u001b[38;5;124mvalue\u001b[39m\u001b[38;5;124m\"\u001b[39m, \u001b[38;5;28;01mNone\u001b[39;00m))\n\u001b[0;32m    349\u001b[0m     \u001b[38;5;28;01mreturn\u001b[39;00m response\n",
      "File \u001b[1;32m~\\.conda\\envs\\ai\\lib\\site-packages\\selenium\\webdriver\\remote\\errorhandler.py:229\u001b[0m, in \u001b[0;36mErrorHandler.check_response\u001b[1;34m(self, response)\u001b[0m\n\u001b[0;32m    227\u001b[0m         alert_text \u001b[38;5;241m=\u001b[39m value[\u001b[38;5;124m\"\u001b[39m\u001b[38;5;124malert\u001b[39m\u001b[38;5;124m\"\u001b[39m]\u001b[38;5;241m.\u001b[39mget(\u001b[38;5;124m\"\u001b[39m\u001b[38;5;124mtext\u001b[39m\u001b[38;5;124m\"\u001b[39m)\n\u001b[0;32m    228\u001b[0m     \u001b[38;5;28;01mraise\u001b[39;00m exception_class(message, screen, stacktrace, alert_text)  \u001b[38;5;66;03m# type: ignore[call-arg]  # mypy is not smart enough here\u001b[39;00m\n\u001b[1;32m--> 229\u001b[0m \u001b[38;5;28;01mraise\u001b[39;00m exception_class(message, screen, stacktrace)\n",
      "\u001b[1;31mElementClickInterceptedException\u001b[0m: Message: element click intercepted: Element <button aria-label=\"Easy Apply to Senior Artificial Intelligence Engineer - GCP - (US Remote) at Rackspace Technology\" id=\"jobs-apply-button-id\" class=\"jobs-apply-button\n         artdeco-button artdeco-button--3 artdeco-button--primary ember-view\" data-job-id=\"4242949406\" data-live-test-job-apply-button=\"\">...</button> is not clickable at point (747, 423). Other element would receive the click: <div class=\"hxFazlCFHCpPyewutTCAphsuAMxhbFnUTE\n            \">...</div>\n  (Session info: chrome=137.0.7151.120)\nStacktrace:\n\tGetHandleVerifier [0x0xa43b03+62899]\n\tGetHandleVerifier [0x0xa43b44+62964]\n\t(No symbol) [0x0x8710f3]\n\t(No symbol) [0x0x8bfb30]\n\t(No symbol) [0x0x8bdeea]\n\t(No symbol) [0x0x8bba67]\n\t(No symbol) [0x0x8bad37]\n\t(No symbol) [0x0x8af3e5]\n\t(No symbol) [0x0x8de50c]\n\t(No symbol) [0x0x8aee74]\n\t(No symbol) [0x0x8de784]\n\t(No symbol) [0x0x8ffd81]\n\t(No symbol) [0x0x8de306]\n\t(No symbol) [0x0x8ad670]\n\t(No symbol) [0x0x8ae4e4]\n\tGetHandleVerifier [0x0xca4793+2556483]\n\tGetHandleVerifier [0x0xc9fd02+2537394]\n\tGetHandleVerifier [0x0xa6a2fa+220586]\n\tGetHandleVerifier [0x0xa5aae8+157080]\n\tGetHandleVerifier [0x0xa6141d+184013]\n\tGetHandleVerifier [0x0xa4ba68+95512]\n\tGetHandleVerifier [0x0xa4bc10+95936]\n\tGetHandleVerifier [0x0xa36b5a+9738]\n\tBaseThreadInitThunk [0x0x75ef7ba9+25]\n\tRtlInitializeExceptionChain [0x0x7757c36b+107]\n\tRtlClearBits [0x0x7757c2ef+191]\n"
     ]
    }
   ],
   "source": [
    "button.click()"
   ]
  },
  {
   "cell_type": "code",
   "execution_count": null,
   "id": "922f5d7f-66fc-44d4-acf0-32f358aa42e6",
   "metadata": {},
   "outputs": [],
   "source": []
  }
 ],
 "metadata": {
  "kernelspec": {
   "display_name": "Python 3 (ipykernel)",
   "language": "python",
   "name": "python3"
  },
  "language_info": {
   "codemirror_mode": {
    "name": "ipython",
    "version": 3
   },
   "file_extension": ".py",
   "mimetype": "text/x-python",
   "name": "python",
   "nbconvert_exporter": "python",
   "pygments_lexer": "ipython3",
   "version": "3.10.14"
  }
 },
 "nbformat": 4,
 "nbformat_minor": 5
}
