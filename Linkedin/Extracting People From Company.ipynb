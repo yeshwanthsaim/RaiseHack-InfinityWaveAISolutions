{
 "cells": [
  {
   "cell_type": "code",
   "execution_count": 1,
   "id": "1e984739-62d9-415c-be38-018c2244b52f",
   "metadata": {},
   "outputs": [],
   "source": [
    "# Extracting people from school"
   ]
  },
  {
   "cell_type": "code",
   "execution_count": 1,
   "id": "89609656-e3e9-4276-9e55-424cbabf4d6a",
   "metadata": {},
   "outputs": [],
   "source": [
    "# libraries :: \n",
    "\n",
    "# Selenium\n",
    "from selenium import webdriver\n",
    "from selenium.webdriver.common.action_chains import ActionChains\n",
    "from selenium.webdriver.chrome.service import Service\n",
    "from selenium import webdriver\n",
    "from selenium.webdriver.common.by import By\n",
    "from selenium import webdriver\n",
    "from selenium.webdriver.chrome.service import Service\n",
    "from webdriver_manager.chrome import ChromeDriverManager as CM\n",
    "from selenium.webdriver.chrome.options import Options\n",
    "from selenium.webdriver.support.ui import WebDriverWait\n",
    "from selenium.webdriver.support import expected_conditions as EC\n",
    "from selenium.webdriver.common.by import By\n",
    "from selenium.webdriver.common.keys import Keys\n",
    "\n",
    "# others\n",
    "import time\n",
    "import pandas as pd\n",
    "import re\n",
    "import tqdm\n",
    "import os"
   ]
  },
  {
   "cell_type": "code",
   "execution_count": 2,
   "id": "37ab5185-f02f-4de9-a75c-3a62acb189bb",
   "metadata": {},
   "outputs": [],
   "source": [
    "# New way :>\n",
    "chrome_options = Options()\n",
    "\n",
    "# Use WebDriverManager to handle driver installation\n",
    "service = Service(executable_path=CM().install())\n",
    "browser = webdriver.Chrome(service=service, options=chrome_options)"
   ]
  },
  {
   "cell_type": "code",
   "execution_count": 3,
   "id": "93825234-5feb-44a0-8082-42908c949e28",
   "metadata": {},
   "outputs": [],
   "source": [
    "browser.maximize_window()"
   ]
  },
  {
   "cell_type": "code",
   "execution_count": 4,
   "id": "8ac279cd-a0cd-4282-94df-a8acac8605e5",
   "metadata": {},
   "outputs": [],
   "source": [
    "# login :> \n",
    "# login auto :>\n",
    "linkedin_url = \"https://www.linkedin.com/\"\n",
    "browser.get(linkedin_url)\n",
    "\n",
    "time.sleep(2)\n",
    "\n",
    "time.sleep(5)\n",
    "# Linkedin Login:\n",
    "## Linkedin Sign In :: Single go\n",
    "## Identify remember option :: linkedin has\n",
    "login_url = \"https://www.linkedin.com/login\"\n",
    "browser.get(login_url)\n",
    "\n",
    "username = \"yeshudatascience@gmail.com\"\n",
    "password = \"Y35#&e@I*ninefour\"\n",
    "\n",
    "elem = browser.find_element(By.ID, \"username\")\n",
    "elem.clear()\n",
    "elem.send_keys(username)\n",
    "\n",
    "elem = browser.find_element(By.ID, \"password\")\n",
    "elem.clear()\n",
    "elem.send_keys(password)\n",
    "\n",
    "# pressing enter after filling\n",
    "elem.send_keys(Keys.RETURN)\n"
   ]
  },
  {
   "cell_type": "code",
   "execution_count": 6,
   "id": "36ed7723-c6b5-406a-a28b-476c839fd77f",
   "metadata": {},
   "outputs": [],
   "source": []
  },
  {
   "cell_type": "code",
   "execution_count": 7,
   "id": "dea5cb02-16a4-4685-ab18-5992b1d972c9",
   "metadata": {},
   "outputs": [],
   "source": [
    "# Opening a url :> People url\n",
    "url = \"https://www.linkedin.com/company/pal-robotics/people/?keywords=ceo\"\n",
    "browser.get(url)"
   ]
  },
  {
   "cell_type": "code",
   "execution_count": 9,
   "id": "ec7df25e-d826-4f21-be48-3a735e700411",
   "metadata": {},
   "outputs": [],
   "source": [
    "## Scrolling down : "
   ]
  },
  {
   "cell_type": "code",
   "execution_count": 14,
   "id": "ce35432e-8731-4c72-8477-38327d50902d",
   "metadata": {},
   "outputs": [],
   "source": [
    "## Extracting people div\n",
    "# :> li :> class=\"grid grid__col--lg-8 block org-people-profile-card__profile-card-spacing\"\n",
    "\n",
    "people_class_name = \"grid\"\n",
    "elem = browser.find_element(By.CLASS_NAME, people_class_name)"
   ]
  },
  {
   "cell_type": "code",
   "execution_count": 17,
   "id": "9355bab6-93e1-4e3b-a23c-43e564c4babc",
   "metadata": {},
   "outputs": [
    {
     "name": "stdout",
     "output_type": "stream",
     "text": [
      "Sharath Rekulara\n",
      "2nd degree connection\n",
      "· 2nd\n",
      "SDE Intern@Lumen | Passionate About Full-Stack scalable solutions\n",
      "454 followers • Saurabh Kumar is a mutual connection\n",
      "Follow\n"
     ]
    }
   ],
   "source": [
    "print(elem.text)"
   ]
  },
  {
   "cell_type": "code",
   "execution_count": 22,
   "id": "57766325-404b-4401-9ead-afce793d6db4",
   "metadata": {},
   "outputs": [],
   "source": [
    "links = elem.find_elements(By.TAG_NAME,\"a\")"
   ]
  },
  {
   "cell_type": "code",
   "execution_count": 26,
   "id": "bf503d8c-5797-4df6-80b2-7226b3a7f78c",
   "metadata": {},
   "outputs": [
    {
     "data": {
      "text/plain": [
       "'https://www.linkedin.com/in/sharathrekulara?miniProfileUrn=urn%3Ali%3Afs_miniProfile%3AACoAADqEEa8B2nC5-Zu8eKZoNAWzxvTHVFf9gBg'"
      ]
     },
     "execution_count": 26,
     "metadata": {},
     "output_type": "execute_result"
    }
   ],
   "source": [
    "links[1].get_property(\"href\")"
   ]
  },
  {
   "cell_type": "code",
   "execution_count": 28,
   "id": "44dee25a-98c5-448e-b558-571a855b23cf",
   "metadata": {},
   "outputs": [
    {
     "data": {
      "text/plain": [
       "'https://www.linkedin.com/in/sharathrekulara'"
      ]
     },
     "execution_count": 28,
     "metadata": {},
     "output_type": "execute_result"
    }
   ],
   "source": [
    "links[0].get_property(\"href\").split(\"?\")[0]"
   ]
  },
  {
   "cell_type": "code",
   "execution_count": null,
   "id": "57dfb93b-ecad-45bf-b665-8076ee9e651c",
   "metadata": {},
   "outputs": [],
   "source": [
    "https://www.linkedin.com/in/sharathrekulara"
   ]
  },
  {
   "cell_type": "code",
   "execution_count": 8,
   "id": "dba358e4-2870-4dbb-8c81-452f7fb988ba",
   "metadata": {},
   "outputs": [],
   "source": [
    "## getting all peoples divs :\n",
    "people_class_name = \"grid\"\n",
    "people_elems = browser.find_elements(By.CLASS_NAME, people_class_name)"
   ]
  },
  {
   "cell_type": "code",
   "execution_count": 31,
   "id": "0f7eab98-efb4-4232-a8bc-d8a741c93807",
   "metadata": {},
   "outputs": [
    {
     "name": "stdout",
     "output_type": "stream",
     "text": [
      "https://www.linkedin.com/in/sharathrekulara\n",
      "https://www.linkedin.com/in/sharathrekulara\n",
      "https://www.linkedin.com/in/shujaath-ali-081915233\n",
      "https://www.linkedin.com/in/shujaath-ali-081915233\n",
      "https://www.linkedin.com/in/mir-dujanah-ali-hussaini-b40913199\n",
      "https://www.linkedin.com/in/mir-dujanah-ali-hussaini-b40913199\n",
      "https://www.linkedin.com/in/yuvarajubasa\n",
      "https://www.linkedin.com/in/yuvarajubasa\n",
      "https://www.linkedin.com/in/sameem-haque\n",
      "https://www.linkedin.com/in/sameem-haque\n",
      "https://www.linkedin.com/in/mallik-narsina-314401233\n",
      "https://www.linkedin.com/in/mallik-narsina-314401233\n",
      "https://www.linkedin.com/in/vinaykumar09\n",
      "https://www.linkedin.com/in/vinaykumar09\n",
      "https://www.linkedin.com/in/raj-kumar-rana-a4b0b618b\n",
      "https://www.linkedin.com/in/raj-kumar-rana-a4b0b618b\n",
      "https://www.linkedin.com/in/ACoAACyv2VsBxAEyuylkdBGAqu2MUGjgCunYjtA\n",
      "https://www.linkedin.com/in/bhanuprasad-kammari-79b90225b\n",
      "https://www.linkedin.com/in/bhanuprasad-kammari-79b90225b\n",
      "https://www.linkedin.com/in/divyanshusharma02\n",
      "https://www.linkedin.com/in/divyanshusharma02\n",
      "https://www.linkedin.com/in/ACoAAD0mPScBnUOvtvNzrA2E5qLByL0jzHZy4PA\n",
      "https://www.linkedin.com/in/b-srinivasa-ranganath-b3562b329\n",
      "https://www.linkedin.com/in/b-srinivasa-ranganath-b3562b329\n",
      "https://www.linkedin.com/in/adithya-rohith-464737227\n",
      "https://www.linkedin.com/in/adithya-rohith-464737227\n",
      "https://www.linkedin.com/in/katta-srisriharsha-0616b2320\n",
      "https://www.linkedin.com/in/katta-srisriharsha-0616b2320\n",
      "https://www.linkedin.com/in/gajjela-sravanthi-972642293\n",
      "https://www.linkedin.com/in/gajjela-sravanthi-972642293\n",
      "https://www.linkedin.com/in/sairathod9013\n",
      "https://www.linkedin.com/in/sairathod9013\n",
      "https://www.linkedin.com/in/shiva81060\n",
      "https://www.linkedin.com/in/shiva81060\n",
      "https://www.linkedin.com/in/mitesh-sri-sai-57aa6530a\n",
      "https://www.linkedin.com/in/mitesh-sri-sai-57aa6530a\n",
      "https://www.linkedin.com/in/shraddha-sita-374580329\n",
      "https://www.linkedin.com/in/shraddha-sita-374580329\n",
      "https://www.linkedin.com/in/vutukuru-anirudh-53652b24a\n",
      "https://www.linkedin.com/in/vutukuru-anirudh-53652b24a\n",
      "https://www.linkedin.com/in/nadeem015\n",
      "https://www.linkedin.com/in/nadeem015\n"
     ]
    }
   ],
   "source": [
    "people_links = []\n",
    "for elem in people_elems:\n",
    "    links = elem.find_elements(By.TAG_NAME,\"a\")\n",
    "    for l in links:\n",
    "        people_link = l.get_property(\"href\").split(\"?\")[0]\n",
    "        print(people_link)\n",
    "        people_links.append(people_link)"
   ]
  },
  {
   "cell_type": "code",
   "execution_count": 49,
   "id": "772c5e6c-87f3-4686-bb42-d3be529bc2cb",
   "metadata": {},
   "outputs": [],
   "source": [
    "# scrolling upto 5 times::\n",
    "actionChains = ActionChains(browser)\n",
    "limit = 5\n",
    "for _ in range(limit):\n",
    "    elem = browser.find_element(\"xpath\",\"//span[text()='Show more results']\")\n",
    "    actionChains.move_to_element_with_offset(elem, xoffset, yoffset).perform()\n",
    "    time.sleep(2)\n",
    "\n"
   ]
  },
  {
   "cell_type": "code",
   "execution_count": 50,
   "id": "e11bd6f4-656c-4c73-8ed1-78ad0cd58300",
   "metadata": {},
   "outputs": [],
   "source": [
    "people_class_name = \"grid\"\n",
    "elem = browser.find_element(By.CLASS_NAME, people_class_name)"
   ]
  },
  {
   "cell_type": "code",
   "execution_count": null,
   "id": "90140ce4-5587-42cf-85d7-70a432a97a4b",
   "metadata": {},
   "outputs": [],
   "source": [
    "print(elem.get_attribute('innerHTML'))"
   ]
  },
  {
   "cell_type": "code",
   "execution_count": 54,
   "id": "e251b461-b207-4af8-a064-0b7f1139b876",
   "metadata": {},
   "outputs": [],
   "source": [
    "## Name and tag line :> \n",
    "# name :> \n",
    "temps = elem.find_elements(By.CLASS_NAME, \"ember-view\")"
   ]
  },
  {
   "cell_type": "code",
   "execution_count": 61,
   "id": "1caf8c5e-d623-4a79-8163-b9ea1f1b855d",
   "metadata": {},
   "outputs": [
    {
     "data": {
      "text/plain": [
       "['Sharath Rekulara',\n",
       " '2nd degree connection',\n",
       " '· 2nd',\n",
       " 'SDE Intern@Lumen | Passionate About Full-Stack scalable solutions']"
      ]
     },
     "execution_count": 61,
     "metadata": {},
     "output_type": "execute_result"
    }
   ],
   "source": [
    "temps[1].text.split(\"\\n\")"
   ]
  },
  {
   "cell_type": "code",
   "execution_count": 9,
   "id": "15896ac0-476c-4523-9ddd-281eb4a3de6d",
   "metadata": {},
   "outputs": [
    {
     "data": {
      "text/plain": [
       "4"
      ]
     },
     "execution_count": 9,
     "metadata": {},
     "output_type": "execute_result"
    }
   ],
   "source": [
    "len(people_elems)"
   ]
  },
  {
   "cell_type": "code",
   "execution_count": 14,
   "id": "4e0f8ca7-067d-4e04-8bba-8d239993376d",
   "metadata": {},
   "outputs": [],
   "source": [
    "people = []\n",
    "for elem in people_elems:\n",
    "    try:\n",
    "        links = elem.find_elements(By.TAG_NAME,\"a\")\n",
    "        people_link = links[0].get_property(\"href\").split(\"?\")[0]\n",
    "    except:\n",
    "        people_link = \"\"\n",
    "        \n",
    "    temps = elem.find_elements(By.CLASS_NAME, \"ember-view\")\n",
    "    splits = temps[1].text.split(\"\\n\")\n",
    "    name = splits[0]\n",
    "    tag = \" \".join(splits[1:])\n",
    "    obj = {\n",
    "        \"name\":name,\n",
    "        \"tag\":tag,\n",
    "        \"link\":people_link\n",
    "    }\n",
    "    people.append(obj)"
   ]
  },
  {
   "cell_type": "code",
   "execution_count": 15,
   "id": "623a492a-2181-4017-84e9-fa504ea42662",
   "metadata": {},
   "outputs": [],
   "source": [
    "df = pd.DataFrame(people)\n",
    "df.to_csv(\"../results/pal-robotics.csv\",index=None)"
   ]
  },
  {
   "cell_type": "code",
   "execution_count": 13,
   "id": "3c823870-40f0-4506-bda0-323f69ffcb3c",
   "metadata": {},
   "outputs": [
    {
     "data": {
      "text/plain": [
       "'Francesco Ferro\\n2nd degree connection\\n· 2nd\\nCEO & Co-Founder\\nSara Hooker, Xavi Creus, and 4 other mutual connections\\nConnect'"
      ]
     },
     "execution_count": 13,
     "metadata": {},
     "output_type": "execute_result"
    }
   ],
   "source": [
    "people_elems[0].text"
   ]
  },
  {
   "cell_type": "code",
   "execution_count": null,
   "id": "ff0b6896-7fa7-4157-b891-e9aedc935c17",
   "metadata": {},
   "outputs": [],
   "source": []
  }
 ],
 "metadata": {
  "kernelspec": {
   "display_name": "Python 3 (ipykernel)",
   "language": "python",
   "name": "python3"
  },
  "language_info": {
   "codemirror_mode": {
    "name": "ipython",
    "version": 3
   },
   "file_extension": ".py",
   "mimetype": "text/x-python",
   "name": "python",
   "nbconvert_exporter": "python",
   "pygments_lexer": "ipython3",
   "version": "3.10.14"
  }
 },
 "nbformat": 4,
 "nbformat_minor": 5
}
