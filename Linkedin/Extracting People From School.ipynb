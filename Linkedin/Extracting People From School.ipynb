{
 "cells": [
  {
   "cell_type": "code",
   "execution_count": 1,
   "id": "1e984739-62d9-415c-be38-018c2244b52f",
   "metadata": {},
   "outputs": [],
   "source": [
    "# Extracting people from school"
   ]
  },
  {
   "cell_type": "code",
   "execution_count": 5,
   "id": "89609656-e3e9-4276-9e55-424cbabf4d6a",
   "metadata": {},
   "outputs": [],
   "source": [
    "# libraries :: \n",
    "\n",
    "# Selenium\n",
    "from selenium import webdriver\n",
    "from selenium.webdriver.common.action_chains import ActionChains\n",
    "from selenium.webdriver.chrome.service import Service\n",
    "from selenium import webdriver\n",
    "from selenium.webdriver.common.by import By\n",
    "from selenium import webdriver\n",
    "from selenium.webdriver.chrome.service import Service\n",
    "from webdriver_manager.chrome import ChromeDriverManager as CM\n",
    "from selenium.webdriver.chrome.options import Options\n",
    "from selenium.webdriver.support.ui import WebDriverWait\n",
    "from selenium.webdriver.support import expected_conditions as EC\n",
    "from selenium.webdriver.common.by import By\n",
    "from selenium.webdriver.common.keys import Keys\n",
    "\n",
    "# others\n",
    "import time\n",
    "import pandas as pd\n",
    "import re\n",
    "import tqdm\n",
    "import os"
   ]
  },
  {
   "cell_type": "code",
   "execution_count": 2,
   "id": "37ab5185-f02f-4de9-a75c-3a62acb189bb",
   "metadata": {},
   "outputs": [],
   "source": [
    "# New way :>\n",
    "chrome_options = Options()\n",
    "\n",
    "# Use WebDriverManager to handle driver installation\n",
    "service = Service(executable_path=CM().install())\n",
    "browser = webdriver.Chrome(service=service, options=chrome_options)"
   ]
  },
  {
   "cell_type": "code",
   "execution_count": 4,
   "id": "93825234-5feb-44a0-8082-42908c949e28",
   "metadata": {},
   "outputs": [],
   "source": [
    "browser.maximize_window()"
   ]
  },
  {
   "cell_type": "code",
   "execution_count": 6,
   "id": "8ac279cd-a0cd-4282-94df-a8acac8605e5",
   "metadata": {},
   "outputs": [],
   "source": [
    "# login :> \n",
    "# login auto :>\n",
    "linkedin_url = \"https://www.linkedin.com/\"\n",
    "browser.get(linkedin_url)\n",
    "\n",
    "time.sleep(2)\n",
    "\n",
    "time.sleep(5)\n",
    "# Linkedin Login:\n",
    "## Linkedin Sign In :: Single go\n",
    "## Identify remember option :: linkedin has\n",
    "login_url = \"https://www.linkedin.com/login\"\n",
    "browser.get(login_url)\n",
    "\n",
    "username = \"yeshudatascience@gmail.com\"\n",
    "password = \"Y35#&e@I*ninefour\"\n",
    "\n",
    "elem = browser.find_element(By.ID, \"username\")\n",
    "elem.clear()\n",
    "elem.send_keys(username)\n",
    "\n",
    "elem = browser.find_element(By.ID, \"password\")\n",
    "elem.clear()\n",
    "elem.send_keys(password)\n",
    "\n",
    "# pressing enter after filling\n",
    "elem.send_keys(Keys.RETURN)\n"
   ]
  },
  {
   "cell_type": "code",
   "execution_count": null,
   "id": "36ed7723-c6b5-406a-a28b-476c839fd77f",
   "metadata": {},
   "outputs": [],
   "source": []
  },
  {
   "cell_type": "code",
   "execution_count": 27,
   "id": "dea5cb02-16a4-4685-ab18-5992b1d972c9",
   "metadata": {},
   "outputs": [],
   "source": [
    "# Opening a url :> People url\n",
    "url = \"https://www.linkedin.com/school/eae-business-school/people/?educationEndYear=2025&educationStartYear=2024\"\n",
    "browser.get(url)"
   ]
  },
  {
   "cell_type": "code",
   "execution_count": 9,
   "id": "ec7df25e-d826-4f21-be48-3a735e700411",
   "metadata": {},
   "outputs": [],
   "source": [
    "## Scrolling down : "
   ]
  },
  {
   "cell_type": "code",
   "execution_count": 31,
   "id": "ce35432e-8731-4c72-8477-38327d50902d",
   "metadata": {},
   "outputs": [],
   "source": [
    "## Extracting people div\n",
    "# :> li :> class=\"grid grid__col--lg-8 block org-people-profile-card__profile-card-spacing\"\n",
    "\n",
    "people_class_name = \"grid\"\n",
    "elem = browser.find_element(By.CLASS_NAME, people_class_name)"
   ]
  },
  {
   "cell_type": "code",
   "execution_count": 32,
   "id": "9355bab6-93e1-4e3b-a23c-43e564c4babc",
   "metadata": {},
   "outputs": [
    {
     "name": "stdout",
     "output_type": "stream",
     "text": [
      "Iván del Puerto\n",
      "2nd degree connection\n",
      "· 2nd\n",
      "Nuevo reto profesional\n",
      "3K followers • Philemon Kiprono is a mutual connection\n",
      "Follow\n"
     ]
    }
   ],
   "source": [
    "print(elem.text)"
   ]
  },
  {
   "cell_type": "code",
   "execution_count": 33,
   "id": "57766325-404b-4401-9ead-afce793d6db4",
   "metadata": {},
   "outputs": [],
   "source": [
    "links = elem.find_elements(By.TAG_NAME,\"a\")"
   ]
  },
  {
   "cell_type": "code",
   "execution_count": 34,
   "id": "bf503d8c-5797-4df6-80b2-7226b3a7f78c",
   "metadata": {},
   "outputs": [
    {
     "data": {
      "text/plain": [
       "'https://www.linkedin.com/in/ivandelpuerto?miniProfileUrn=urn%3Ali%3Afs_miniProfile%3AACoAAAzuflkBudXYdLDDd4-rZlYvKOJtwuYKFJ0'"
      ]
     },
     "execution_count": 34,
     "metadata": {},
     "output_type": "execute_result"
    }
   ],
   "source": [
    "links[1].get_property(\"href\")"
   ]
  },
  {
   "cell_type": "code",
   "execution_count": 35,
   "id": "44dee25a-98c5-448e-b558-571a855b23cf",
   "metadata": {},
   "outputs": [
    {
     "data": {
      "text/plain": [
       "'https://www.linkedin.com/in/ivandelpuerto'"
      ]
     },
     "execution_count": 35,
     "metadata": {},
     "output_type": "execute_result"
    }
   ],
   "source": [
    "links[0].get_property(\"href\").split(\"?\")[0]"
   ]
  },
  {
   "cell_type": "code",
   "execution_count": null,
   "id": "57dfb93b-ecad-45bf-b665-8076ee9e651c",
   "metadata": {},
   "outputs": [],
   "source": [
    "https://www.linkedin.com/in/sharathrekulara"
   ]
  },
  {
   "cell_type": "code",
   "execution_count": 36,
   "id": "dba358e4-2870-4dbb-8c81-452f7fb988ba",
   "metadata": {},
   "outputs": [],
   "source": [
    "## getting all peoples divs :\n",
    "people_class_name = \"grid\"\n",
    "people_elems = browser.find_elements(By.CLASS_NAME, people_class_name)"
   ]
  },
  {
   "cell_type": "code",
   "execution_count": 37,
   "id": "0f7eab98-efb4-4232-a8bc-d8a741c93807",
   "metadata": {},
   "outputs": [
    {
     "name": "stdout",
     "output_type": "stream",
     "text": [
      "https://www.linkedin.com/in/ivandelpuerto\n",
      "https://www.linkedin.com/in/ivandelpuerto\n",
      "https://www.linkedin.com/in/siyu-xie\n",
      "https://www.linkedin.com/in/siyu-xie\n",
      "https://www.linkedin.com/in/ainagarciasanchez\n",
      "https://www.linkedin.com/in/ainagarciasanchez\n",
      "https://www.linkedin.com/in/jorge-cinca-971377144\n",
      "https://www.linkedin.com/in/jorge-cinca-971377144\n",
      "https://www.linkedin.com/in/sandeep-kotyada-a880661ab\n",
      "https://www.linkedin.com/in/sandeep-kotyada-a880661ab\n",
      "https://www.linkedin.com/in/claudia-alonso-carrasco\n",
      "https://www.linkedin.com/in/claudia-alonso-carrasco\n",
      "https://www.linkedin.com/in/romivelardes\n",
      "https://www.linkedin.com/in/romivelardes\n",
      "https://www.linkedin.com/in/ACoAAAo5ApMBDsqKhBSN94PXq8IfFj8rqd0MJpM\n",
      "https://www.linkedin.com/in/dariodennisperilli\n",
      "https://www.linkedin.com/in/dariodennisperilli\n",
      "https://www.linkedin.com/in/catalina-yasno-\n",
      "https://www.linkedin.com/in/catalina-yasno-\n",
      "https://www.linkedin.com/in/ACoAACyHgMoBaAzDtzp-niOrtuTjHDHzr2cOS0I\n",
      "https://www.linkedin.com/in/marianacvargas\n",
      "https://www.linkedin.com/in/marianacvargas\n",
      "https://www.linkedin.com/in/sofiapituelli\n",
      "https://www.linkedin.com/in/sofiapituelli\n",
      "https://www.linkedin.com/in/francescmelerosantiago\n",
      "https://www.linkedin.com/in/francescmelerosantiago\n"
     ]
    }
   ],
   "source": [
    "people_links = []\n",
    "for elem in people_elems:\n",
    "    links = elem.find_elements(By.TAG_NAME,\"a\")\n",
    "    for l in links:\n",
    "        people_link = l.get_property(\"href\").split(\"?\")[0]\n",
    "        print(people_link)\n",
    "        people_links.append(people_link)"
   ]
  },
  {
   "cell_type": "code",
   "execution_count": 38,
   "id": "772c5e6c-87f3-4686-bb42-d3be529bc2cb",
   "metadata": {},
   "outputs": [
    {
     "ename": "NameError",
     "evalue": "name 'xoffset' is not defined",
     "output_type": "error",
     "traceback": [
      "\u001b[1;31m---------------------------------------------------------------------------\u001b[0m",
      "\u001b[1;31mNameError\u001b[0m                                 Traceback (most recent call last)",
      "Cell \u001b[1;32mIn[38], line 6\u001b[0m\n\u001b[0;32m      4\u001b[0m \u001b[38;5;28;01mfor\u001b[39;00m _ \u001b[38;5;129;01min\u001b[39;00m \u001b[38;5;28mrange\u001b[39m(limit):\n\u001b[0;32m      5\u001b[0m     elem \u001b[38;5;241m=\u001b[39m browser\u001b[38;5;241m.\u001b[39mfind_element(\u001b[38;5;124m\"\u001b[39m\u001b[38;5;124mxpath\u001b[39m\u001b[38;5;124m\"\u001b[39m,\u001b[38;5;124m\"\u001b[39m\u001b[38;5;124m//span[text()=\u001b[39m\u001b[38;5;124m'\u001b[39m\u001b[38;5;124mShow more results\u001b[39m\u001b[38;5;124m'\u001b[39m\u001b[38;5;124m]\u001b[39m\u001b[38;5;124m\"\u001b[39m)\n\u001b[1;32m----> 6\u001b[0m     actionChains\u001b[38;5;241m.\u001b[39mmove_to_element_with_offset(elem, \u001b[43mxoffset\u001b[49m, yoffset)\u001b[38;5;241m.\u001b[39mperform()\n\u001b[0;32m      7\u001b[0m     time\u001b[38;5;241m.\u001b[39msleep(\u001b[38;5;241m2\u001b[39m)\n",
      "\u001b[1;31mNameError\u001b[0m: name 'xoffset' is not defined"
     ]
    }
   ],
   "source": [
    "# scrolling upto 5 times::\n",
    "actionChains = ActionChains(browser)\n",
    "limit = 5\n",
    "for _ in range(limit):\n",
    "    elem = browser.find_element(\"xpath\",\"//span[text()='Show more results']\")\n",
    "    actionChains.move_to_element_with_offset(elem, xoffset, yoffset).perform()\n",
    "    time.sleep(2)\n",
    "\n"
   ]
  },
  {
   "cell_type": "code",
   "execution_count": 40,
   "id": "e11bd6f4-656c-4c73-8ed1-78ad0cd58300",
   "metadata": {},
   "outputs": [],
   "source": [
    "people_class_name = \"grid\"\n",
    "elem = browser.find_element(By.CLASS_NAME, people_class_name)"
   ]
  },
  {
   "cell_type": "code",
   "execution_count": 41,
   "id": "90140ce4-5587-42cf-85d7-70a432a97a4b",
   "metadata": {},
   "outputs": [
    {
     "name": "stdout",
     "output_type": "stream",
     "text": [
      "\n",
      "                <div>\n",
      "  \n",
      "                  \n",
      "    <section class=\"artdeco-card full-width XYjbcVmFjTlsprPpawIbVQlHVBSMTwkXjpzy\">\n",
      "<!---->\n",
      "  \n",
      "      <img width=\"210\" src=\"data:image/gif;base64,R0lGODlhAQABAIAAAAAAAP///yH5BAEAAAAALAAAAAABAAEAAAIBRAA7\" ariarole=\"presentation\" loading=\"lazy\" height=\"210\" alt=\"\" id=\"ember176\" class=\"evi-image lazy-image ghost-default ember-view org-people-profile-card__cover-photo org-people-profile-card__cover-photo--people\">\n",
      "\n",
      "      <div class=\"org-people-profile-card__profile-info\">\n",
      "        <div id=\"ember177\" class=\"artdeco-entity-lockup artdeco-entity-lockup--stacked-center artdeco-entity-lockup--size-7 ember-view\">\n",
      "          <div id=\"ember178\" class=\"artdeco-entity-lockup__image artdeco-entity-lockup__image--type-circle ember-view\" type=\"circle\">\n",
      "\n",
      "              <a class=\"nuXDIvMbeMYWApPugutCOKmVhZzvTYUM \" id=\"org-people-profile-card__profile-image-0\" href=\"https://www.linkedin.com/in/ivandelpuerto?miniProfileUrn=urn%3Ali%3Afs_miniProfile%3AACoAAAzuflkBudXYdLDDd4-rZlYvKOJtwuYKFJ0\" data-test-app-aware-link=\"\">\n",
      "                <img width=\"104\" src=\"https://media.licdn.com/dms/image/v2/D4D03AQFh9wdc-B10Cg/profile-displayphoto-shrink_100_100/profile-displayphoto-shrink_100_100/0/1688728544781?e=1752105600&amp;v=beta&amp;t=pXcWDtb-i4wOb8QFVQZD-kAiPaPo1aEs2I-w5H4Q2Ys\" loading=\"lazy\" height=\"104\" alt=\"Iván del Puerto\" id=\"ember179\" class=\"evi-image lazy-image ember-view\">\n",
      "              </a>\n",
      "\n",
      "          \n",
      "</div>\n",
      "          <div id=\"ember180\" class=\"artdeco-entity-lockup__content ember-view\">\n",
      "            <div id=\"ember181\" class=\"artdeco-entity-lockup__title ember-view\">\n",
      "                <a class=\"nuXDIvMbeMYWApPugutCOKmVhZzvTYUM  link-without-visited-state\" aria-label=\"View Iván del Puerto’s profile\" href=\"https://www.linkedin.com/in/ivandelpuerto?miniProfileUrn=urn%3Ali%3Afs_miniProfile%3AACoAAAzuflkBudXYdLDDd4-rZlYvKOJtwuYKFJ0\" data-test-app-aware-link=\"\">\n",
      "                    <div id=\"ember183\" class=\"ember-view lt-line-clamp lt-line-clamp--single-line KYQqsjbHpMmLXUDZbXhyeXRAAWxYaGoA\n",
      "                      t-black\" style=\"\">\n",
      "      Iván del Puerto\n",
      "\n",
      "<!---->  </div>\n",
      "\n",
      "                </a>\n",
      "            \n",
      "</div>\n",
      "              <div id=\"ember184\" class=\"artdeco-entity-lockup__badge ember-view\">    <span class=\"a11y-text\">2nd degree connection</span>\n",
      "  <span class=\"artdeco-entity-lockup__degree\" aria-hidden=\"true\">\n",
      "    ·&nbsp;2nd\n",
      "  </span>\n",
      "<!----><!----></div>\n",
      "            <div id=\"ember185\" class=\"artdeco-entity-lockup__subtitle ember-view\">\n",
      "                <div class=\"t-14 t-black--light t-normal\">\n",
      "                    <div id=\"ember187\" class=\"ember-view lt-line-clamp lt-line-clamp--multi-line\" style=\"-webkit-line-clamp: 2\">\n",
      "      Nuevo reto profesional\n",
      "\n",
      "<!---->  </div>\n",
      "\n",
      "                </div>\n",
      "            </div>\n",
      "            <div id=\"ember188\" class=\"artdeco-entity-lockup__caption ember-view\"></div>\n",
      "          </div>\n",
      "        \n",
      "</div>\n",
      "          <span class=\"text-align-center\">\n",
      "                <span id=\"ember190\" class=\"ember-view lt-line-clamp lt-line-clamp--multi-line t-12 t-black--light mt2\" style=\"-webkit-line-clamp: 3\">\n",
      "      3K followers • Philemon Kiprono is a mutual connection\n",
      "\n",
      "<!---->  </span>\n",
      "\n",
      "          </span>\n",
      "      </div>\n",
      "\n",
      "        <footer class=\"ph3 pb3\">\n",
      "            <button aria-label=\"Follow Iván del Puerto\" id=\"ember191\" class=\"artdeco-button artdeco-button--2 artdeco-button--secondary ember-view full-width\" type=\"button\"><!---->\n",
      "<span class=\"artdeco-button__text\">\n",
      "    Follow\n",
      "</span></button>\n",
      "                  </footer>\n",
      "    \n",
      "</section>\n",
      "  \n",
      "                \n",
      "</div>\n",
      "\n",
      "              \n"
     ]
    }
   ],
   "source": [
    "print(elem.get_attribute('innerHTML'))"
   ]
  },
  {
   "cell_type": "code",
   "execution_count": 42,
   "id": "e251b461-b207-4af8-a064-0b7f1139b876",
   "metadata": {},
   "outputs": [],
   "source": [
    "## Name and tag line :> \n",
    "# name :> \n",
    "temps = elem.find_elements(By.CLASS_NAME, \"ember-view\")"
   ]
  },
  {
   "cell_type": "code",
   "execution_count": 43,
   "id": "1caf8c5e-d623-4a79-8163-b9ea1f1b855d",
   "metadata": {},
   "outputs": [
    {
     "data": {
      "text/plain": [
       "['Iván del Puerto', '2nd degree connection', '· 2nd', 'Nuevo reto profesional']"
      ]
     },
     "execution_count": 43,
     "metadata": {},
     "output_type": "execute_result"
    }
   ],
   "source": [
    "temps[1].text.split(\"\\n\")"
   ]
  },
  {
   "cell_type": "code",
   "execution_count": 44,
   "id": "15896ac0-476c-4523-9ddd-281eb4a3de6d",
   "metadata": {},
   "outputs": [
    {
     "data": {
      "text/plain": [
       "12"
      ]
     },
     "execution_count": 44,
     "metadata": {},
     "output_type": "execute_result"
    }
   ],
   "source": [
    "len(people_elems)"
   ]
  },
  {
   "cell_type": "code",
   "execution_count": 46,
   "id": "4e0f8ca7-067d-4e04-8bba-8d239993376d",
   "metadata": {},
   "outputs": [],
   "source": [
    "people = []\n",
    "for elem in people_elems:\n",
    "    try:\n",
    "        links = elem.find_elements(By.TAG_NAME,\"a\")\n",
    "        people_link = links[0].get_property(\"href\").split(\"?\")[0]\n",
    "    except:\n",
    "        people_link = \"\"\n",
    "        \n",
    "    temps = elem.find_elements(By.CLASS_NAME, \"ember-view\")\n",
    "    splits = temps[1].text.split(\"\\n\")\n",
    "    name = splits[0]\n",
    "    tag = splits[1]\n",
    "    obj = {\n",
    "        \"name\":name,\n",
    "        \"tag\":tag,\n",
    "        \"link\":people_link\n",
    "    }\n",
    "    people.append(obj)"
   ]
  },
  {
   "cell_type": "code",
   "execution_count": 47,
   "id": "623a492a-2181-4017-84e9-fa504ea42662",
   "metadata": {},
   "outputs": [],
   "source": [
    "df = pd.DataFrame(people)\n",
    "# df.to_csv(\"../results/institute-of-aeronautical-engineering.csv\",index=None)"
   ]
  },
  {
   "cell_type": "code",
   "execution_count": 48,
   "id": "3c823870-40f0-4506-bda0-323f69ffcb3c",
   "metadata": {},
   "outputs": [
    {
     "data": {
      "text/html": [
       "<div>\n",
       "<style scoped>\n",
       "    .dataframe tbody tr th:only-of-type {\n",
       "        vertical-align: middle;\n",
       "    }\n",
       "\n",
       "    .dataframe tbody tr th {\n",
       "        vertical-align: top;\n",
       "    }\n",
       "\n",
       "    .dataframe thead th {\n",
       "        text-align: right;\n",
       "    }\n",
       "</style>\n",
       "<table border=\"1\" class=\"dataframe\">\n",
       "  <thead>\n",
       "    <tr style=\"text-align: right;\">\n",
       "      <th></th>\n",
       "      <th>name</th>\n",
       "      <th>tag</th>\n",
       "      <th>link</th>\n",
       "    </tr>\n",
       "  </thead>\n",
       "  <tbody>\n",
       "    <tr>\n",
       "      <th>0</th>\n",
       "      <td>Iván del Puerto</td>\n",
       "      <td>2nd degree connection</td>\n",
       "      <td>https://www.linkedin.com/in/ivandelpuerto</td>\n",
       "    </tr>\n",
       "    <tr>\n",
       "      <th>1</th>\n",
       "      <td>Ivy (Siyu) Xie</td>\n",
       "      <td>2nd degree connection</td>\n",
       "      <td>https://www.linkedin.com/in/siyu-xie</td>\n",
       "    </tr>\n",
       "    <tr>\n",
       "      <th>2</th>\n",
       "      <td>Aina Garcia Sánchez</td>\n",
       "      <td>2nd degree connection</td>\n",
       "      <td>https://www.linkedin.com/in/ainagarciasanchez</td>\n",
       "    </tr>\n",
       "    <tr>\n",
       "      <th>3</th>\n",
       "      <td>Jorge Cinca</td>\n",
       "      <td>2nd degree connection</td>\n",
       "      <td>https://www.linkedin.com/in/jorge-cinca-971377144</td>\n",
       "    </tr>\n",
       "    <tr>\n",
       "      <th>4</th>\n",
       "      <td>Sandeep Kotyada</td>\n",
       "      <td>2nd degree connection</td>\n",
       "      <td>https://www.linkedin.com/in/sandeep-kotyada-a8...</td>\n",
       "    </tr>\n",
       "    <tr>\n",
       "      <th>5</th>\n",
       "      <td>Clàudia Alonso Carrasco</td>\n",
       "      <td>2nd degree connection</td>\n",
       "      <td>https://www.linkedin.com/in/claudia-alonso-car...</td>\n",
       "    </tr>\n",
       "    <tr>\n",
       "      <th>6</th>\n",
       "      <td>Romina Velardes</td>\n",
       "      <td>2nd degree connection</td>\n",
       "      <td>https://www.linkedin.com/in/romivelardes</td>\n",
       "    </tr>\n",
       "    <tr>\n",
       "      <th>7</th>\n",
       "      <td>Dario Dennis Perilli, MBA candidate</td>\n",
       "      <td>2nd degree connection</td>\n",
       "      <td>https://www.linkedin.com/in/dariodennisperilli</td>\n",
       "    </tr>\n",
       "    <tr>\n",
       "      <th>8</th>\n",
       "      <td>Catalina Yasno</td>\n",
       "      <td>2nd degree connection</td>\n",
       "      <td>https://www.linkedin.com/in/catalina-yasno-</td>\n",
       "    </tr>\n",
       "    <tr>\n",
       "      <th>9</th>\n",
       "      <td>Mariana Vargas</td>\n",
       "      <td>2nd degree connection</td>\n",
       "      <td>https://www.linkedin.com/in/marianacvargas</td>\n",
       "    </tr>\n",
       "    <tr>\n",
       "      <th>10</th>\n",
       "      <td>Sofía Pituelli</td>\n",
       "      <td>2nd degree connection</td>\n",
       "      <td>https://www.linkedin.com/in/sofiapituelli</td>\n",
       "    </tr>\n",
       "    <tr>\n",
       "      <th>11</th>\n",
       "      <td>Francesc Melero Santiago</td>\n",
       "      <td>2nd degree connection</td>\n",
       "      <td>https://www.linkedin.com/in/francescmelerosant...</td>\n",
       "    </tr>\n",
       "  </tbody>\n",
       "</table>\n",
       "</div>"
      ],
      "text/plain": [
       "                                   name                    tag  \\\n",
       "0                       Iván del Puerto  2nd degree connection   \n",
       "1                        Ivy (Siyu) Xie  2nd degree connection   \n",
       "2                   Aina Garcia Sánchez  2nd degree connection   \n",
       "3                           Jorge Cinca  2nd degree connection   \n",
       "4                       Sandeep Kotyada  2nd degree connection   \n",
       "5               Clàudia Alonso Carrasco  2nd degree connection   \n",
       "6                       Romina Velardes  2nd degree connection   \n",
       "7   Dario Dennis Perilli, MBA candidate  2nd degree connection   \n",
       "8                        Catalina Yasno  2nd degree connection   \n",
       "9                        Mariana Vargas  2nd degree connection   \n",
       "10                       Sofía Pituelli  2nd degree connection   \n",
       "11             Francesc Melero Santiago  2nd degree connection   \n",
       "\n",
       "                                                 link  \n",
       "0           https://www.linkedin.com/in/ivandelpuerto  \n",
       "1                https://www.linkedin.com/in/siyu-xie  \n",
       "2       https://www.linkedin.com/in/ainagarciasanchez  \n",
       "3   https://www.linkedin.com/in/jorge-cinca-971377144  \n",
       "4   https://www.linkedin.com/in/sandeep-kotyada-a8...  \n",
       "5   https://www.linkedin.com/in/claudia-alonso-car...  \n",
       "6            https://www.linkedin.com/in/romivelardes  \n",
       "7      https://www.linkedin.com/in/dariodennisperilli  \n",
       "8         https://www.linkedin.com/in/catalina-yasno-  \n",
       "9          https://www.linkedin.com/in/marianacvargas  \n",
       "10          https://www.linkedin.com/in/sofiapituelli  \n",
       "11  https://www.linkedin.com/in/francescmelerosant...  "
      ]
     },
     "execution_count": 48,
     "metadata": {},
     "output_type": "execute_result"
    }
   ],
   "source": [
    "df"
   ]
  },
  {
   "cell_type": "code",
   "execution_count": null,
   "id": "ff0b6896-7fa7-4157-b891-e9aedc935c17",
   "metadata": {},
   "outputs": [],
   "source": []
  }
 ],
 "metadata": {
  "kernelspec": {
   "display_name": "Python 3 (ipykernel)",
   "language": "python",
   "name": "python3"
  },
  "language_info": {
   "codemirror_mode": {
    "name": "ipython",
    "version": 3
   },
   "file_extension": ".py",
   "mimetype": "text/x-python",
   "name": "python",
   "nbconvert_exporter": "python",
   "pygments_lexer": "ipython3",
   "version": "3.10.14"
  }
 },
 "nbformat": 4,
 "nbformat_minor": 5
}
