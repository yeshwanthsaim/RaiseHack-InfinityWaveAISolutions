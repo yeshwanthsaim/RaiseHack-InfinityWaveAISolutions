{
 "cells": [
  {
   "cell_type": "code",
   "execution_count": null,
   "id": "cc2f75aa-331a-4635-b198-22fe8a2626e8",
   "metadata": {},
   "outputs": [],
   "source": [
    "# Login into LinkedIn"
   ]
  },
  {
   "cell_type": "code",
   "execution_count": 4,
   "id": "674f22f4-5133-4fcf-9865-81c1542e6d93",
   "metadata": {},
   "outputs": [],
   "source": [
    "# libraries :: \n",
    "\n",
    "# Selenium\n",
    "from selenium import webdriver\n",
    "from selenium.webdriver.common.action_chains import ActionChains\n",
    "from selenium.webdriver.chrome.service import Service\n",
    "from selenium import webdriver\n",
    "from selenium.webdriver.common.by import By\n",
    "from selenium import webdriver\n",
    "from selenium.webdriver.chrome.service import Service\n",
    "from webdriver_manager.chrome import ChromeDriverManager as CM\n",
    "from selenium.webdriver.chrome.options import Options\n",
    "from selenium.webdriver.support.ui import WebDriverWait\n",
    "from selenium.webdriver.support import expected_conditions as EC\n",
    "from selenium.webdriver.common.by import By\n",
    "\n",
    "# others\n",
    "import time\n",
    "import pandas as pd\n",
    "import re\n",
    "import tqdm\n",
    "import os"
   ]
  },
  {
   "cell_type": "code",
   "execution_count": null,
   "id": "161f479d-8a2c-46d1-acfc-a3c6b88e8e2a",
   "metadata": {},
   "outputs": [],
   "source": []
  },
  {
   "cell_type": "code",
   "execution_count": 8,
   "id": "f7179f60-5445-42c1-a435-f3cef8912a88",
   "metadata": {},
   "outputs": [],
   "source": [
    "# New way :>\n",
    "chrome_options = Options()\n",
    "\n",
    "# Use WebDriverManager to handle driver installation\n",
    "service = Service(executable_path=CM().install())\n",
    "browser = webdriver.Chrome(service=service, options=chrome_options)"
   ]
  },
  {
   "cell_type": "code",
   "execution_count": 9,
   "id": "44ba60a6-e482-45c6-a778-82f8f90585dc",
   "metadata": {},
   "outputs": [],
   "source": [
    "browser.maximize_window()"
   ]
  },
  {
   "cell_type": "code",
   "execution_count": 10,
   "id": "106bb413-aa2d-407e-bb78-b5d53db2c6fd",
   "metadata": {},
   "outputs": [],
   "source": [
    "# login :> \n",
    "# login auto :>\n",
    "linkedin_url = \"https://www.linkedin.com/\"\n",
    "browser.get(linkedin_url)\n",
    "\n",
    "time.sleep(2)\n",
    "\n",
    "time.sleep(5)\n",
    "# Linkedin Login:\n",
    "## Linkedin Sign In :: Single go\n",
    "## Identify remember option :: linkedin has\n",
    "login_url = \"https://www.linkedin.com/login\"\n",
    "browser.get(login_url)\n",
    "\n",
    "username = \"yeshudatascience@gmail.com\"\n",
    "password = \"Y35#&e@I*ninefour\"\n",
    "\n",
    "elem = browser.find_element(By.ID, \"username\")\n",
    "elem.clear()\n",
    "elem.send_keys(username)\n",
    "\n",
    "elem = browser.find_element(By.ID, \"password\")\n",
    "elem.clear()\n",
    "elem.send_keys(password)\n",
    "\n",
    "# pressing enter after filling\n",
    "elem.send_keys(Keys.RETURN)\n"
   ]
  },
  {
   "cell_type": "code",
   "execution_count": null,
   "id": "1d354999-4d04-4474-8faf-c0faaeac77a7",
   "metadata": {},
   "outputs": [],
   "source": []
  },
  {
   "cell_type": "code",
   "execution_count": 11,
   "id": "facb4d33-6c37-4ea6-a4e1-e0c25213fb5e",
   "metadata": {},
   "outputs": [],
   "source": [
    "## Simple Search:>"
   ]
  },
  {
   "cell_type": "code",
   "execution_count": 20,
   "id": "77822847-5ab7-463b-9b2f-639524511c7a",
   "metadata": {},
   "outputs": [],
   "source": [
    "search_class_name = \"basic-input\""
   ]
  },
  {
   "cell_type": "code",
   "execution_count": 21,
   "id": "6a9b1cf7-c6e8-4d2a-a79e-d3cb5992f5df",
   "metadata": {},
   "outputs": [],
   "source": [
    "elem = browser.find_element(By.CLASS_NAME, search_class_name)\n",
    "elem.clear()\n",
    "search_string = \"NIT Rourkela\"\n",
    "elem.send_keys(search_string)"
   ]
  },
  {
   "cell_type": "code",
   "execution_count": 22,
   "id": "6f25cfb4-1b07-414f-b0c5-2efe514ae7e4",
   "metadata": {},
   "outputs": [],
   "source": [
    "# pressing enter after filling\n",
    "elem.send_keys(Keys.RETURN)"
   ]
  },
  {
   "cell_type": "code",
   "execution_count": null,
   "id": "4536625e-eb7b-4fd3-b74e-1da8c7140c04",
   "metadata": {},
   "outputs": [],
   "source": [
    "url = \"https://www.linkedin.com/school/st.-martin's-engineering-college/\""
   ]
  }
 ],
 "metadata": {
  "kernelspec": {
   "display_name": "Python 3 (ipykernel)",
   "language": "python",
   "name": "python3"
  },
  "language_info": {
   "codemirror_mode": {
    "name": "ipython",
    "version": 3
   },
   "file_extension": ".py",
   "mimetype": "text/x-python",
   "name": "python",
   "nbconvert_exporter": "python",
   "pygments_lexer": "ipython3",
   "version": "3.10.14"
  }
 },
 "nbformat": 4,
 "nbformat_minor": 5
}
