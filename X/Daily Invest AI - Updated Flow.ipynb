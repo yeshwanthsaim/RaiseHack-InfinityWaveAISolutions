{
 "cells": [
  {
   "cell_type": "code",
   "execution_count": 1,
   "id": "69539701-b681-4190-9217-3040ed100f70",
   "metadata": {},
   "outputs": [],
   "source": [
    "# Daily Invest AI Demo"
   ]
  },
  {
   "cell_type": "raw",
   "id": "23199c96-9385-4b4b-8fc2-9182525b6e31",
   "metadata": {},
   "source": [
    "Steps:\n",
    "1. Load the latest news\n",
    "2. Identify company\n",
    "3. add symbol\n",
    "4. translate to hindi\n",
    "5. Get latest prices\n",
    "6. save the output"
   ]
  },
  {
   "cell_type": "code",
   "execution_count": 137,
   "id": "7db4e1b4-f32f-4d22-b52d-7ce46ff1112d",
   "metadata": {},
   "outputs": [],
   "source": [
    "# libraries\n",
    "from nsepython import *\n",
    "from datetime import datetime, timedelta\n",
    "import pandas as pd\n",
    "\n",
    "import ollama\n",
    "import chromadb\n",
    "\n",
    "from tqdm import tqdm"
   ]
  },
  {
   "cell_type": "markdown",
   "id": "ceeccf5c-11de-4ef5-830a-fd7e2af0e59f",
   "metadata": {},
   "source": [
    "### Step 1: Loading the latest news"
   ]
  },
  {
   "cell_type": "code",
   "execution_count": 138,
   "id": "53b14323-9d03-4f64-8822-af48b9de7cb7",
   "metadata": {},
   "outputs": [
    {
     "name": "stderr",
     "output_type": "stream",
     "text": [
      "C:\\Users\\yeshu\\.conda\\envs\\ai\\lib\\site-packages\\openpyxl\\descriptors\\base.py:47: RuntimeWarning: coroutine 'translate_text' was never awaited\n",
      "  super(Typed, self).__set__(instance, value)\n",
      "RuntimeWarning: Enable tracemalloc to get the object allocation traceback\n"
     ]
    }
   ],
   "source": [
    "## Filtering only nse listed stocks i.e 760\n",
    "file_path = \"../data/all_companies_nse.xlsx\"\n",
    "nse_listed = pd.read_excel(file_path)"
   ]
  },
  {
   "cell_type": "code",
   "execution_count": 139,
   "id": "daa173f9-c456-448a-aa62-4c9afb3eb392",
   "metadata": {},
   "outputs": [],
   "source": [
    "nse_listed.columns = [c.lower() for c in nse_listed.columns]"
   ]
  },
  {
   "cell_type": "code",
   "execution_count": 140,
   "id": "21035704-67c7-497b-8bf9-3fd8bf85d7f0",
   "metadata": {},
   "outputs": [],
   "source": [
    "news_file = \"latest_news.csv\"\n",
    "news = pd.read_csv(news_file,encoding='cp1252')"
   ]
  },
  {
   "cell_type": "code",
   "execution_count": 144,
   "id": "15643a10-b15c-4d23-b3fe-916bc1431d1d",
   "metadata": {},
   "outputs": [
    {
     "data": {
      "text/plain": [
       "(49, 4)"
      ]
     },
     "execution_count": 144,
     "metadata": {},
     "output_type": "execute_result"
    }
   ],
   "source": [
    "news.shape"
   ]
  },
  {
   "cell_type": "code",
   "execution_count": 143,
   "id": "a877da3a-5857-4178-a58f-e7cc328ec24e",
   "metadata": {},
   "outputs": [],
   "source": [
    "news.dropna(inplace=True)"
   ]
  },
  {
   "cell_type": "code",
   "execution_count": 145,
   "id": "9d8187d0-27cf-49fb-8193-e58e16e94ea0",
   "metadata": {},
   "outputs": [],
   "source": [
    "name_symbol_map = {}\n",
    "for arr in nse_listed[['company name', 'symbol']].values:\n",
    "    name_symbol_map[arr[0]]=arr[1]"
   ]
  },
  {
   "cell_type": "code",
   "execution_count": 146,
   "id": "be9d5534-a08f-4819-89ea-002f2e77596c",
   "metadata": {},
   "outputs": [],
   "source": [
    "## adding few others :>\n",
    "name_symbol_map['Caplin Point Laboratories'] = \"CAPLIPOINT\"\n",
    "name_symbol_map['PERSISTENT SYSTEMS'] = \"PERSISTENT\"\n",
    "name_symbol_map['MACROTECH DEVELOPERS'] = \"LODHA\"\n",
    "name_symbol_map['KNR CONSTRUCTIONS'] = \"KNRCON\"\n",
    "name_symbol_map['KALYAN JEWELLERS'] = \"KALYANKJIL\""
   ]
  },
  {
   "cell_type": "code",
   "execution_count": null,
   "id": "84b6647b-be7e-451d-8c08-d4571a06dce2",
   "metadata": {},
   "outputs": [],
   "source": []
  },
  {
   "cell_type": "code",
   "execution_count": 16,
   "id": "71d191d1-e1a1-4b2f-9362-bfeed33951e9",
   "metadata": {},
   "outputs": [],
   "source": [
    "updated_records = []"
   ]
  },
  {
   "cell_type": "code",
   "execution_count": 18,
   "id": "ab1dffab-5a78-4a55-a68d-7000f20b626d",
   "metadata": {},
   "outputs": [],
   "source": [
    "## Adding company Name :>\n",
    "news_records = news.to_dict(\"records\")"
   ]
  },
  {
   "cell_type": "code",
   "execution_count": null,
   "id": "9c651ed4-eb23-4bb3-bbee-79a12ce746c4",
   "metadata": {},
   "outputs": [],
   "source": [
    "chroma_client = chromadb.PersistentClient(path=\"names_db\")"
   ]
  },
  {
   "cell_type": "code",
   "execution_count": 21,
   "id": "30b06ea3-f087-4339-8e94-e868b06f5af0",
   "metadata": {},
   "outputs": [],
   "source": [
    "# Creating \n",
    "all_company_names = list(nse_listed['company name'].values)\n",
    "collection_names = chroma_client.create_collection(name=\"nse_listed_company_names\")\n",
    "\n",
    "collection_names.add(\n",
    "    documents=all_company_names,\n",
    "    ids=[str(i) for i in range(len(all_company_names))]\n",
    ")\n"
   ]
  },
  {
   "cell_type": "code",
   "execution_count": 22,
   "id": "491c88d1-e480-4fe6-826e-835dbd08b6f4",
   "metadata": {},
   "outputs": [],
   "source": [
    "collection_names = chroma_client.get_collection(name=\"nse_listed_company_names\")"
   ]
  },
  {
   "cell_type": "code",
   "execution_count": 23,
   "id": "26e264cb-6074-4dcb-be9c-31e08a118692",
   "metadata": {},
   "outputs": [],
   "source": [
    "## Get Name function\n",
    "# Chroma \n",
    "# llm llava\n",
    "\n",
    "def processName(res):\n",
    "    try:\n",
    "        \n",
    "        res = res.replace(\"json\",\"\")\n",
    "        res = res.replace(\"`\",\"\")\n",
    "        res = res.strip()\n",
    "        res = eval(res)\n",
    "        name = res['company']\n",
    "    except:\n",
    "        print(\"Issue with :>\",res)\n",
    "        name = \"\"\n",
    "    return name\n",
    "    \n",
    "def extractCompanyName(n):\n",
    "\n",
    "    results = collection_names.query(\n",
    "        query_texts=[n], # Chroma will embed this for you\n",
    "        n_results=5 # how many results to return\n",
    "    )\n",
    "\n",
    "    choices = \"\\n\" + \"\\n\".join(results['documents'][0]) + \"\\n\"\n",
    "\n",
    "    ## Asking LLM for further identification :>\n",
    "    sample_response = {\"company\":\"\"}\n",
    "    prompt = f\"\"\"You are an expert financial analyst. You are expert in identification of company in the news article. \n",
    "    You are given an news article. You need to identify which company from the choices below mentioned in the news article.\n",
    "    Note: Company names might be in short form, as it is a twitter text post. Match the name even for fuzzy matching. \n",
    "    \n",
    "    \n",
    "    Here is the news article : {n}\n",
    "    \n",
    "    Here are the choices : {choices}\n",
    "    \n",
    "    provide the answer in json format {sample_response}\n",
    "    Dont change the name of the company from the choices even the . or , or casing.\n",
    "    Cross check once again, dont mention reasoning or change the names of the choices. Just give me the company name in above format\n",
    "    \"\"\"\n",
    "\n",
    "    response = ollama.chat(\n",
    "        model='llava:7b',\n",
    "        messages=[{\n",
    "            'role': 'user',\n",
    "            'content': prompt\n",
    "        }]\n",
    "    )\n",
    "    \n",
    "    res = response['message']['content']\n",
    "\n",
    "    company_name = processName(res)\n",
    "    \n",
    "    return company_name\n",
    "    "
   ]
  },
  {
   "cell_type": "code",
   "execution_count": 40,
   "id": "36aca5bb-2b99-45d0-a01a-996406641b4e",
   "metadata": {},
   "outputs": [
    {
     "name": "stderr",
     "output_type": "stream",
     "text": [
      "100%|████████████████████████████████████████████████████████████████████████████████████| 6/6 [00:26<00:00,  4.45s/it]\n"
     ]
    }
   ],
   "source": [
    "for r in tqdm(news_records[4+19+1+5+1+6+5+1:]):\n",
    "    obj = r.copy()\n",
    "    company_name = extractCompanyName(obj['text'])\n",
    "    \n",
    "    company_symbol = name_symbol_map[company_name]\n",
    "    obj[\"company name\"] = company_name\n",
    "    obj[\"symbol\"] = company_symbol\n",
    "    updated_records.append(obj)"
   ]
  },
  {
   "cell_type": "code",
   "execution_count": 135,
   "id": "82cb8f45-8dc7-4dff-982a-f50c6bfe2007",
   "metadata": {},
   "outputs": [
    {
     "data": {
      "text/plain": [
       "{'user': 'REDBOXINDIA',\n",
       " 'id': 1876267042678190355,\n",
       " 'Date&Time': '2025-01-06T13:58:16.000Z',\n",
       " 'text': 'NESCO: CO DECLARED HIGHEST BIDDER FOR WAYSIDE AMENITIES ON BENGALURU CHENNAI EXPRESSWAY || TOTAL DEVELOPMENT COST ESTIMATED AT 750M RUPEES PER SITE; ESTIMATED ANNUALISED REVENUE 3.50B RUPEES FROM YEAR 4',\n",
       " 'company name': 'NESCO Ltd.',\n",
       " 'symbol': 'NESCO'}"
      ]
     },
     "execution_count": 135,
     "metadata": {},
     "output_type": "execute_result"
    }
   ],
   "source": [
    "updated_records[-1]"
   ]
  },
  {
   "cell_type": "markdown",
   "id": "2379350c-dff5-4bb5-bcb1-1fb2d0f28ec7",
   "metadata": {},
   "source": [
    "## Translation"
   ]
  },
  {
   "cell_type": "code",
   "execution_count": 66,
   "id": "58344f87-3878-4056-9fa1-008968ee1ff4",
   "metadata": {},
   "outputs": [],
   "source": [
    "sample_format = {\n",
    "    \"Hindi\": \"\",\n",
    "    \"German\": \"\"\n",
    "}"
   ]
  },
  {
   "cell_type": "code",
   "execution_count": 67,
   "id": "6019476f-00ed-496f-a835-6b12414be93f",
   "metadata": {},
   "outputs": [],
   "source": [
    "news_article = updated_records[-1]['text']"
   ]
  },
  {
   "cell_type": "code",
   "execution_count": 68,
   "id": "0666be45-260c-447a-a646-9d7a8fa7d9a8",
   "metadata": {},
   "outputs": [],
   "source": [
    "## Now Transalating to each language :> \n",
    "prompt = f\"\"\"You are expert in transalting a sentence from english to other languages. You were given an news articles in short \\\n",
    "form in english. Translate it to following languages:\n",
    "Hindi, German\n",
    "Here is the new article: {news_article}\n",
    "note: Donot change the meaning of the news article. Do not change the company names in the news. \n",
    "Provide the output in following format. Only provide in following json format. Donot include even phrases like \"here it is\"\n",
    ":> {sample_format}\n",
    "\"\"\""
   ]
  },
  {
   "cell_type": "code",
   "execution_count": null,
   "id": "367ca978-7648-49a9-82c6-21b14be12c2b",
   "metadata": {},
   "outputs": [],
   "source": []
  },
  {
   "cell_type": "code",
   "execution_count": 69,
   "id": "9572ce20-e29b-466c-8305-15fed44c0fd9",
   "metadata": {},
   "outputs": [],
   "source": [
    "response = ollama.chat(\n",
    "        model='llama3.2:latest',\n",
    "        messages=[{\n",
    "            'role': 'user',\n",
    "            'content': prompt\n",
    "        }]\n",
    "    )\n",
    "    \n",
    "res = response['message']['content']\n"
   ]
  },
  {
   "cell_type": "code",
   "execution_count": 70,
   "id": "c82d0b26-535e-406b-8493-34d32954e222",
   "metadata": {},
   "outputs": [
    {
     "data": {
      "text/plain": [
       "'>\\n{\\n    \"Hindi\": \"नेस्को : कॉ Declared Highest Bidder For Wayside Amenities On Bengaluru Chennai Expressway || Total Development Cost Estimated At 750 M Rupees Per Site; Estimated Annualised Revenue 3.50 B Rupees From Year 4\",\\n    \"German\": \"NESCO: CO ist höchstgebidzener für Wegebegünstigungen auf der Bengalur-Chennai-Expressway || Gesamtkostenabschätzung für einen Standort bei 750 Mio. Euro; Schätzungsrevenue pro Jahr von 3,5 Milliarden Rupees ab Jahresbeginn\"\\n}'"
      ]
     },
     "execution_count": 70,
     "metadata": {},
     "output_type": "execute_result"
    }
   ],
   "source": [
    "res"
   ]
  },
  {
   "cell_type": "code",
   "execution_count": 71,
   "id": "c2200d33-bc22-4942-b93b-d9bded4b1f94",
   "metadata": {},
   "outputs": [],
   "source": [
    "# Formating :\n",
    "def processText(res):\n",
    "    index_left = res.index(\"{\")\n",
    "    index_right = res.index(\"}\")\n",
    "\n",
    "    res_text = res[index_left:index_right+1]\n",
    "    res_obj = eval(res_text)\n",
    "    return res_obj"
   ]
  },
  {
   "cell_type": "code",
   "execution_count": 72,
   "id": "61ff2193-b268-4b81-8096-306fc28a7ef8",
   "metadata": {},
   "outputs": [
    {
     "data": {
      "text/plain": [
       "{'Hindi': 'नेस्को : कॉ Declared Highest Bidder For Wayside Amenities On Bengaluru Chennai Expressway || Total Development Cost Estimated At 750 M Rupees Per Site; Estimated Annualised Revenue 3.50 B Rupees From Year 4',\n",
       " 'German': 'NESCO: CO ist höchstgebidzener für Wegebegünstigungen auf der Bengalur-Chennai-Expressway || Gesamtkostenabschätzung für einen Standort bei 750 Mio. Euro; Schätzungsrevenue pro Jahr von 3,5 Milliarden Rupees ab Jahresbeginn'}"
      ]
     },
     "execution_count": 72,
     "metadata": {},
     "output_type": "execute_result"
    }
   ],
   "source": [
    "processText(res)"
   ]
  },
  {
   "cell_type": "code",
   "execution_count": 75,
   "id": "0fb00b73-b968-4235-ace7-4a1c4959ef8a",
   "metadata": {},
   "outputs": [],
   "source": [
    "final_records = []"
   ]
  },
  {
   "cell_type": "code",
   "execution_count": 97,
   "id": "55e14eeb-cacb-44ca-8846-c9399bca7ed2",
   "metadata": {},
   "outputs": [
    {
     "name": "stderr",
     "output_type": "stream",
     "text": [
      "100%|████████████████████████████████████████████████████████████████████████████████████| 7/7 [01:40<00:00, 14.43s/it]\n"
     ]
    }
   ],
   "source": [
    "for r in tqdm(updated_records[1+3+12+1+1+1+17+3:]):\n",
    "    obj = r.copy()\n",
    "    news_article = obj['text'].replace(\"\\n\", \" \")\n",
    "    ## Now Transalating to each language :> \n",
    "    prompt = f\"\"\"You are expert in transalting a sentence from english to other languages. You were given an news articles in short \\\n",
    "    form in english. Translate it to following languages:\n",
    "    Hindi, German\n",
    "    Here is the new article: {news_article}\n",
    "    note: Donot change the meaning of the news article. Do not change the company names in the news. \n",
    "    Provide the output in following format. Only provide in following json format. Donot include even phrases like \"here it is\"\n",
    "    :> {sample_format}\n",
    "    \"\"\"\n",
    "\n",
    "    response = ollama.chat(\n",
    "            model='llama3.2:latest',\n",
    "            messages=[{\n",
    "                'role': 'user',\n",
    "                'content': prompt\n",
    "            }]\n",
    "        )\n",
    "        \n",
    "    res = response['message']['content']\n",
    "    res_trans = processText(res)\n",
    "    obj.update(res_trans)\n",
    "    final_records.append(obj)\n",
    "        "
   ]
  },
  {
   "cell_type": "code",
   "execution_count": 98,
   "id": "06739fc7-4cea-4eb6-ba98-92ea42f9327b",
   "metadata": {},
   "outputs": [
    {
     "data": {
      "text/plain": [
       "{'user': 'REDBOXINDIA',\n",
       " 'id': 1876267042678190355,\n",
       " 'Date&Time': '2025-01-06T13:58:16.000Z',\n",
       " 'text': 'NESCO: CO DECLARED HIGHEST BIDDER FOR WAYSIDE AMENITIES ON BENGALURU CHENNAI EXPRESSWAY || TOTAL DEVELOPMENT COST ESTIMATED AT 750M RUPEES PER SITE; ESTIMATED ANNUALISED REVENUE 3.50B RUPEES FROM YEAR 4',\n",
       " 'company name': 'NESCO Ltd.',\n",
       " 'symbol': 'NESCO',\n",
       " 'Hindi': 'नाभी गॉलैः ऴॖইৱ अा ॸজদ फाी अभ्पेली',\n",
       " 'German': 'Фор Персеко: ко лубощня компличер ваяс фоур мёестеи кны ваще турю Сялдянмют фі ка шгое ардъ, у \\x04честняй \\\\u0430нувялитиз \\x05ръвеню \\x06ьтё мфлмяРягю 3.50 Искрх \\\\u044eля \\x07ряды \\\\8юркща'}"
      ]
     },
     "execution_count": 98,
     "metadata": {},
     "output_type": "execute_result"
    }
   ],
   "source": [
    "final_records[-1]"
   ]
  },
  {
   "cell_type": "code",
   "execution_count": 99,
   "id": "7cbec2e4-d1a5-48b4-af15-cb34f129f4fe",
   "metadata": {},
   "outputs": [
    {
     "data": {
      "text/plain": [
       "'NESCO: CO DECLARED HIGHEST BIDDER FOR WAYSIDE AMENITIES ON BENGALURU CHENNAI EXPRESSWAY || TOTAL DEVELOPMENT COST ESTIMATED AT 750M RUPEES PER SITE; ESTIMATED ANNUALISED REVENUE 3.50B RUPEES FROM YEAR 4'"
      ]
     },
     "execution_count": 99,
     "metadata": {},
     "output_type": "execute_result"
    }
   ],
   "source": [
    "news_article"
   ]
  },
  {
   "cell_type": "code",
   "execution_count": 100,
   "id": "4320d738-ae52-4d62-a749-daa9f71926fd",
   "metadata": {},
   "outputs": [
    {
     "data": {
      "text/plain": [
       "{'Hindi': 'नाभी गॉलैः ऴॖইৱ अा ॸজদ फाी अभ्पेली',\n",
       " 'German': 'Фор Персеко: ко лубощня компличер ваяс фоур мёестеи кны ваще турю Сялдянмют фі ка шгое ардъ, у \\x04честняй \\\\u0430нувялитиз \\x05ръвеню \\x06ьтё мфлмяРягю 3.50 Искрх \\\\u044eля \\x07ряды \\\\8юркща'}"
      ]
     },
     "execution_count": 100,
     "metadata": {},
     "output_type": "execute_result"
    }
   ],
   "source": [
    "res_trans"
   ]
  },
  {
   "cell_type": "code",
   "execution_count": null,
   "id": "feb59a1c-ab26-42e9-bdfb-0ad337ae4db2",
   "metadata": {},
   "outputs": [],
   "source": []
  },
  {
   "cell_type": "code",
   "execution_count": 105,
   "id": "c1e3b016-cbd3-47d4-a03f-d3c969afa514",
   "metadata": {},
   "outputs": [
    {
     "name": "stdout",
     "output_type": "stream",
     "text": [
      "Collecting googletrans\n",
      "  Downloading googletrans-4.0.2-py3-none-any.whl.metadata (10 kB)\n",
      "Collecting httpx>=0.27.2 (from httpx[http2]>=0.27.2->googletrans)\n",
      "  Downloading httpx-0.28.1-py3-none-any.whl.metadata (7.1 kB)\n",
      "Requirement already satisfied: anyio in c:\\users\\yeshu\\.conda\\envs\\ai\\lib\\site-packages (from httpx>=0.27.2->httpx[http2]>=0.27.2->googletrans) (4.3.0)\n",
      "Requirement already satisfied: certifi in c:\\users\\yeshu\\.conda\\envs\\ai\\lib\\site-packages (from httpx>=0.27.2->httpx[http2]>=0.27.2->googletrans) (2024.2.2)\n",
      "Requirement already satisfied: httpcore==1.* in c:\\users\\yeshu\\.conda\\envs\\ai\\lib\\site-packages (from httpx>=0.27.2->httpx[http2]>=0.27.2->googletrans) (1.0.4)\n",
      "Requirement already satisfied: idna in c:\\users\\yeshu\\.conda\\envs\\ai\\lib\\site-packages (from httpx>=0.27.2->httpx[http2]>=0.27.2->googletrans) (3.6)\n",
      "Requirement already satisfied: h11<0.15,>=0.13 in c:\\users\\yeshu\\.conda\\envs\\ai\\lib\\site-packages (from httpcore==1.*->httpx>=0.27.2->httpx[http2]>=0.27.2->googletrans) (0.14.0)\n",
      "Requirement already satisfied: h2<5,>=3 in c:\\users\\yeshu\\.conda\\envs\\ai\\lib\\site-packages (from httpx[http2]>=0.27.2->googletrans) (4.1.0)\n",
      "Requirement already satisfied: hyperframe<7,>=6.0 in c:\\users\\yeshu\\.conda\\envs\\ai\\lib\\site-packages (from h2<5,>=3->httpx[http2]>=0.27.2->googletrans) (6.0.1)\n",
      "Requirement already satisfied: hpack<5,>=4.0 in c:\\users\\yeshu\\.conda\\envs\\ai\\lib\\site-packages (from h2<5,>=3->httpx[http2]>=0.27.2->googletrans) (4.0.0)\n",
      "Requirement already satisfied: sniffio>=1.1 in c:\\users\\yeshu\\.conda\\envs\\ai\\lib\\site-packages (from anyio->httpx>=0.27.2->httpx[http2]>=0.27.2->googletrans) (1.3.0)\n",
      "Requirement already satisfied: exceptiongroup>=1.0.2 in c:\\users\\yeshu\\.conda\\envs\\ai\\lib\\site-packages (from anyio->httpx>=0.27.2->httpx[http2]>=0.27.2->googletrans) (1.2.0)\n",
      "Requirement already satisfied: typing-extensions>=4.1 in c:\\users\\yeshu\\.conda\\envs\\ai\\lib\\site-packages (from anyio->httpx>=0.27.2->httpx[http2]>=0.27.2->googletrans) (4.12.2)\n",
      "Downloading googletrans-4.0.2-py3-none-any.whl (18 kB)\n",
      "Downloading httpx-0.28.1-py3-none-any.whl (73 kB)\n",
      "Installing collected packages: httpx, googletrans\n",
      "  Attempting uninstall: httpx\n",
      "    Found existing installation: httpx 0.27.0\n",
      "    Uninstalling httpx-0.27.0:\n",
      "      Successfully uninstalled httpx-0.27.0\n",
      "Successfully installed googletrans-4.0.2 httpx-0.28.1\n"
     ]
    },
    {
     "name": "stderr",
     "output_type": "stream",
     "text": [
      "ERROR: pip's dependency resolver does not currently take into account all the packages that are installed. This behaviour is the source of the following dependency conflicts.\n",
      "gradio-client 0.15.0 requires websockets<12.0,>=10.0, but you have websockets 12.0 which is incompatible.\n",
      "llama-index-readers-file 0.1.19 requires pypdf<5.0.0,>=4.0.1, but you have pypdf 5.1.0 which is incompatible.\n",
      "ollama 0.3.3 requires httpx<0.28.0,>=0.27.0, but you have httpx 0.28.1 which is incompatible.\n",
      "\n",
      "[notice] A new release of pip is available: 24.2 -> 24.3.1\n",
      "[notice] To update, run: python.exe -m pip install --upgrade pip\n"
     ]
    }
   ],
   "source": [
    "!pip install googletrans"
   ]
  },
  {
   "cell_type": "code",
   "execution_count": 106,
   "id": "0aed6c01-1aca-4fec-b95a-691f5d85900b",
   "metadata": {},
   "outputs": [],
   "source": [
    "import asyncio\n",
    "from googletrans import Translator"
   ]
  },
  {
   "cell_type": "code",
   "execution_count": 115,
   "id": "fc37f4f2-8672-4691-9049-40959b7a74b1",
   "metadata": {},
   "outputs": [],
   "source": [
    "translator = Translator(service_urls=[\n",
    "      'translate.google.com',\n",
    "    ])"
   ]
  },
  {
   "cell_type": "code",
   "execution_count": 116,
   "id": "82d68334-6de9-49ad-aa93-0c34ff59196f",
   "metadata": {},
   "outputs": [],
   "source": [
    "result = translator.translate([news_article], dest='hi')"
   ]
  },
  {
   "cell_type": "code",
   "execution_count": 118,
   "id": "9d0fb219-42e8-4d86-b34c-1f708548926f",
   "metadata": {},
   "outputs": [
    {
     "data": {
      "text/plain": [
       "<coroutine object Translator.translate at 0x0000023FBA29F220>"
      ]
     },
     "execution_count": 118,
     "metadata": {},
     "output_type": "execute_result"
    }
   ],
   "source": [
    "from googletrans import Translator\n",
    "translator = Translator()\n",
    "translator.translate('안녕하세요.')"
   ]
  },
  {
   "cell_type": "code",
   "execution_count": 119,
   "id": "7a23e662-32ba-45b8-84b8-f52ab79b45b2",
   "metadata": {},
   "outputs": [
    {
     "ename": "RuntimeError",
     "evalue": "asyncio.run() cannot be called from a running event loop",
     "output_type": "error",
     "traceback": [
      "\u001b[1;31m---------------------------------------------------------------------------\u001b[0m",
      "\u001b[1;31mRuntimeError\u001b[0m                              Traceback (most recent call last)",
      "Cell \u001b[1;32mIn[119], line 6\u001b[0m\n\u001b[0;32m      3\u001b[0m         result \u001b[38;5;241m=\u001b[39m \u001b[38;5;28;01mawait\u001b[39;00m translator\u001b[38;5;241m.\u001b[39mtranslate(\u001b[38;5;124m'\u001b[39m\u001b[38;5;124m안녕하세요.\u001b[39m\u001b[38;5;124m'\u001b[39m)\n\u001b[0;32m      4\u001b[0m         \u001b[38;5;28mprint\u001b[39m(result)  \u001b[38;5;66;03m# <Translated src=ko dest=en text=Good evening. pronunciation=Good evening.>\u001b[39;00m\n\u001b[1;32m----> 6\u001b[0m \u001b[43masyncio\u001b[49m\u001b[38;5;241;43m.\u001b[39;49m\u001b[43mrun\u001b[49m\u001b[43m(\u001b[49m\u001b[43mtranslate_text\u001b[49m\u001b[43m(\u001b[49m\u001b[43m)\u001b[49m\u001b[43m)\u001b[49m\n",
      "File \u001b[1;32m~\\.conda\\envs\\ai\\lib\\asyncio\\runners.py:33\u001b[0m, in \u001b[0;36mrun\u001b[1;34m(main, debug)\u001b[0m\n\u001b[0;32m      9\u001b[0m \u001b[38;5;250m\u001b[39m\u001b[38;5;124;03m\"\"\"Execute the coroutine and return the result.\u001b[39;00m\n\u001b[0;32m     10\u001b[0m \n\u001b[0;32m     11\u001b[0m \u001b[38;5;124;03mThis function runs the passed coroutine, taking care of\u001b[39;00m\n\u001b[1;32m   (...)\u001b[0m\n\u001b[0;32m     30\u001b[0m \u001b[38;5;124;03m    asyncio.run(main())\u001b[39;00m\n\u001b[0;32m     31\u001b[0m \u001b[38;5;124;03m\"\"\"\u001b[39;00m\n\u001b[0;32m     32\u001b[0m \u001b[38;5;28;01mif\u001b[39;00m events\u001b[38;5;241m.\u001b[39m_get_running_loop() \u001b[38;5;129;01mis\u001b[39;00m \u001b[38;5;129;01mnot\u001b[39;00m \u001b[38;5;28;01mNone\u001b[39;00m:\n\u001b[1;32m---> 33\u001b[0m     \u001b[38;5;28;01mraise\u001b[39;00m \u001b[38;5;167;01mRuntimeError\u001b[39;00m(\n\u001b[0;32m     34\u001b[0m         \u001b[38;5;124m\"\u001b[39m\u001b[38;5;124masyncio.run() cannot be called from a running event loop\u001b[39m\u001b[38;5;124m\"\u001b[39m)\n\u001b[0;32m     36\u001b[0m \u001b[38;5;28;01mif\u001b[39;00m \u001b[38;5;129;01mnot\u001b[39;00m coroutines\u001b[38;5;241m.\u001b[39miscoroutine(main):\n\u001b[0;32m     37\u001b[0m     \u001b[38;5;28;01mraise\u001b[39;00m \u001b[38;5;167;01mValueError\u001b[39;00m(\u001b[38;5;124m\"\u001b[39m\u001b[38;5;124ma coroutine was expected, got \u001b[39m\u001b[38;5;132;01m{!r}\u001b[39;00m\u001b[38;5;124m\"\u001b[39m\u001b[38;5;241m.\u001b[39mformat(main))\n",
      "\u001b[1;31mRuntimeError\u001b[0m: asyncio.run() cannot be called from a running event loop"
     ]
    }
   ],
   "source": [
    "async def translate_text():\n",
    "    async with Translator() as translator:\n",
    "        result = await translator.translate('안녕하세요.')\n",
    "        print(result)  # <Translated src=ko dest=en text=Good evening. pronunciation=Good evening.>\n",
    "\n",
    "asyncio.run(translate_text())"
   ]
  },
  {
   "cell_type": "code",
   "execution_count": 155,
   "id": "a9838332-178b-4cd9-acab-c4670999bbe2",
   "metadata": {},
   "outputs": [],
   "source": [
    "import nest_asyncio\n",
    "nest_asyncio.apply()"
   ]
  },
  {
   "cell_type": "code",
   "execution_count": 153,
   "id": "efba8ad5-9ef2-4012-83b2-ed5875cfc46f",
   "metadata": {},
   "outputs": [
    {
     "name": "stdout",
     "output_type": "stream",
     "text": [
      "NESCO: CO ERKLÄRT HÖCHSTEN BIETER FÜR ANNEHMLICHKEITEN AM BENGALURU CHENNAI EXPRESSWAY || Die gesamten Entwicklungskosten werden auf 750 Millionen Rupien pro Standort geschätzt; GESCHÄTZTER JAHRESUMSATZ 3,50 MILLIARDEN RUPIEN AB JAHR 4\n"
     ]
    }
   ],
   "source": [
    "import asyncio\n",
    "\n",
    "async def main():\n",
    "    result = await translator.translate(news_article, dest='de')\n",
    "    print(result.text)\n",
    "    \n",
    "asyncio.run(main())"
   ]
  },
  {
   "cell_type": "code",
   "execution_count": 133,
   "id": "a77873ac-3316-4989-b8a7-3f2f385ab122",
   "metadata": {},
   "outputs": [
    {
     "data": {
      "text/plain": [
       "'NESCO: CO DECLARED HIGHEST BIDDER FOR WAYSIDE AMENITIES ON BENGALURU CHENNAI EXPRESSWAY || TOTAL DEVELOPMENT COST ESTIMATED AT 750M RUPEES PER SITE; ESTIMATED ANNUALISED REVENUE 3.50B RUPEES FROM YEAR 4'"
      ]
     },
     "execution_count": 133,
     "metadata": {},
     "output_type": "execute_result"
    }
   ],
   "source": [
    "news_article"
   ]
  },
  {
   "cell_type": "code",
   "execution_count": null,
   "id": "75adf8a0-3387-42a9-b39d-d71de6fb3f52",
   "metadata": {},
   "outputs": [],
   "source": []
  },
  {
   "cell_type": "code",
   "execution_count": 154,
   "id": "af64e564-f798-441e-96e8-71c380d3d361",
   "metadata": {},
   "outputs": [
    {
     "data": {
      "text/plain": [
       "{'user': 'REDBOXINDIA',\n",
       " 'id': 1876225896090358016,\n",
       " 'Date&Time': '2025-01-06T11:14:46.000Z',\n",
       " 'text': 'S H KELKAR AND CO: CO SAYS CONSOLIDATED REVENUES FOR 9M FY2025 AT 15.48B RUPEES, UP 17% (YOY) || GROSS MARGINS UNDER PRESSURE PRIMARILY DUE TO SUPPLY CONSTRAINTS; ON TRACK TO ACHIEVE DOUBLE-DIGIT GROWTH FOR FULL FINANCIAL YEAR',\n",
       " 'company name': 'Banco Products (India) Ltd.',\n",
       " 'symbol': 'BANCOINDIA'}"
      ]
     },
     "execution_count": 154,
     "metadata": {},
     "output_type": "execute_result"
    }
   ],
   "source": [
    "updated_records[0]"
   ]
  },
  {
   "cell_type": "code",
   "execution_count": 136,
   "id": "27f58c18-8c1f-4330-a29b-0a497b86223b",
   "metadata": {},
   "outputs": [
    {
     "data": {
      "text/plain": [
       "46"
      ]
     },
     "execution_count": 136,
     "metadata": {},
     "output_type": "execute_result"
    }
   ],
   "source": [
    "len(updated_records)"
   ]
  },
  {
   "cell_type": "code",
   "execution_count": 148,
   "id": "5cd9bc8a-f75c-4ecb-9261-efd759a8c7e2",
   "metadata": {},
   "outputs": [],
   "source": [
    "### Translation into Hindi and Germany"
   ]
  },
  {
   "cell_type": "code",
   "execution_count": 166,
   "id": "a18f5253-700b-486d-b7d4-cba7d3bf19a1",
   "metadata": {},
   "outputs": [],
   "source": [
    "import asyncio\n",
    "final_records = []"
   ]
  },
  {
   "cell_type": "code",
   "execution_count": 171,
   "id": "093537a6-377c-4aef-b57d-31ea1d4ab1b7",
   "metadata": {},
   "outputs": [],
   "source": [
    "\n",
    "\n",
    "async def main():\n",
    "\n",
    "    for r in tqdm(updated_records):\n",
    "        obj = r.copy()\n",
    "        n = obj['text']\n",
    "        \n",
    "        hindi = await translator.translate(n, dest='hi')\n",
    "        telugu = await translator.translate(n, dest='te')\n",
    "        \n",
    "        obj[\"hindi\"] = hindi.text\n",
    "        obj[\"telugu\"] = telugu.text\n",
    "        \n",
    "        final_records.append(obj)\n",
    "        \n",
    "    print(\"done!!\")\n",
    "    "
   ]
  },
  {
   "cell_type": "code",
   "execution_count": 172,
   "id": "63127398-c97a-4a7e-953a-9e1bee6d78f7",
   "metadata": {},
   "outputs": [
    {
     "name": "stderr",
     "output_type": "stream",
     "text": [
      "100%|██████████████████████████████████████████████████████████████████████████████████| 46/46 [00:19<00:00,  2.34it/s]"
     ]
    },
    {
     "name": "stdout",
     "output_type": "stream",
     "text": [
      "done!!\n"
     ]
    },
    {
     "name": "stderr",
     "output_type": "stream",
     "text": [
      "\n"
     ]
    }
   ],
   "source": [
    "asyncio.run(main())"
   ]
  },
  {
   "cell_type": "code",
   "execution_count": 173,
   "id": "39a8d700-098a-41b7-a9b7-1ebd18c1a5e5",
   "metadata": {},
   "outputs": [
    {
     "data": {
      "text/plain": [
       "[{'user': 'REDBOXINDIA',\n",
       "  'id': 1876225896090358016,\n",
       "  'Date&Time': '2025-01-06T11:14:46.000Z',\n",
       "  'text': 'S H KELKAR AND CO: CO SAYS CONSOLIDATED REVENUES FOR 9M FY2025 AT 15.48B RUPEES, UP 17% (YOY) || GROSS MARGINS UNDER PRESSURE PRIMARILY DUE TO SUPPLY CONSTRAINTS; ON TRACK TO ACHIEVE DOUBLE-DIGIT GROWTH FOR FULL FINANCIAL YEAR',\n",
       "  'company name': 'Banco Products (India) Ltd.',\n",
       "  'symbol': 'BANCOINDIA',\n",
       "  'hindi': 'एस एच केलकर एंड कंपनी: कंपनी का कहना है कि वित्तीय वर्ष 2025 के 9 महीने के लिए समेकित राजस्व 15.48 अरब रुपये, 17% (वर्ष-दर-वर्ष) ऊपर है || सकल मार्जिन मुख्यतः आपूर्ति बाधाओं के कारण दबाव में है; पूरे वित्तीय वर्ष में दोहरे अंक की वृद्धि हासिल करने की राह पर',\n",
       "  'telugu': 'S H కేల్కర్ మరియు CO: CO 9M FY2025 కోసం 15.48B రూపాయలకు ఏకీకృత ఆదాయాలను 17% (YOY) తెలిపింది || ఒత్తిడిలో స్థూల మార్జిన్లు ప్రధానంగా సరఫరా పరిమితుల కారణంగా; పూర్తి ఆర్థిక సంవత్సరానికి రెండంకెల వృద్ధిని సాధించడానికి ట్రాక్\\u200cలో ఉంది'},\n",
       " {'user': 'REDBOXINDIA',\n",
       "  'id': 1876193146155172341,\n",
       "  'Date&Time': '2025-01-06T09:04:38.000Z',\n",
       "  'text': 'TATA MOTORS UK JLR: DECEMBER TOTAL SALES 4011 UNITS VS 5,587 UNITS (YOY)\\n\\nPOOR YOY',\n",
       "  'company name': 'Tata Motors Ltd.',\n",
       "  'symbol': 'TATAMOTORS',\n",
       "  'hindi': 'टाटा मोटर्स यूके जेएलआर: दिसंबर में कुल बिक्री 4011 यूनिट बनाम 5,587 यूनिट (वर्ष-दर-वर्ष)\\n\\nबेचारा!',\n",
       "  'telugu': 'టాటా మోటార్స్ UK JLR: డిసెంబర్ మొత్తం విక్రయాలు 4011 యూనిట్లు VS 5,587 యూనిట్లు (YOY)\\n\\nపేద యోయ్'},\n",
       " {'user': 'REDBOXINDIA',\n",
       "  'id': 1876111165560087015,\n",
       "  'Date&Time': '2025-01-06T03:38:52.000Z',\n",
       "  'text': 'PRITIKA AUTO INDUSTRIES: CO IS PLEASED TO ANNOUNCES THE START OF COMMERCIAL PRODUCTION OF NEW COMPONENTS',\n",
       "  'company name': 'Praj Industries Ltd.',\n",
       "  'symbol': 'PRAJIND',\n",
       "  'hindi': 'प्रीतिका ऑटो इंडस्ट्रीज: कंपनी को नए घटकों के व्यावसायिक उत्पादन की शुरुआत की घोषणा करते हुए खुशी हो रही है',\n",
       "  'telugu': 'ప్రితికా ఆటో ఇండస్ట్రీస్: కొత్త కాంపోనెంట్స్ యొక్క వాణిజ్య ఉత్పత్తి ప్రారంభాన్ని ప్రకటించినందుకు CO సంతోషిస్తోంది'},\n",
       " {'user': 'REDBOXINDIA',\n",
       "  'id': 1876255127973282021,\n",
       "  'Date&Time': '2025-01-06T13:10:56.000Z',\n",
       "  'text': 'CAPLIN POINT LABORATORIES: CO ANNOUNCED IT HAS RECEIVED THE ESTABLISHMENT INSPECTION REPORT (EIR) FROM THE U.S. FOOD AND DRUG ADMINISTRATION (FDA) FOR THE RECENT INSPECTION CONDUCTED AT CAPLIN STERILES’ INJECTABLE AND OPHTHALMIC MANUFACTURING FACILITY LOCATED AT GUMMIDIPOONDI ||',\n",
       "  'company name': 'Caplin Point Laboratories',\n",
       "  'symbol': 'CAPLIPOINT',\n",
       "  'hindi': 'कैप्लिन पॉइंट प्रयोगशालाएँ: कंपनी ने घोषणा की है कि उसे कैपलिन स्टेराइल्स के इंजेक्शन और ऑप्थेल्मिक विनिर्माण सुविधा में किए गए हालिया निरीक्षण के लिए अमेरिकी खाद्य और औषधि प्रशासन (एफडीए) से स्थापना निरीक्षण रिपोर्ट (ईआईआर) प्राप्त हुई है। गुम्मिडीपूंडी ||',\n",
       "  'telugu': 'క్యాప్లిన్ పాయింట్ లాబొరేటరీస్: ఇటీవలి ఇన్\\u200cస్పెక్షన్ సెక్షన్ కోసం U.S. ఫుడ్ అండ్ డ్రగ్ అడ్మినిస్ట్రేషన్ (FDA) నుండి ఎస్టాబ్లిష్\\u200cమెంట్ ఇన్\\u200cస్పెక్షన్ రిపోర్ట్ (EIR)ని స్వీకరించినట్లు CO ప్రకటించింది గుమ్మిడిపూండిలో ఉన్న ఇంజెక్టబుల్ మరియు ఆప్తాల్మిక్ తయారీ సౌకర్యం ||'},\n",
       " {'user': 'REDBOXINDIA',\n",
       "  'id': 1876149782525469155,\n",
       "  'Date&Time': '2025-01-06T06:12:19.000Z',\n",
       "  'text': 'ICMR DETECTS TWO CASES OF HMPVIRUS CASES, BOTH AT BAPTIST HOSPITAL IN BENGALURU',\n",
       "  'company name': 'Jupiter Life Line Hospitals Ltd.',\n",
       "  'symbol': 'JLHL',\n",
       "  'hindi': 'आईसीएमआर ने एचएमपीवायरस के दो मामलों का पता लगाया, दोनों बेंगलुरु के बैपटिस्ट अस्पताल में',\n",
       "  'telugu': 'ICMR బెంగుళూరులోని బాప్టిస్ట్ హాస్పిటల్\\u200cలో రెండు HMPవైరస్ కేసులను గుర్తించింది'},\n",
       " {'user': 'REDBOXINDIA',\n",
       "  'id': 1876265791253098635,\n",
       "  'Date&Time': '2025-01-06T13:53:18.000Z',\n",
       "  'text': 'ADANI ENTERPRISES: CO UNIT ADANI PETROCHEMICALS (APCL) HAS COMPLETED THE INCORPORATION PROCESS OF A JOINT VENTURE COMPANY NAMELY “VALOR PETROCHEMICALS LTD” (VPL) WITH INDORAMA RESOURCES LTD, THAILAND || CO UNIT APCL SHALL HOLD 50% SHARE CAPITAL OF VPL',\n",
       "  'company name': 'Adani Enterprises Ltd.',\n",
       "  'symbol': 'ADANIENT',\n",
       "  'hindi': 'अदाणी एंटरप्राइजेज: सह इकाई अदाणी पेट्रोकेमिकल्स (एपीसीएल) ने इंडोरामा रिसोर्सेज लिमिटेड, थाईलैंड के साथ \"वैलोर पेट्रोकेमिकल्स लिमिटेड\" (वीपीएल) नामक एक संयुक्त उद्यम कंपनी की निगमन प्रक्रिया पूरी कर ली है || सीओ यूनिट एपीसीएल के पास वीपीएल की 50% शेयर पूंजी होगी',\n",
       "  'telugu': 'అదానీ ఎంటర్\\u200cప్రైజెస్: CO యూనిట్ అదానీ పెట్రోకెమికల్స్ (APCL) జాయింట్ వెంచర్ కంపెనీ పేరు \"VALOR పెట్రోకెమికల్స్ LTD\" (VPL, REINDORALS REINDORALS) యొక్క ఇన్\\u200cకార్పొరేషన్ ప్రక్రియను పూర్తి చేసింది. CO యూనిట్ APCL VPL యొక్క 50% షేర్ క్యాపిటల్\\u200cను కలిగి ఉంటుంది'},\n",
       " {'user': 'REDBOXINDIA',\n",
       "  'id': 1876128442414215444,\n",
       "  'Date&Time': '2025-01-06T04:47:32.000Z',\n",
       "  'text': 'KARNATAKA GOVT ON HMPV',\n",
       "  'company name': 'Gujarat Pipavav Port Ltd.',\n",
       "  'symbol': 'GPPL',\n",
       "  'hindi': 'एचएमपीवी पर कर्नाटक सरकार',\n",
       "  'telugu': 'HMPVపై కర్నాటక ప్రభుత్వం'},\n",
       " {'user': 'REDBOXINDIA',\n",
       "  'id': 1876119282444275883,\n",
       "  'Date&Time': '2025-01-06T04:11:08.000Z',\n",
       "  'text': 'SAHAJ SOLAR: CO WINS ORDER WORTH 47CR RUPEES | MCAP: 604CR',\n",
       "  'company name': 'Solar Industries India Ltd.',\n",
       "  'symbol': 'SOLARINDS',\n",
       "  'hindi': 'SAHAJ SOLAR: CO WINS ORDER WORTH 47CR RUPEES | MCAP: 604CR',\n",
       "  'telugu': 'సహజ్ సోలార్: CO 47CR రూపాయల విలువైన ఆర్డర్\\u200cను గెలుచుకుంది | MCAP: 604CR'},\n",
       " {'user': 'REDBOXINDIA',\n",
       "  'id': 1876197105414611164,\n",
       "  'Date&Time': '2025-01-06T09:20:22.000Z',\n",
       "  'text': 'METROPOLIS HEALTHCARE: US FDA APPROVED TEST KIT ARE AVAILABLE IN INDIA FOR HMPV - CNBCTV18',\n",
       "  'company name': 'Metropolis Healthcare Ltd.',\n",
       "  'symbol': 'METROPOLIS',\n",
       "  'hindi': 'मेट्रोपोलिस हेल्थकेयर: एचएमपीवी के लिए यूएस एफडीए द्वारा अनुमोदित परीक्षण किट भारत में उपलब्ध हैं - सीएनबीसीटीवी18',\n",
       "  'telugu': 'మెట్రోపాలిస్ హెల్త్\\u200cకేర్: US FDA ఆమోదించిన టెస్ట్ కిట్ HMPV కోసం భారతదేశంలో అందుబాటులో ఉంది - CNBCTV18'},\n",
       " {'user': 'REDBOXINDIA',\n",
       "  'id': 1876249619946197255,\n",
       "  'Date&Time': '2025-01-06T12:49:03.000Z',\n",
       "  'text': 'COAL INDIA: CO AND IREL (INDIA) LTD, A PUBLIC SECTOR UNDERTAKING UNDER THE DEPARTMENT OF ATOMIC ENERGY, GOI HAVE EXECUTED A NON-BINDING MEMORANDUM OF UNDERSTANDING (MOU) TO COOPERATE AND COLLABORATE FOR DEVELOPMENT (MINING/ EXTRACTION/ REFINING ETC.) OF MUTUALLY AGREED ASSETS OF',\n",
       "  'company name': 'Coal India Ltd.',\n",
       "  'symbol': 'COALINDIA',\n",
       "  'hindi': 'कोल इंडिया: भारत सरकार के परमाणु ऊर्जा विभाग के तहत सार्वजनिक क्षेत्र का उपक्रम, सीओ और आईआरईएल (इंडिया) लिमिटेड ने विकास (खनन/निष्कर्षण/शोधन आदि) के लिए सहयोग करने के लिए एक गैर-बाध्यकारी समझौता ज्ञापन (एमओयू) निष्पादित किया है। का की परस्पर सहमत संपत्ति',\n",
       "  'telugu': 'కోల్ ఇండియా: CO మరియు IREL (ఇండియా) LTD, డిపార్ట్\\u200cమెంట్ ఆఫ్ అటామిక్ ఎనర్జీ కింద చేపట్టే ఒక పబ్లిక్ సెక్టార్, GOI ఒక నాన్-బైండింగ్ మెమోరాండమ్ ఆఫ్ అండర్\\u200cకోప్యాండింగ్ (COANDERSTA) అమలు చేసింది పరస్పరం అంగీకరించిన ఆస్తుల అభివృద్ధి (మైనింగ్/ వెలికితీత/ శుద్ధి మొదలైనవి) కోసం సహకరించండి'},\n",
       " {'user': 'REDBOXINDIA',\n",
       "  'id': 1876123988491145516,\n",
       "  'Date&Time': '2025-01-06T04:29:50.000Z',\n",
       "  'text': 'MAHARASHTRA AND DELHI GOVERNMENT HAS NOW ISSUED HEALTH ADVISORY ON HUMAN META PNEUMO VIRUS (HMPV) TO PREVENT THE POTENTIAL SPREAD',\n",
       "  'company name': 'Krishna Institute of Medical Sciences Ltd.',\n",
       "  'symbol': 'KIMS',\n",
       "  'hindi': 'महाराष्ट्र और दिल्ली सरकार ने अब संभावित प्रसार को रोकने के लिए मानव मेटा न्यूमो वायरस (एचएमपीवी) पर स्वास्थ्य सलाह जारी की है।',\n",
       "  'telugu': 'మహరాష్ట్ర మరియు ఢిల్లీ ప్రభుత్వం ఇప్పుడు సంభావ్య వ్యాప్తిని నిరోధించడానికి హ్యూమన్ మెటా న్యుమో వైరస్ (HMPV)పై ఆరోగ్య సలహాను జారీ చేసింది'},\n",
       " {'user': 'REDBOXINDIA',\n",
       "  'id': 1876148907560128751,\n",
       "  'Date&Time': '2025-01-06T06:08:51.000Z',\n",
       "  'text': 'ICMR DETECTS TWO CASES OF HMPVIRUS CASES, BOTH AT BAPTIST HOSPITAL IN BENGALURU',\n",
       "  'company name': 'Jupiter Life Line Hospitals Ltd.',\n",
       "  'symbol': 'JLHL',\n",
       "  'hindi': 'आईसीएमआर ने एचएमपीवायरस के दो मामलों का पता लगाया, दोनों बेंगलुरु के बैपटिस्ट अस्पताल में',\n",
       "  'telugu': 'ICMR బెంగుళూరులోని బాప్టిస్ట్ హాస్పిటల్\\u200cలో రెండు HMPవైరస్ కేసులను గుర్తించింది'},\n",
       " {'user': 'REDBOXINDIA',\n",
       "  'id': 1876242782375080144,\n",
       "  'Date&Time': '2025-01-06T12:21:52.000Z',\n",
       "  'text': 'MANAPPURAM FINANCE: CO CONFIRMS ROBBERY INCIDENT AT ODISHA BRANCH; VALUE OF STOLEN ASSETS APPROXIMATELY 200M RUPEES || CO SAYS INCIDENT DOES NOT AFFECT OVERALL OPERATIONS OR PERFORMANCE',\n",
       "  'company name': 'Manappuram Finance Ltd.',\n",
       "  'symbol': 'MANAPPURAM',\n",
       "  'hindi': 'मणप्पुरम वित्त: सीओ ने ओडिशा शाखा में डकैती की घटना की पुष्टि की; चोरी गई संपत्ति का मूल्य लगभग 200 करोड़ रुपये || सीओ का कहना है कि घटना का समग्र संचालन या प्रदर्शन पर कोई प्रभाव नहीं पड़ता है',\n",
       "  'telugu': 'మణప్పురం ఫైనాన్స్: CO ఓడిషా బ్రాంచ్\\u200cలో దోపిడీ సంఘటనను నిర్ధారించింది; దొంగిలించబడిన ఆస్తుల విలువ సుమారు 200 మిలియన్ రూపాయలు || CO సంఘటన మొత్తం కార్యకలాపాలు లేదా పనితీరును ప్రభావితం చేయదని చెప్పారు'},\n",
       " {'user': 'REDBOXINDIA',\n",
       "  'id': 1876111151819608279,\n",
       "  'Date&Time': '2025-01-06T03:38:49.000Z',\n",
       "  'text': \"POONAWALLA FINCORP: CO'S TOTAL DISBURSEMENTS DURING Q3FY25 WERE AT APPROXIMATELY RUPEES 7,150 CR UP 13.3% QOQ || AUM GREW BY 41.0% YOY AND 9.0% QOQ AS ON DEC 2024\",\n",
       "  'company name': 'Poonawalla Fincorp Ltd.',\n",
       "  'symbol': 'POONAWALLA',\n",
       "  'hindi': 'पूनावाला फिनकॉर्प: वित्त वर्ष 25 की तीसरी तिमाही के दौरान कंपनी का कुल संवितरण 13.3% QOQ से लगभग 7,150 करोड़ रुपये था || दिसंबर 2024 तक एयूएम में सालाना आधार पर 41.0% और तिमाही दर तिमाही 9.0% की वृद्धि हुई',\n",
       "  'telugu': 'పూనవల్ల ఫిన్\\u200cకార్ప్: Q3FY25లో సహ మొత్తం చెల్లింపులు సుమారుగా రూ. 7,150 CR UP 13.3% QOQ || AUM డిసెంబర్ 2024 నాటికి 41.0% YOY మరియు 9.0% QOQ పెరిగింది'},\n",
       " {'user': 'REDBOXINDIA',\n",
       "  'id': 1876145675496518095,\n",
       "  'Date&Time': '2025-01-06T05:56:00.000Z',\n",
       "  'text': 'HAPPY FORGINGS: CO APPROVES CAPEX BUDGET OF RUPEES 650CR TO SET UP FACILITIES FOR HEAVY WEIGHT FORGED AND MACHINED COMPONENTS',\n",
       "  'company name': 'Happy Forgings Ltd.',\n",
       "  'symbol': 'HAPPYFORGE',\n",
       "  'hindi': 'हैप्पी फोर्जिंग्स: कंपनी ने भारी वजन वाले फोर्ज्ड और मशीनी घटकों के लिए सुविधाएं स्थापित करने के लिए 650 करोड़ रुपये के पूंजीगत व्यय को मंजूरी दी',\n",
       "  'telugu': 'హ్యాపీ ఫోర్జింగ్స్: హెవీ వెయిట్ ఫోర్జ్డ్ మరియు మెషిన్డ్ కాంపోనెంట్స్ కోసం ఫెసిలిటీలను సెటప్ చేయడానికి CO రూపీస్ 650CR క్యాపెక్స్ బడ్జెట్\\u200cను ఆమోదించింది'},\n",
       " {'user': 'REDBOXINDIA',\n",
       "  'id': 1876123164436230622,\n",
       "  'Date&Time': '2025-01-06T04:26:33.000Z',\n",
       "  'text': 'INDIA REPORTS FIRST CASE OF HMPV VIRUS, 8-MONTH-OLD BABY TESTS POSITIVE IN BANGALORE\\n\\n#BIGBREAKING',\n",
       "  'company name': 'Laurus Labs Ltd.',\n",
       "  'symbol': 'LAURUSLABS',\n",
       "  'hindi': 'भारत में एचएमपीवी वायरस का पहला मामला सामने आया, बेंगलुरु में 8 महीने के बच्चे का परीक्षण सकारात्मक\\n\\n#बिगब्रेकिंग',\n",
       "  'telugu': 'HMPV వైరస్ యొక్క మొదటి కేసును భారతదేశం నివేదించింది, బెంగళూరులో 8 నెలల శిశువు పరీక్షలు సానుకూలంగా ఉన్నాయి\\n\\n#బిగ్ బ్రేకింగ్'},\n",
       " {'user': 'REDBOXINDIA',\n",
       "  'id': 1876242759402860547,\n",
       "  'Date&Time': '2025-01-06T12:21:47.000Z',\n",
       "  'text': 'BHARTI AIRTEL: CO TO SELL 50% STAKE IN FIREFLY NETWORKS; FIREFLY TO CEASE BEING JOINT VENTURE OF BHARTI AIRTEL || CONSIDERATION FOR SALE IS 45M RUPEES',\n",
       "  'company name': 'Bharti Airtel Ltd.',\n",
       "  'symbol': 'BHARTIARTL',\n",
       "  'hindi': 'भारती एयरटेल: कंपनी फायरफ्लाई नेटवर्क में 50% हिस्सेदारी बेचेगी; जुगनू भारती एयरटेल का संयुक्त उद्यम बंद करेगा || बिक्री के लिए विचाराधीन राशि 45 मिलियन रुपये है',\n",
       "  'telugu': 'భారతీ ఎయిర్\\u200cటెల్: ఫైర్\\u200cఫ్లై నెట్\\u200cవర్క్\\u200cలలో 50% వాటాను విక్రయించడానికి CO; ఫిర్\\u200cఫ్లై భారతీ ఎయిర్\\u200cటెల్ యొక్క జాయింట్ వెంచర్\\u200cగా నిలిపివేయబడుతుంది || అమ్మకానికి పరిగణన 45M రూపాయలు'},\n",
       " {'user': 'REDBOXINDIA',\n",
       "  'id': 1876247656911212603,\n",
       "  'Date&Time': '2025-01-06T12:41:15.000Z',\n",
       "  'text': 'FII/DII Activity',\n",
       "  'company name': 'UTI Asset Management Company Ltd.',\n",
       "  'symbol': 'UTIAMC',\n",
       "  'hindi': 'एफआईआई/डीआईआई गतिविधि',\n",
       "  'telugu': 'FII/DII కార్యాచరణ'},\n",
       " {'user': 'REDBOXINDIA',\n",
       "  'id': 1876135832501067995,\n",
       "  'Date&Time': '2025-01-06T05:16:54.000Z',\n",
       "  'text': 'VERY NEGATIVE FOR JSW ENERGY & OVERALL POWER SECTOR\\n\\nCERC REJECTS THE DISCOVERED TARIFF UNDER BIDDING FOR LARGE 1GWH PROJECT\\n\\nBERNSTEIN SAYS\\nWe see this as a negative development for the company and also a somewhat negative development for the broader renewable market\\nRelevant',\n",
       "  'company name': 'JSW Energy Ltd.',\n",
       "  'symbol': 'JSWENERGY',\n",
       "  'hindi': 'जेएसडब्ल्यू ऊर्जा और समग्र विद्युत क्षेत्र के लिए बहुत नकारात्मक\\n\\nCERC ने बड़े 1GWH प्रोजेक्ट के लिए बोली के तहत खोजे गए टैरिफ को अस्वीकार कर दिया\\n\\nबर्नस्टीन कहते हैं\\nहम इसे कंपनी के लिए एक नकारात्मक विकास और व्यापक नवीकरणीय बाजार के लिए कुछ हद तक नकारात्मक विकास के रूप में देखते हैं\\nउपयुक्त',\n",
       "  'telugu': 'JSW ఎనర్జీ & ఓవరాల్ పవర్ సెక్టార్\\u200cకి చాలా ప్రతికూలమైనది\\n\\nCERC పెద్ద 1GWH ప్రాజెక్ట్ కోసం బిడ్డింగ్ కింద కనుగొనబడిన టారిఫ్\\u200cను తిరస్కరించింది\\n\\nబెర్న్\\u200cస్టెయిన్ చెప్పారు\\nమేము దీనిని కంపెనీకి ప్రతికూల అభివృద్ధిగా మరియు విస్తృత పునరుత్పాదక మార్కెట్\\u200cకు కొంత ప్రతికూల అభివృద్ధిగా చూస్తాము\\nసంబంధిత'},\n",
       " {'user': 'REDBOXINDIA',\n",
       "  'id': 1876176085135794408,\n",
       "  'Date&Time': '2025-01-06T07:56:51.000Z',\n",
       "  'text': 'GUJARAT REPORTS ITS FIRST CASE OF HMPV VIRUS',\n",
       "  'company name': 'Gujarat Gas Ltd.',\n",
       "  'symbol': 'GUJGASLTD',\n",
       "  'hindi': 'गुजरात में एचएमपीवी वायरस का पहला मामला सामने आया है',\n",
       "  'telugu': 'HMPV వైరస్ యొక్క మొదటి కేసును గుజరాత్ నివేదించింది'},\n",
       " {'user': 'REDBOXINDIA',\n",
       "  'id': 1876147226667536667,\n",
       "  'Date&Time': '2025-01-06T06:02:10.000Z',\n",
       "  'text': 'BIG NEWS FOR GENSOL ENGINEERING\\n\\nCO WINS ORDER WORTH 1062CR \\n\\n MCAP: 2500 CR',\n",
       "  'company name': 'CG Power and Industrial Solutions Ltd.',\n",
       "  'symbol': 'CGPOWER',\n",
       "  'hindi': 'जेनसोल इंजीनियरिंग के लिए बड़ी खबर\\n\\nCO ने 1062 करोड़ का ऑर्डर जीता \\n\\n एमकैप: 2500 करोड़',\n",
       "  'telugu': 'జెన్సోల్ ఇంజినీరింగ్ కోసం పెద్ద వార్త\\n\\nCO విన్స్ ఆర్డర్ వర్త్ 1062CR \\n\\n MCAP: 2500 CR'},\n",
       " {'user': 'REDBOXINDIA',\n",
       "  'id': 1876235360814174550,\n",
       "  'Date&Time': '2025-01-06T11:52:23.000Z',\n",
       "  'text': 'TITAGARH RAIL SYSTEMS: CO DELIVERS DRIVERLESS MADE-IN-INDIA TRAINSET TO BENGALURU METRO’S YELLOW LINE || CO WILL DELIVER TWO MORE TRAINSETS TO THE YELLOW LINE BY APRIL THIS YEAR; CO WILL THEN RAMP UP PRODUCTION, DELIVERING TWO TRAINS A MONTH BY SEPT, 2025',\n",
       "  'company name': 'Titagarh Rail Systems Ltd.',\n",
       "  'symbol': 'TITAGARH',\n",
       "  'hindi': 'टीटागढ़ रेल सिस्टम: कंपनी ने बेंगलुरु मेट्रो की येलो लाइन पर भारत में निर्मित ड्राइवर रहित ट्रेनसेट की आपूर्ति की || कंपनी इस साल अप्रैल तक येलो लाइन पर दो और ट्रेनें डिलीवर करेगी; इसके बाद कंपनी सितंबर, 2025 तक हर महीने दो ट्रेनों की डिलीवरी करते हुए उत्पादन बढ़ाएगी।',\n",
       "  'telugu': 'TITAGARH రైల్ సిస్టమ్స్: CO డ్రైవర్\\u200cలెస్ మేడ్-ఇన్-ఇండియా ట్రైన్\\u200cసెట్\\u200cను బెంగళూరు మెట్రో యొక్క ఎల్లో లైన్\\u200cకు డెలివరీ చేస్తుంది || CO ఈ సంవత్సరం ఏప్రిల్ నాటికి పసుపు రేఖకు మరో రెండు ట్రైన్\\u200cసెట్\\u200cలను అందజేస్తుంది; CO ఉత్పత్తిని వేగవంతం చేస్తుంది, సెప్టెంబర్, 2025 నాటికి నెలకు రెండు రైళ్లను అందజేస్తుంది'},\n",
       " {'user': 'REDBOXINDIA',\n",
       "  'id': 1876243783056302256,\n",
       "  'Date&Time': '2025-01-06T12:25:51.000Z',\n",
       "  'text': 'PERSISTENT SYSTEMS: CO TO ACQUIRE ASSETS OF SOHO DRAGON SOLUTIONS || TOTAL PURCHASE CONSIDERATION FOR ACQUISITION IS $5.94M',\n",
       "  'company name': 'PERSISTENT SYSTEMS',\n",
       "  'symbol': 'PERSISTENT',\n",
       "  'hindi': 'स्थायी सिस्टम: सीओ सोहो ड्रैगन सॉल्यूशंस की संपत्ति हासिल करने के लिए || अधिग्रहण के लिए कुल खरीद विचार $5.94 मिलियन है',\n",
       "  'telugu': 'స్థిరమైన వ్యవస్థలు: సోహో డ్రాగన్ సొల్యూషన్స్ ఆస్తులను పొందేందుకు CO || కొనుగోలు కోసం మొత్తం కొనుగోలు పరిగణన $5.94M'},\n",
       " {'user': 'REDBOXINDIA',\n",
       "  'id': 1876110674352656845,\n",
       "  'Date&Time': '2025-01-06T03:36:55.000Z',\n",
       "  'text': \"MACROTECH DEVELOPERS: CO SAYS ON THE BACK OF STRONG COLLECTIONS, OUR NET DEBT REDUCED BY RUPEES 6.1B TO RUPEES 43.2B, WELL BELOW CO'S CEILING OF 0.5X NET DEBT/EQUITY\",\n",
       "  'company name': 'MACROTECH DEVELOPERS',\n",
       "  'symbol': 'LODHA',\n",
       "  'hindi': 'मैक्रोटेक डेवलपर्स: मजबूत संग्रह के कारण कंपनी का कहना है कि हमारा शुद्ध ऋण 6.1 अरब रुपये से घटकर 43.2 अरब रुपये हो गया है, जो कंपनी की 0.5 गुना शुद्ध ऋण/इक्विटी की सीमा से काफी नीचे है।',\n",
       "  'telugu': 'మాక్రోటెక్ డెవలపర్\\u200cలు: CO బలమైన కలెక్షన్\\u200cల నేపథ్యంలో మా నికర రుణం రూపీలు 6.1B తగ్గించబడి రూపీస్ 43.2Bకి తగ్గింది, ఇది సహ సీలింగ్ కంటే దాదాపు 0.5X NEETY డీఈటీ కింద ఉంది'},\n",
       " {'user': 'REDBOXINDIA',\n",
       "  'id': 1876204786208686414,\n",
       "  'Date&Time': '2025-01-06T09:50:53.000Z',\n",
       "  'text': 'UTKARSH SMALL FINANCE BANK: Q3 TOTAL DEPOSITS UP 33.5% (YOY) || GROSS LOAN PORTFOLIO GREW 16.2% (YOY)',\n",
       "  'company name': 'Utkarsh Small Finance Bank Ltd.',\n",
       "  'symbol': 'UTKARSHBNK',\n",
       "  'hindi': 'उत्कर्ष लघु वित्त बैंक: तीसरी तिमाही में कुल जमा 33.5% (वर्ष-दर-वर्ष) ऊपर || सकल ऋण पोर्टफोलियो 16.2% (वर्ष-दर-वर्ष) बढ़ा',\n",
       "  'telugu': 'UTKARSH స్మాల్ ఫైనాన్స్ బ్యాంక్: Q3 మొత్తం డిపాజిట్లు 33.5% (YOY) || స్థూల రుణ పోర్ట్\\u200cఫోలియో 16.2% పెరిగింది (YOY)'},\n",
       " {'user': 'REDBOXINDIA',\n",
       "  'id': 1876264774549545100,\n",
       "  'Date&Time': '2025-01-06T13:49:16.000Z',\n",
       "  'text': 'ASHOKA BUILDCON: CO EXECUTES CONCESSION AGREEMENT WITH NHAI || PROJECT COST ACCEPTED AT 13.91B RUPEES',\n",
       "  'company name': 'Ashoka Buildcon Ltd.',\n",
       "  'symbol': 'ASHOKA',\n",
       "  'hindi': 'अशोका बिल्डकॉन: कंपनी ने एनएचएआई के साथ रियायती समझौता किया || परियोजना लागत 13.91B रुपये स्वीकृत',\n",
       "  'telugu': 'అశోక బిల్డ్\\u200cకాన్: CO NHAIతో రాయితీ ఒప్పందాన్ని అమలు చేస్తుంది || ప్రాజెక్ట్ ధర 13.91B రూపీస్ వద్ద ఆమోదించబడింది'},\n",
       " {'user': 'REDBOXINDIA',\n",
       "  'id': 1876098020376494285,\n",
       "  'Date&Time': '2025-01-06T02:46:38.000Z',\n",
       "  'text': 'SURYODAY SMALL FINANCE BANK: Q3 FY25 BUSINESS UPDATE GROSS ADVANCES: RUPEES 9,563 CR (UP 26% YOY, 2% QOQ) || CASA RATIO IMPROVED TO 19.5% (FROM 18.5% YOY)',\n",
       "  'company name': 'Utkarsh Small Finance Bank Ltd.',\n",
       "  'symbol': 'UTKARSHBNK',\n",
       "  'hindi': 'सूर्योदय लघु वित्त बैंक: Q3 FY25 व्यवसाय अद्यतन सकल अग्रिम: रुपये 9,563 करोड़ (26% वार्षिक वृद्धि, 2% QOQ) || कासा अनुपात 19.5% तक सुधरा (18.5% से)',\n",
       "  'telugu': 'సూర్యోదయ్ స్మాల్ ఫైనాన్స్ బ్యాంక్: Q3 FY25 బిజినెస్ అప్\\u200cడేట్ గ్రాస్ అడ్వాన్స్\\u200cలు: రూపాయలు 9,563 CR (UP 26% YOY, 2% QOQ) || CASA నిష్పత్తి 19.5%కి మెరుగుపడింది (18.5% YOY నుండి)'},\n",
       " {'user': 'REDBOXINDIA',\n",
       "  'id': 1876445710515929171,\n",
       "  'Date&Time': '2025-01-07T01:48:14.000Z',\n",
       "  'text': 'VAKRANGEE: CO AND BANK OF BARODA RENEW AGREEMENT FOR PROVIDING BANKING SERVICES ON PAN INDIA BASIS',\n",
       "  'company name': 'Bank of Baroda',\n",
       "  'symbol': 'BANKBARODA',\n",
       "  'hindi': 'वक्रांगी: सीओ और बैंक ऑफ बड़ौदा ने अखिल भारतीय आधार पर बैंकिंग सेवाएं प्रदान करने के लिए समझौते का नवीनीकरण किया',\n",
       "  'telugu': 'వక్రాంగీ: CO మరియు బ్యాంక్ ఆఫ్ బరోడా పాన్ ఇండియా బేసిస్\\u200cలో బ్యాంకింగ్ సేవలను అందించడానికి ఒప్పందాన్ని పునరుద్ధరించాయి'},\n",
       " {'user': 'REDBOXINDIA',\n",
       "  'id': 1876188665912979748,\n",
       "  'Date&Time': '2025-01-06T08:46:50.000Z',\n",
       "  'text': 'DELHI HEALTH MINISTER DIRECTS HOSPITALS TO MONITOR AND REPORT ANY INCREASE IN RESPIRATORY ILLNESS CASES, AFTER TWO CASES OF HMPV IN KARNATAKA.',\n",
       "  'company name': 'Global Health Ltd.',\n",
       "  'symbol': 'MEDANTA',\n",
       "  'hindi': 'दिल्ली के स्वास्थ्य मंत्री ने अस्पतालों को कर्नाटक में एचएमपीवी के दो मामलों के बाद श्वसन संबंधी बीमारी के मामलों में किसी भी वृद्धि की निगरानी करने और रिपोर्ट करने का निर्देश दिया।',\n",
       "  'telugu': 'కర్నాటకలో HMPVకి సంబంధించిన రెండు కేసుల తర్వాత, శ్వాసకోశ సంబంధిత అనారోగ్య కేసులు ఏవైనా పెరిగినట్లయితే వాటిని పర్యవేక్షించడానికి మరియు నివేదించడానికి ఢిల్లీ ఆరోగ్య మంత్రి హాస్పిటల్స్\\u200cను ఆదేశించారు.'},\n",
       " {'user': 'REDBOXINDIA',\n",
       "  'id': 1876171174817972670,\n",
       "  'Date&Time': '2025-01-06T07:37:20.000Z',\n",
       "  'text': 'TARC LIMITED: CO REPORTS STRONG PRESALES OF RUPEES 1,165 CR WITH 1000% YOY GROWTH IN Q3 FY2025',\n",
       "  'company name': 'TARC Ltd.',\n",
       "  'symbol': 'TARC',\n",
       "  'hindi': 'टीएआरसी लिमिटेड: कंपनी ने वित्त वर्ष 2025 की तीसरी तिमाही में 1000% सालाना वृद्धि के साथ 1,165 करोड़ रुपये की मजबूत पूर्व बिक्री की रिपोर्ट दी है।',\n",
       "  'telugu': 'TARC లిమిటెడ్: Q3 FY2025లో 1000% YOY వృద్ధితో రూపీస్ 1,165 CR బలమైన ప్రీసేల్స్\\u200cను CO నివేదించింది'},\n",
       " {'user': 'REDBOXINDIA',\n",
       "  'id': 1876102903485886541,\n",
       "  'Date&Time': '2025-01-06T03:06:03.000Z',\n",
       "  'text': \"INDIAN BANK: BANK'S TOTAL BUSINESS GROWS 8.3% YOY TO RUPEES 12.61 LAKH CR AS OF DEC 2024 || GROSS ADVANCES: RUPEES 5.59 LAKH CR, MARKING A 9.6% YOY GROWTH, TOTAL DEPOSITS: RUPEES 7.02 LAKH CR, 7.3% YOY INCREASE\",\n",
       "  'company name': 'Indian Bank',\n",
       "  'symbol': 'INDIANB',\n",
       "  'hindi': 'इंडियन बैंक: दिसंबर 2024 तक बैंक का कुल कारोबार सालाना 8.3% बढ़कर 12.61 लाख करोड़ रुपये हो गया || सकल अग्रिम: 5.59 लाख करोड़ रुपये, सालाना 9.6% की वृद्धि, कुल जमा: 7.02 लाख करोड़ रुपये, 7.3% सालाना वृद्धि',\n",
       "  'telugu': 'ఇండియన్ బ్యాంక్: బ్యాంక్ యొక్క మొత్తం వ్యాపారం డిసెంబర్ 2024 నాటికి రూ. 12.61 లక్షల CRకి 8.3% వృద్ధి చెందింది || స్థూల అడ్వాన్స్\\u200cలు: రూపాయలు 5.59 లక్షల CR, 9.6% YOY గ్రోత్ మార్కింగ్, మొత్తం డిపాజిట్లు: రూపాయలు 7.02 LAKH CR, 7.3% YOY పెరుగుదల'},\n",
       " {'user': 'REDBOXINDIA',\n",
       "  'id': 1876109087974560140,\n",
       "  'Date&Time': '2025-01-06T03:30:37.000Z',\n",
       "  'text': \"TITAN: CO SL REGISTERED A GROWTH OF C. 24% YOY IN Q3FY25. CO'S COMBINED RETAIL NETWORK PRESENCE (INCLUDING CARATLANE AND INTERNATIONAL) EXPANDED BY 69 STORES (NET) IN THE QUARTER TO REACH 3,240 STORES\",\n",
       "  'company name': 'Titan Company Ltd.',\n",
       "  'symbol': 'TITAN',\n",
       "  'hindi': 'टाइटन: CO SL ने Q3FY25 में सालाना आधार पर C. 24% की वृद्धि दर्ज की। कंपनी की संयुक्त खुदरा नेटवर्क उपस्थिति (कैरेटलेन और इंटरनेशनल सहित) इस तिमाही में 69 स्टोर्स (नेट) तक विस्तारित होकर 3,240 स्टोर्स तक पहुंच गई है।',\n",
       "  'telugu': \"టైటాన్: CO SL Q3FY25లో C. 24% YOY వృద్ధిని నమోదు చేసింది. CO's కంబైన్డ్ రిటైల్ నెట్\\u200cవర్క్ ఉనికి (కారట్లేన్ మరియు ఇంటర్నేషనల్\\u200cతో సహా) త్రైమాసికంలో 69 స్టోర్\\u200cల (నెట్) ద్వారా 3,240 స్టోర్\\u200cలను చేరుకోవడానికి విస్తరించింది\"},\n",
       " {'user': 'REDBOXINDIA',\n",
       "  'id': 1876105864421249362,\n",
       "  'Date&Time': '2025-01-06T03:17:49.000Z',\n",
       "  'text': 'ESAF SMALL FINANCE BANK: GROSS ADVANCES GREW BY 9.25% YOY TO RUPEES 18,739 CR AS OF DEC, 2024 || BANK HAS STRATEGICALLY INCREASED ITS FOCUS ON SECURED ADVANCES WHICH CONSTITUTES 44.35% OF THE GROSS ADVANCES AS ON DEC\\n\\nESAF SMALL FINANCE BANK: TOTAL DEPOSITS GREW 18.84% YOY TO',\n",
       "  'company name': 'ESAF Small Finance Bank Ltd.',\n",
       "  'symbol': 'ESAFSFB',\n",
       "  'hindi': 'ईएसएएफ लघु वित्त बैंक: दिसंबर, 2024 तक सकल अग्रिम सालाना 9.25% बढ़कर 18,739 करोड़ रुपये हो गया || बैंक ने रणनीतिक रूप से सुरक्षित अग्रिमों पर अपना ध्यान केंद्रित किया है, जो दिसंबर तक सकल अग्रिमों का 44.35% है।\\n\\nईएसएएफ लघु वित्त बैंक: कुल जमा में साल-दर-साल 18.84% की वृद्धि हुई',\n",
       "  'telugu': 'ESAF స్మాల్ ఫైనాన్స్ బ్యాంక్: డిసెంబరు, 2024 నాటికి స్థూల అడ్వాన్స్\\u200cలు 9.25% YOY రూపాయలకు 18,739 CR పెరిగాయి || డిసెంబరు నాటికి స్థూల అడ్వాన్స్\\u200cలలో 44.35% ఉన్న సెక్యూర్డ్ అడ్వాన్స్\\u200cలపై బ్యాంక్ వ్యూహాత్మకంగా తన దృష్టిని పెంచింది\\n\\nESAF స్మాల్ ఫైనాన్స్ బ్యాంక్: మొత్తం డిపాజిట్లు 18.84% పెరిగాయి.'},\n",
       " {'user': 'REDBOXINDIA',\n",
       "  'id': 1876443692380434466,\n",
       "  'Date&Time': '2025-01-07T01:40:13.000Z',\n",
       "  'text': 'ZYDUS LIFE: SENTYNL THERAPEUTICS ANNOUNCES U.S. FDA ACCEPTANCE AND PRIORITY REVIEW OF NEW DRUG APPLICATION FOR CUTX-101 (COPPER HISTIDINATE) PRODUCT CANDIDATE FOR TREATMENT OF MENKES DISEASE',\n",
       "  'company name': 'Zydus Lifesciences Ltd.',\n",
       "  'symbol': 'ZYDUSLIFE',\n",
       "  'hindi': 'ज़ायडस लाइफ: सेंटीनल थेरेप्यूटिक्स ने मेनकेस रोग के उपचार के लिए सीयूटीएक्स-101 (कॉपर हिस्टिडिनेट) उत्पाद उम्मीदवार के लिए नई दवा एप्लिकेशन की अमेरिकी एफडीए स्वीकृति और प्राथमिकता समीक्षा की घोषणा की',\n",
       "  'telugu': 'ZYDUS లైఫ్: SENTYNL థెరప్యూటిక్స్ U.S. FDA అంగీకారం మరియు CUTX-101 (కాపర్ హిస్టినేట్) ఉత్పత్తి అభ్యర్థిని ఉపసంహరణ కోసం కొత్త డ్రగ్ అప్లికేషన్ యొక్క ప్రాధాన్యత సమీక్షను ప్రకటించింది'},\n",
       " {'user': 'REDBOXINDIA',\n",
       "  'id': 1876108035812364553,\n",
       "  'Date&Time': '2025-01-06T03:26:26.000Z',\n",
       "  'text': 'KNR CONSTRUCTIONS: CO WINS ORDER WORTH 328 CR RUPEES',\n",
       "  'company name': 'KNR CONSTRUCTIONS',\n",
       "  'symbol': 'KNRCON',\n",
       "  'hindi': 'केएनआर कंस्ट्रक्शन्स: कंपनी ने जीता 328 करोड़ रुपये का ऑर्डर',\n",
       "  'telugu': 'KNR నిర్మాణాలు: CO 328 CR రూపాయల విలువైన ఆర్డర్\\u200cను గెలుచుకుంది'},\n",
       " {'user': 'REDBOXINDIA',\n",
       "  'id': 1876099427217317892,\n",
       "  'Date&Time': '2025-01-06T02:52:14.000Z',\n",
       "  'text': 'MEHAI TECHNOLOGY: CO HAS RECEIVED ORDERS FROM LEAPFROG ENGINEERING SERVICES LIMITED OF RUPEES 84.5 CR FOR PROVIDING SUPPLY AND INSTALLATION WORK FOR WATER TRANSMISSION PROJECT AT BAHRAIN',\n",
       "  'company name': 'Power Mech Projects Ltd.',\n",
       "  'symbol': 'POWERMECH',\n",
       "  'hindi': 'मेहाई टेक्नोलॉजी: कंपनी को बहरीन में जल संचरण परियोजना के लिए आपूर्ति और स्थापना कार्य प्रदान करने के लिए लीपफ्रॉग इंजीनियरिंग सर्विसेज लिमिटेड से 84.5 करोड़ रुपये का ऑर्डर मिला है।',\n",
       "  'telugu': 'MEHAI TECHNOLOGY: CO, లీప్\\u200cఫ్రాగ్ ఇంజినీరింగ్ సర్వీస్\\u200cల నుండి 84.5 CR రూపాయలకు పరిమితమైన లీప్\\u200cఫ్రాగ్ నుండి ఆర్డర్\\u200cలను అందుకుంది.'},\n",
       " {'user': 'REDBOXINDIA',\n",
       "  'id': 1876110190321570022,\n",
       "  'Date&Time': '2025-01-06T03:35:00.000Z',\n",
       "  'text': \"MACROTECH DEVELOPERS: CO'S PRE-SALES, CO ACHIEVED BEST EVER QUARTER PRE-SALES OF RUPEES 45.1B, SHOWING 32% YOY GROWTH || COLLECTIONS WERE RUPEES 42.9B FOR Q3FY25 SHOWING A GROWTH OF 66% YOY\",\n",
       "  'company name': 'Macrotech Developers Ltd.',\n",
       "  'symbol': 'LODHA',\n",
       "  'hindi': 'मैक्रोटेक डेवलपर्स: कंपनी की प्री-सेल्स, कंपनी ने 45.1 अरब रुपये की अब तक की सबसे अच्छी तिमाही प्री-सेल हासिल की, जो साल-दर-साल 32% की वृद्धि दर्शाती है || वित्त वर्ष 25 की तीसरी तिमाही में संग्रह 42.9 अरब रुपये था, जो कि साल-दर-साल 66% की वृद्धि दर्शाता है।',\n",
       "  'telugu': \"మాక్రోటెక్ డెవలపర్\\u200cలు: CO'S ప్రీ-సేల్స్, CO రూపీస్ 45.1B యొక్క ఎవర్ క్వార్టర్ ప్రీ-సేల్స్\\u200cను సాధించింది, 32% YOY వృద్ధిని చూపుతోంది || Q3FY25కి రూపీలు 42.9B కలెక్షన్లు 66% YOY వృద్ధిని చూపుతున్నాయి\"},\n",
       " {'user': 'REDBOXINDIA',\n",
       "  'id': 1876445491401298095,\n",
       "  'Date&Time': '2025-01-07T01:47:22.000Z',\n",
       "  'text': 'ZAGGLE PREPAID: CO ENTERS 3-YEAR AGREEMENT WITH KIRANAKART TECHNOLOGIES FOR EMPLOYEE BENEFIT AND EXPENSE MANAGEMENT SOLUTIONS',\n",
       "  'company name': 'Tata Consultancy Services Ltd.',\n",
       "  'symbol': 'TCS',\n",
       "  'hindi': 'ज़ैगल प्रीपेड: कंपनी ने कर्मचारी लाभ और व्यय प्रबंधन समाधान के लिए किरानाकार्ट टेक्नोलॉजीज के साथ 3 साल का समझौता किया',\n",
       "  'telugu': 'ZAGGLE ప్రీపెయిడ్: ఉద్యోగి ప్రయోజనం మరియు వ్యయ నిర్వహణ పరిష్కారాల కోసం CO కిరణకార్ట్ టెక్నాలజీలతో 3-సంవత్సరాల ఒప్పందాన్ని నమోదు చేసింది'},\n",
       " {'user': 'REDBOXINDIA',\n",
       "  'id': 1876164008035926294,\n",
       "  'Date&Time': '2025-01-06T07:08:51.000Z',\n",
       "  'text': 'AARTI DRUGS IN FOCUS \\n\\nCO TARGETING REVENUE OF 2000 CRS BY 2025\\n\\nAND 4000 CRS BY 2027',\n",
       "  'company name': 'Aarti Drugs Ltd.',\n",
       "  'symbol': 'AARTIDRUGS',\n",
       "  'hindi': 'फोकस में आरती दवाएं \\n\\nकंपनी ने 2025 तक 2000 करोड़ के राजस्व का लक्ष्य रखा है\\n\\nऔर 2027 तक 4000 करोड़',\n",
       "  'telugu': 'AARTI డ్రగ్స్ ఫోకస్ \\n\\nCO 2025 నాటికి 2000 CRS ఆదాయాన్ని లక్ష్యంగా చేసుకుంది\\n\\nమరియు 2027 నాటికి 4000 CRS'},\n",
       " {'user': 'REDBOXINDIA',\n",
       "  'id': 1876155870687760589,\n",
       "  'Date&Time': '2025-01-06T06:36:31.000Z',\n",
       "  'text': 'INSOLATION ENERGY IN FOCUS \\n\\nINSOLATION ENERGY: CO CONS PROVISIONAL REVENUE STANDS AT RUPEES 928.34 CR FOR THE NINE MONTHS ENDED ON 31ST DEC, 2024, A RISE OF MORE THAN 92% FOR THE SAME PERIOD ENDED 31ST DEC, 2023, CO POISED TO ACHIEVE ITS HIGHEST EVER REVENUE',\n",
       "  'company name': 'Indian Energy Exchange Ltd.',\n",
       "  'symbol': 'IEX',\n",
       "  'hindi': 'फोकस में सूर्यातप ऊर्जा \\n\\nसांत्वना ऊर्जा: 31 दिसंबर, 2024 को समाप्त नौ महीनों के लिए सीओ का अनंतिम राजस्व 928.34 करोड़ रुपये है, जो 31 दिसंबर, 2023 को समाप्त समान अवधि के लिए 92% से अधिक की वृद्धि है, सीओ अपने उच्चतम स्तर को प्राप्त करने के लिए तैयार है। कभी राजस्व',\n",
       "  'telugu': 'ఫోకస్\\u200cలో ఇన్సోలేషన్ ఎనర్జీ \\n\\nఇన్సోలేషన్ ఎనర్జీ: డిసెంబరు 31, 2024తో ముగిసిన తొమ్మిది నెలలకు CO కాన్స్ తాత్కాలిక ఆదాయం 928.34 CR వద్ద ఉంది, అదే సమయంలో 92% కంటే ఎక్కువ పెరుగుదల 2023, CO తన అత్యధిక ఆదాయాన్ని సాధించడానికి సిద్ధంగా ఉంది'},\n",
       " {'user': 'REDBOXINDIA',\n",
       "  'id': 1876456255428165780,\n",
       "  'Date&Time': '2025-01-07T02:30:08.000Z',\n",
       "  'text': \"KALYAN JEWELLERS: Q3 GROUP REVENUE GROWTH AT 39% (YOY) || CO'S Q3 INDIA OPERATIONS WITNESSED REVENUE GROWTH AT 41% (YOY)\\n\\nKALYAN JEWELLERS: CO Q3 MIDDLE EAST OPERATIONS REVENUE GROWTH 22% (YOY) || CO Q3 SAME-STORE-SALES GROWTH 24%\",\n",
       "  'company name': 'KALYAN JEWELLERS',\n",
       "  'symbol': 'KALYANKJIL',\n",
       "  'hindi': 'कल्याण ज्वैलर्स: तीसरी तिमाही में समूह राजस्व वृद्धि 39% (वर्ष-दर-वर्ष) || कंपनी के Q3 के भारतीय परिचालन में राजस्व वृद्धि 41% (वर्ष-दर-वर्ष) देखी गई\\n\\nकल्याण ज्वैलर्स: CO Q3 मध्य पूर्व परिचालन राजस्व वृद्धि 22% (वर्ष-दर-वर्ष) || CO Q3 समान-स्टोर-बिक्री वृद्धि 24%',\n",
       "  'telugu': \"కళ్యాణ్ జ్యువెల్లర్స్: Q3 గ్రూప్ ఆదాయం 39% వద్ద వృద్ధి (YOY) || CO'S Q3 భారతదేశ కార్యకలాపాలు 41% (YOY) వద్ద ఆదాయ వృద్ధిని నమోదు చేశాయి\\n\\nకళ్యాణ్ జ్యువెల్లర్స్: CO Q3 మిడిల్ ఈస్ట్ ఆపరేషన్స్ రాబడి వృద్ధి 22% (YOY) || CO Q3 సేమ్-స్టోర్-సేల్స్ వృద్ధి 24%\"},\n",
       " {'user': 'REDBOXINDIA',\n",
       "  'id': 1876204587671339381,\n",
       "  'Date&Time': '2025-01-06T09:50:06.000Z',\n",
       "  'text': 'AT LEAST 10 POLICEMEN FEARED DEAD IN BOMB BLAST IN CENTRAL INDIA - CNN NEWS18',\n",
       "  'company name': 'Hindustan Construction Co. Ltd.',\n",
       "  'symbol': 'HCC',\n",
       "  'hindi': 'मध्य भारत में बम विस्फोट में कम से कम 10 पुलिसकर्मियों के मारे जाने की आशंका - सीएनएन न्यूज18',\n",
       "  'telugu': 'సెంట్రల్ ఇండియాలో బాంబు పేలుడులో కనీసం 10 మంది పోలీసులు చనిపోతారని భయపడ్డారు - సిఎన్ఎన్ న్యూస్ 18'},\n",
       " {'user': 'REDBOXINDIA',\n",
       "  'id': 1876107541358522508,\n",
       "  'Date&Time': '2025-01-06T03:24:28.000Z',\n",
       "  'text': 'ARSS INFRA: WORK ORDER OF RUPEES 207.75 CR RECEIVED FROM ABCI-SCPL-SIPS JV',\n",
       "  'company name': 'IndusInd Bank Ltd.',\n",
       "  'symbol': 'INDUSINDBK',\n",
       "  'hindi': 'एआरएसएस इंफ्रा: एबीसीआई-एससीपीएल-एसआईपीएस जेवी से 207.75 करोड़ रुपये का कार्य आदेश प्राप्त हुआ',\n",
       "  'telugu': 'ARSS INFRA: ABCI-SCPL-SIPS JV నుండి అందిన రూపీస్ 207.75 CR వర్క్ ఆర్డర్'},\n",
       " {'user': 'REDBOXINDIA',\n",
       "  'id': 1876204256912634169,\n",
       "  'Date&Time': '2025-01-06T09:48:47.000Z',\n",
       "  'text': 'JAMMU AND KASHMIR BANK: Q3 TOTAL DEPOSITS SEEN GROWTH OF 8.56% (YOY) || Q3 GROSS ADVANCES SEEN GROWTH OF 5.98% (YOY)',\n",
       "  'company name': 'Jammu & Kashmir Bank Ltd.',\n",
       "  'symbol': 'J&KBANK',\n",
       "  'hindi': 'जम्मू और कश्मीर बैंक: तीसरी तिमाही में कुल जमा में 8.56% (वर्ष-दर-वर्ष) की वृद्धि देखी गई || तीसरी तिमाही में सकल अग्रिमों में 5.98% (वर्ष-दर-वर्ष) की वृद्धि देखी गई',\n",
       "  'telugu': 'జమ్ము అండ్ కాశ్మీర్ బ్యాంక్: Q3 మొత్తం డిపాజిట్లు 8.56% (YOY) వృద్ధిని కనబరిచాయి || Q3 స్థూల అడ్వాన్స్\\u200cలు 5.98% వృద్ధిని చూశాయి (YOY)'},\n",
       " {'user': 'REDBOXINDIA',\n",
       "  'id': 1876148542949191997,\n",
       "  'Date&Time': '2025-01-06T06:07:24.000Z',\n",
       "  'text': 'ICMR detects two cases of HMPVirus cases, both at Baptist hospital in Bengaluru. First one is a 3-month-old female infant while the second one is an 8-month-old male infant, who tested positive for HMPV on January 3, 2025, after being admitted to the same hospital.',\n",
       "  'company name': 'Aster DM Healthcare Ltd.',\n",
       "  'symbol': 'ASTERDM',\n",
       "  'hindi': 'आईसीएमआर ने बेंगलुरु के बैपटिस्ट अस्पताल में एचएमपीवायरस के दो मामलों का पता लगाया है। पहला 3 महीने की मादा शिशु है, जबकि दूसरा 8 महीने का नर शिशु है, जिसने उसी अस्पताल में भर्ती होने के बाद 3 जनवरी, 2025 को एचएमपीवी के लिए सकारात्मक परीक्षण किया था।',\n",
       "  'telugu': 'ICMR బెంగళూరులోని బాప్టిస్ట్ ఆసుపత్రిలో రెండు HMP వైరస్ కేసులను గుర్తించింది. మొదటిది 3 నెలల ఆడ శిశువు కాగా, రెండవది 8 నెలల మగ శిశువు, అదే ఆసుపత్రిలో చేరిన తర్వాత జనవరి 3, 2025న HMPVకి పాజిటివ్ పరీక్షించారు.'},\n",
       " {'user': 'REDBOXINDIA',\n",
       "  'id': 1876267042678190355,\n",
       "  'Date&Time': '2025-01-06T13:58:16.000Z',\n",
       "  'text': 'NESCO: CO DECLARED HIGHEST BIDDER FOR WAYSIDE AMENITIES ON BENGALURU CHENNAI EXPRESSWAY || TOTAL DEVELOPMENT COST ESTIMATED AT 750M RUPEES PER SITE; ESTIMATED ANNUALISED REVENUE 3.50B RUPEES FROM YEAR 4',\n",
       "  'company name': 'NESCO Ltd.',\n",
       "  'symbol': 'NESCO',\n",
       "  'hindi': 'नेस्को: बेंगलुरु चेन्नई एक्सप्रेसवे पर सड़क किनारे सुविधाओं के लिए कंपनी ने सबसे ऊंची बोली लगाने वाली कंपनी घोषित की || कुल विकास लागत प्रति साइट 750 मिलियन रुपये अनुमानित है; वर्ष 4 से अनुमानित वार्षिक राजस्व 3.50 अरब रुपये',\n",
       "  'telugu': 'NESCO: CO బెంగళూరు చెన్నై ఎక్స్\\u200cప్రెస్\\u200cవేలో వేసైడ్ సౌకర్యాల కోసం అత్యధిక బిడ్డర్\\u200cని ప్రకటించింది || ఒక్కో సైట్\\u200cకు 750M రూపాయలుగా అంచనా వేయబడిన మొత్తం అభివృద్ధి వ్యయం; 4వ సంవత్సరం నుండి అంచనా వేసిన వార్షిక ఆదాయం 3.50B రూపాయలు'}]"
      ]
     },
     "execution_count": 173,
     "metadata": {},
     "output_type": "execute_result"
    }
   ],
   "source": [
    "final_records"
   ]
  },
  {
   "cell_type": "code",
   "execution_count": 169,
   "id": "3b493ba7-b3a2-43b1-a519-e0efd9f54e4f",
   "metadata": {},
   "outputs": [
    {
     "data": {
      "text/plain": [
       "46"
      ]
     },
     "execution_count": 169,
     "metadata": {},
     "output_type": "execute_result"
    }
   ],
   "source": [
    "len(updated_records)"
   ]
  },
  {
   "cell_type": "code",
   "execution_count": 170,
   "id": "726fda02-57c0-4f6c-8051-a134ecf513a6",
   "metadata": {},
   "outputs": [
    {
     "data": {
      "text/plain": [
       "{'user': 'REDBOXINDIA',\n",
       " 'id': 1876225896090358016,\n",
       " 'Date&Time': '2025-01-06T11:14:46.000Z',\n",
       " 'text': 'S H KELKAR AND CO: CO SAYS CONSOLIDATED REVENUES FOR 9M FY2025 AT 15.48B RUPEES, UP 17% (YOY) || GROSS MARGINS UNDER PRESSURE PRIMARILY DUE TO SUPPLY CONSTRAINTS; ON TRACK TO ACHIEVE DOUBLE-DIGIT GROWTH FOR FULL FINANCIAL YEAR',\n",
       " 'company name': 'Banco Products (India) Ltd.',\n",
       " 'symbol': 'BANCOINDIA'}"
      ]
     },
     "execution_count": 170,
     "metadata": {},
     "output_type": "execute_result"
    }
   ],
   "source": [
    "updated_records[0]"
   ]
  },
  {
   "cell_type": "code",
   "execution_count": 179,
   "id": "37759f3b-92f1-4eec-86b9-ed9bbc9c8258",
   "metadata": {},
   "outputs": [
    {
     "name": "stderr",
     "output_type": "stream",
     "text": [
      "100%|██████████████████████████████████████████████████████████████████████████████████| 46/46 [02:21<00:00,  3.08s/it]\n"
     ]
    }
   ],
   "source": [
    "## Adding latest price\n",
    "final_records_price = []\n",
    "for r in tqdm(final_records):\n",
    "    obj = r.copy()\n",
    "    sym = obj['symbol']\n",
    "    obj['price'] =  nse_eq(sym)['priceInfo']['lastPrice']\n",
    "    final_records_price.append(obj)"
   ]
  },
  {
   "cell_type": "code",
   "execution_count": 180,
   "id": "085d82fb-8a8b-43a5-95e6-13db6ce4f8ad",
   "metadata": {},
   "outputs": [
    {
     "data": {
      "text/plain": [
       "{'user': 'REDBOXINDIA',\n",
       " 'id': 1876225896090358016,\n",
       " 'Date&Time': '2025-01-06T11:14:46.000Z',\n",
       " 'text': 'S H KELKAR AND CO: CO SAYS CONSOLIDATED REVENUES FOR 9M FY2025 AT 15.48B RUPEES, UP 17% (YOY) || GROSS MARGINS UNDER PRESSURE PRIMARILY DUE TO SUPPLY CONSTRAINTS; ON TRACK TO ACHIEVE DOUBLE-DIGIT GROWTH FOR FULL FINANCIAL YEAR',\n",
       " 'company name': 'Banco Products (India) Ltd.',\n",
       " 'symbol': 'BANCOINDIA',\n",
       " 'hindi': 'एस एच केलकर एंड कंपनी: कंपनी का कहना है कि वित्तीय वर्ष 2025 के 9 महीने के लिए समेकित राजस्व 15.48 अरब रुपये, 17% (वर्ष-दर-वर्ष) ऊपर है || सकल मार्जिन मुख्यतः आपूर्ति बाधाओं के कारण दबाव में है; पूरे वित्तीय वर्ष में दोहरे अंक की वृद्धि हासिल करने की राह पर',\n",
       " 'telugu': 'S H కేల్కర్ మరియు CO: CO 9M FY2025 కోసం 15.48B రూపాయలకు ఏకీకృత ఆదాయాలను 17% (YOY) తెలిపింది || ఒత్తిడిలో స్థూల మార్జిన్లు ప్రధానంగా సరఫరా పరిమితుల కారణంగా; పూర్తి ఆర్థిక సంవత్సరానికి రెండంకెల వృద్ధిని సాధించడానికి ట్రాక్\\u200cలో ఉంది',\n",
       " 'price': 484}"
      ]
     },
     "execution_count": 180,
     "metadata": {},
     "output_type": "execute_result"
    }
   ],
   "source": [
    "final_records_price[0]"
   ]
  },
  {
   "cell_type": "code",
   "execution_count": 184,
   "id": "89340fef-1b4e-4b39-8406-88f525d6c2b3",
   "metadata": {},
   "outputs": [],
   "source": [
    "import json\n",
    "with open(\"final.json\",\"w\",encoding='utf-8') as f:\n",
    "    json.dump(final_records_price,f,ensure_ascii=False)"
   ]
  },
  {
   "cell_type": "code",
   "execution_count": null,
   "id": "0c1f3169-30c8-473e-b75b-cba717efea40",
   "metadata": {},
   "outputs": [],
   "source": []
  }
 ],
 "metadata": {
  "kernelspec": {
   "display_name": "Python 3 (ipykernel)",
   "language": "python",
   "name": "python3"
  },
  "language_info": {
   "codemirror_mode": {
    "name": "ipython",
    "version": 3
   },
   "file_extension": ".py",
   "mimetype": "text/x-python",
   "name": "python",
   "nbconvert_exporter": "python",
   "pygments_lexer": "ipython3",
   "version": "3.10.14"
  }
 },
 "nbformat": 4,
 "nbformat_minor": 5
}
