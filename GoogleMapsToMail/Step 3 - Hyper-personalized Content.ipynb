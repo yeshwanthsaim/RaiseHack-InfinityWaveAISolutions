{
 "cells": [
  {
   "cell_type": "code",
   "execution_count": null,
   "id": "5fd0624e",
   "metadata": {},
   "outputs": [],
   "source": []
  },
  {
   "cell_type": "code",
   "execution_count": 5,
   "id": "9de9b23b",
   "metadata": {},
   "outputs": [],
   "source": [
    "# libraries\n",
    "import time\n",
    "import ssl\n",
    "import imaplib\n",
    "import smtplib\n",
    "import email\n",
    "\n",
    "from email import encoders\n",
    "from email.mime.base import MIMEBase\n",
    "from email.mime.multipart import MIMEMultipart\n",
    "from email.mime.text import MIMEText\n",
    "\n",
    "# Sending Mail\n",
    "from email.utils import formataddr\n",
    "from email.mime.text import MIMEText\n",
    "# from email.MIMEMultipart import MIMEMultipart\n",
    "from email.mime.multipart import MIMEMultipart\n",
    "# from email.mime.MIMEBase import MIMEBase\n",
    "# from email import Encoders\n",
    "import tqdm\n",
    "import os\n",
    "import pandas as pd"
   ]
  },
  {
   "cell_type": "code",
   "execution_count": 6,
   "id": "b0b103dd",
   "metadata": {},
   "outputs": [],
   "source": [
    "## Initializations:\n",
    "\n",
    "mail_user = ''\n",
    "mail_pass = ''\n",
    "\n",
    "mail_host = 'smtp.hostinger.com'\n",
    "save_host = 'imap.hostinger.com'\n",
    "save_host = 993"
   ]
  },
  {
   "cell_type": "code",
   "execution_count": 4,
   "id": "4348fac0-c8f7-4c69-9cfd-b613c66a362a",
   "metadata": {},
   "outputs": [],
   "source": [
    "prompt = \"\"\"You are a hyper-personalized marketing app. You need to create enganing content i.e an email explaing the services of our organization i.e \\\n",
    "BB AI App, to out client company. Below is the client company website content summarized. \n",
    "#### Client website content: \n",
    "{client_content}\n",
    "\n",
    "Now, generate an email so that client accepts our services.\n",
    "\"\"\""
   ]
  },
  {
   "cell_type": "code",
   "execution_count": 5,
   "id": "25299890",
   "metadata": {},
   "outputs": [],
   "source": [
    "subject = \"\""
   ]
  },
  {
   "cell_type": "code",
   "execution_count": 8,
   "id": "550300d0",
   "metadata": {},
   "outputs": [],
   "source": [
    "template = \"\"\"\n",
    "Dear Sir/Madam,\n",
    "[Company Name]\n",
    "\n",
    "I hope this message finds you well. We are Dr Macs Bio Pharma Pvt Ltd, a trusted pharmaceutical company specializing in high-quality APIs and intermediates.\n",
    "\n",
    "Our services involve:\n",
    "    1. Providing high quality APIs and Intermediates\n",
    "        We have attached our brochure where you can find our list of products. \n",
    "        \n",
    "    2. Technical Support\n",
    "        Drug Discovery ( CRO )\n",
    "        Route Scouting\n",
    "        Contract Manufacturing ( CMO  )\n",
    "        \n",
    "    3. We are actively looking out for any collaboration to enhance sourcing of any materials or products from your organization, As we are\n",
    "       very well known and trusted vendor for almost a 100 companies in India.\n",
    "       \n",
    "I am reaching out to inquire about the possibility of establishing a mutually beneficial partnership with your esteemed organization. We are interested in sourcing specific raw materials and API intermediates to support our manufacturing processes.\n",
    "\n",
    "Key Points of Interest:\n",
    "    Quality Assurance\n",
    "    Capacity and Timeliness\n",
    "    Regulatory Compliance\n",
    "\n",
    "We are looking to discuss for possibility of a long-term collaboration. Additionally, we would appreciate receiving your product catalog, price list, and any relevant certifications.\n",
    "Please feel free to reach out to me at yesh@drmacspharma.com | +91 8143090222, to discuss this further or to schedule a meeting at your earliest convenience. Please find our company brochure for additional information.\n",
    "\n",
    "Thank you for considering our inquiry, and we look forward to the prospect of working together.\n",
    "\n",
    "Best regards,\n",
    "\n",
    "Yeshwanth\n",
    "Director\n",
    "Dr Macs Bio Pharma Pvt Ltd\n",
    "Email: yesh@drmacspharma.com\n",
    "Mobile: +91 8143090222\n",
    "Website: www.drmacspharma.com\n",
    "\n",
    "Address:\n",
    "Plot No: 79/ B&C, EPIP, Pashamylaram (V), \n",
    "Patancheru (M) Sangareddy, TELANGANA, INDIA.\n",
    "Pincode: 502307\n",
    "\n",
    "IMPORTANT: This email may discuss privileged and confidential information. If you are not the intended recipient, you are required to inform the sender of their error and delete the email and any attachments without delay.\n",
    "\"\"\""
   ]
  },
  {
   "cell_type": "code",
   "execution_count": 9,
   "id": "2996aec6",
   "metadata": {},
   "outputs": [],
   "source": [
    "# loading Company and emails"
   ]
  },
  {
   "cell_type": "code",
   "execution_count": 10,
   "id": "70237e47",
   "metadata": {},
   "outputs": [
    {
     "data": {
      "text/plain": [
       "22"
      ]
     },
     "execution_count": 10,
     "metadata": {},
     "output_type": "execute_result"
    }
   ],
   "source": [
    "country = \"Saudi Arabia\"\n",
    "files = os.listdir(\"../results/emails/{}\".format(country))\n",
    "len(files)"
   ]
  },
  {
   "cell_type": "code",
   "execution_count": null,
   "id": "54548866",
   "metadata": {},
   "outputs": [],
   "source": []
  },
  {
   "cell_type": "code",
   "execution_count": 18,
   "id": "f680d747",
   "metadata": {},
   "outputs": [],
   "source": []
  },
  {
   "cell_type": "code",
   "execution_count": 11,
   "id": "b22d44cc",
   "metadata": {},
   "outputs": [],
   "source": [
    "# Saving to inbox\n",
    "class Mail:\n",
    "    def __init__(self):\n",
    "        # considering the same user and pass for smtp an imap\n",
    "        self.mail_user = ''\n",
    "        self.mail_pass = ''\n",
    "        self.mail_host = 'smtp.hostinger.com'\n",
    "\n",
    "\n",
    "    def send_email(self, to, subject, body, path, attach, attach2):\n",
    "        message = MIMEMultipart()\n",
    "        \n",
    "#         message[\"From\"] = self.mail_user\n",
    "        message[\"From\"] = formataddr(('Dr Macs Pharma', 'yesh@drmacspharma.com'))\n",
    "        message[\"To\"] = to\n",
    "        message[\"Subject\"] = subject\n",
    "        message.attach(MIMEText(body, \"plain\"))\n",
    "        \n",
    "#         html = '<html><body><p>Here a just an html content!</p></body></html>'\n",
    "#         part2 = MIMEText(html, 'html')\n",
    "#         message.attach(part2)\n",
    "        \n",
    "        # attachment 1\n",
    "        with open(path + attach, \"rb\") as attachment:\n",
    "            part = MIMEBase(\"application\", \"octet-stream\")\n",
    "            part.set_payload(attachment.read())\n",
    "        encoders.encode_base64(part)\n",
    "\n",
    "        part.add_header(\n",
    "            \"Content-Disposition\",\n",
    "            \"attachment; filename= \\\"\" + attach + \"\\\"\",\n",
    "        )\n",
    "        message.attach(part)\n",
    "#         print(\"1 attachment done.\")\n",
    "\n",
    "        \n",
    "        # attachment 2\n",
    "        with open(path + attach2, \"rb\") as attachment:\n",
    "            part = MIMEBase(\"application\", \"octet-stream\")\n",
    "            part.set_payload(attachment.read())\n",
    "        encoders.encode_base64(part)\n",
    "\n",
    "        part.add_header(\n",
    "            \"Content-Disposition\",\n",
    "            \"attachment; filename= \\\"\" + attach2 + \"\\\"\",\n",
    "        )\n",
    "        message.attach(part)\n",
    "        \n",
    "#         print(\"2 attachment done.\")\n",
    "        \n",
    "        text = message.as_string()\n",
    "        \n",
    "        context = ssl.create_default_context()\n",
    "        with smtplib.SMTP_SSL(self.mail_host, context=context) as server:\n",
    "            result = server.login(self.mail_user, self.mail_pass)\n",
    "            server.sendmail(self.mail_user, to, text)\n",
    "\n",
    "        imap = imaplib.IMAP4_SSL('imap.hostinger.com',993)\n",
    "        imap.login(self.mail_user, self.mail_pass)\n",
    "        imap.append('INBOX.Sent', '\\\\Seen', imaplib.Time2Internaldate(time.time()), text.encode('utf8'))\n",
    "        imap.logout()\n"
   ]
  },
  {
   "cell_type": "code",
   "execution_count": 12,
   "id": "bf01e939",
   "metadata": {},
   "outputs": [],
   "source": [
    "m = Mail()"
   ]
  },
  {
   "cell_type": "code",
   "execution_count": 13,
   "id": "d04b95e0",
   "metadata": {},
   "outputs": [
    {
     "name": "stdout",
     "output_type": "stream",
     "text": [
      "Index :: 0\n",
      "Started for file :: Abha_companies.csv\n"
     ]
    },
    {
     "name": "stderr",
     "output_type": "stream",
     "text": [
      "100%|████████████████████████████████████████████████████████████████████████████████████| 6/6 [00:24<00:00,  4.02s/it]\n"
     ]
    },
    {
     "name": "stdout",
     "output_type": "stream",
     "text": [
      "Index :: 1\n",
      "Started for file :: Abqaiq_companies.csv\n"
     ]
    },
    {
     "name": "stderr",
     "output_type": "stream",
     "text": [
      "100%|██████████████████████████████████████████████████████████████████████████████████| 20/20 [00:33<00:00,  1.67s/it]\n"
     ]
    },
    {
     "name": "stdout",
     "output_type": "stream",
     "text": [
      "Index :: 2\n",
      "Started for file :: Ad Dammam_companies.csv\n"
     ]
    },
    {
     "name": "stderr",
     "output_type": "stream",
     "text": [
      "100%|██████████████████████████████████████████████████████████████████████████████████| 33/33 [01:36<00:00,  2.93s/it]\n"
     ]
    },
    {
     "name": "stdout",
     "output_type": "stream",
     "text": [
      "Index :: 3\n",
      "Started for file :: Ad Dir`iyah_companies.csv\n"
     ]
    },
    {
     "name": "stderr",
     "output_type": "stream",
     "text": [
      "100%|██████████████████████████████████████████████████████████████████████████████████| 39/39 [01:56<00:00,  2.97s/it]\n"
     ]
    },
    {
     "name": "stdout",
     "output_type": "stream",
     "text": [
      "Index :: 4\n",
      "Started for file :: Al Ahad al Masarihah_companies.csv\n"
     ]
    },
    {
     "name": "stderr",
     "output_type": "stream",
     "text": [
      "100%|██████████████████████████████████████████████████████████████████████████████████| 28/28 [01:36<00:00,  3.44s/it]\n"
     ]
    },
    {
     "name": "stdout",
     "output_type": "stream",
     "text": [
      "Index :: 5\n",
      "Started for file :: Al Awjam_companies.csv\n"
     ]
    },
    {
     "name": "stderr",
     "output_type": "stream",
     "text": [
      "100%|██████████████████████████████████████████████████████████████████████████████████| 55/55 [02:53<00:00,  3.15s/it]\n"
     ]
    },
    {
     "name": "stdout",
     "output_type": "stream",
     "text": [
      "Index :: 6\n",
      "Started for file :: Al Bahah_companies.csv\n"
     ]
    },
    {
     "name": "stderr",
     "output_type": "stream",
     "text": [
      "100%|████████████████████████████████████████████████████████████████████████████████████| 8/8 [00:30<00:00,  3.84s/it]\n"
     ]
    },
    {
     "name": "stdout",
     "output_type": "stream",
     "text": [
      "Index :: 7\n",
      "Started for file :: Al Ghat_companies.csv\n"
     ]
    },
    {
     "name": "stderr",
     "output_type": "stream",
     "text": [
      "100%|██████████████████████████████████████████████████████████████████████████████████| 26/26 [01:10<00:00,  2.70s/it]\n"
     ]
    },
    {
     "name": "stdout",
     "output_type": "stream",
     "text": [
      "Index :: 8\n",
      "Started for file :: Al Ha'ir_companies.csv\n"
     ]
    },
    {
     "name": "stderr",
     "output_type": "stream",
     "text": [
      "100%|██████████████████████████████████████████████████████████████████████████████████| 82/82 [03:19<00:00,  2.43s/it]\n"
     ]
    },
    {
     "name": "stdout",
     "output_type": "stream",
     "text": [
      "Index :: 9\n",
      "Started for file :: Al Hawiyah_companies.csv\n"
     ]
    },
    {
     "name": "stderr",
     "output_type": "stream",
     "text": [
      "100%|████████████████████████████████████████████████████████████████████████████████████████████| 2/2 [00:00<?, ?it/s]\n"
     ]
    },
    {
     "name": "stdout",
     "output_type": "stream",
     "text": [
      "Index :: 10\n",
      "Started for file :: Al Hillah_companies.csv\n"
     ]
    },
    {
     "name": "stderr",
     "output_type": "stream",
     "text": [
      "100%|██████████████████████████████████████████████████████████████████████████████████████████| 51/51 [00:00<?, ?it/s]\n"
     ]
    },
    {
     "name": "stdout",
     "output_type": "stream",
     "text": [
      "Index :: 11\n",
      "Started for file :: Al Hufuf_companies.csv\n"
     ]
    },
    {
     "name": "stderr",
     "output_type": "stream",
     "text": [
      "100%|██████████████████████████████████████████████████████████████████████████████████████████| 13/13 [00:00<?, ?it/s]\n"
     ]
    },
    {
     "name": "stdout",
     "output_type": "stream",
     "text": [
      "Index :: 12\n",
      "Started for file :: Al Jubayl_companies.csv\n"
     ]
    },
    {
     "name": "stderr",
     "output_type": "stream",
     "text": [
      "100%|████████████████████████████████████████████████████████████████████████████████████████████| 3/3 [00:00<?, ?it/s]\n"
     ]
    },
    {
     "name": "stdout",
     "output_type": "stream",
     "text": [
      "Index :: 13\n",
      "Started for file :: Al Kharj_companies.csv\n"
     ]
    },
    {
     "name": "stderr",
     "output_type": "stream",
     "text": [
      "100%|████████████████████████████████████████████████████████████████████████████████████████████| 3/3 [00:00<?, ?it/s]\n"
     ]
    },
    {
     "name": "stdout",
     "output_type": "stream",
     "text": [
      "Index :: 14\n",
      "Started for file :: Al Khubar_companies.csv\n"
     ]
    },
    {
     "name": "stderr",
     "output_type": "stream",
     "text": [
      "100%|██████████████████████████████████████████████████████████████████████████████████████████| 16/16 [00:00<?, ?it/s]\n"
     ]
    },
    {
     "name": "stdout",
     "output_type": "stream",
     "text": [
      "Index :: 15\n",
      "Started for file :: Al Lith_companies.csv\n"
     ]
    },
    {
     "name": "stderr",
     "output_type": "stream",
     "text": [
      "100%|██████████████████████████████████████████████████████████████████████████████████████████| 20/20 [00:00<?, ?it/s]\n"
     ]
    },
    {
     "name": "stdout",
     "output_type": "stream",
     "text": [
      "Index :: 16\n",
      "Started for file :: Al Majaridah_companies.csv\n"
     ]
    },
    {
     "name": "stderr",
     "output_type": "stream",
     "text": [
      "100%|████████████████████████████████████████████████████████████████████████████████████████████| 9/9 [00:00<?, ?it/s]\n"
     ]
    },
    {
     "name": "stdout",
     "output_type": "stream",
     "text": [
      "Index :: 17\n",
      "Started for file :: Al Majma`ah_companies.csv\n"
     ]
    },
    {
     "name": "stderr",
     "output_type": "stream",
     "text": [
      "100%|██████████████████████████████████████████████████████████████████████████████████████████| 14/14 [00:00<?, ?it/s]\n"
     ]
    },
    {
     "name": "stdout",
     "output_type": "stream",
     "text": [
      "Index :: 18\n",
      "Started for file :: Al Midhnab_companies.csv\n"
     ]
    },
    {
     "name": "stderr",
     "output_type": "stream",
     "text": [
      "100%|██████████████████████████████████████████████████████████████████████████████████████████| 17/17 [00:00<?, ?it/s]\n"
     ]
    },
    {
     "name": "stdout",
     "output_type": "stream",
     "text": [
      "Index :: 19\n",
      "Started for file :: Al Mindak_companies.csv\n"
     ]
    },
    {
     "name": "stderr",
     "output_type": "stream",
     "text": [
      "100%|██████████████████████████████████████████████████████████████████████████████████████████| 51/51 [00:00<?, ?it/s]\n"
     ]
    },
    {
     "name": "stdout",
     "output_type": "stream",
     "text": [
      "Index :: 20\n",
      "Started for file :: Al Mubarraz_companies.csv\n"
     ]
    },
    {
     "name": "stderr",
     "output_type": "stream",
     "text": [
      "100%|████████████████████████████████████████████████████████████████████████████████████████████| 4/4 [00:00<?, ?it/s]\n"
     ]
    },
    {
     "name": "stdout",
     "output_type": "stream",
     "text": [
      "Index :: 21\n",
      "Started for file :: Al Qatif_companies.csv\n"
     ]
    },
    {
     "name": "stderr",
     "output_type": "stream",
     "text": [
      "100%|██████████████████████████████████████████████████████████████████████████████████████████| 12/12 [00:00<?, ?it/s]\n"
     ]
    }
   ],
   "source": [
    "for ind, file in enumerate(files):\n",
    "    print(\"Index ::\",ind)\n",
    "    print(\"Started for file ::\",file)\n",
    "    \n",
    "    emails_df = pd.read_csv(\"../results/emails/{}/{}\".format(country,file))\n",
    "    rows = emails_df.to_dict(\"records\")\n",
    "    \n",
    "    for r in tqdm.tqdm(rows):\n",
    "        if type(r['emails'])!=float:\n",
    "            name = r['name']\n",
    "            message = template.replace(\"[Company Name]\",name)\n",
    "            emails = r['emails'].split(\";\")\n",
    "            for e in emails:\n",
    "                m.send_email(e, subject, message, '', '../data/Dr Macs Pharma Brochure Arabic.pdf', '../data/Dr Macs Pharma Brochure.pdf')\n",
    "    "
   ]
  },
  {
   "cell_type": "code",
   "execution_count": null,
   "id": "ab94cf4b",
   "metadata": {},
   "outputs": [],
   "source": []
  },
  {
   "cell_type": "markdown",
   "id": "85cbc463-4c3f-4f3c-ad84-08902b4f9d5a",
   "metadata": {},
   "source": [
    "## LLM based hyper-personalized email"
   ]
  },
  {
   "cell_type": "code",
   "execution_count": 3,
   "id": "97bd83f4",
   "metadata": {},
   "outputs": [],
   "source": [
    "client_website = \"\"\n",
    "prospect_website = \"\""
   ]
  },
  {
   "cell_type": "code",
   "execution_count": 4,
   "id": "4fa77f65-e23e-43ae-8d00-b42bad531633",
   "metadata": {},
   "outputs": [],
   "source": [
    "# Step 1: Extract content from client website\n",
    "# Step 2: Extract products and services from client website\n",
    "# Step 3: Extract content from prospect_website\n",
    "# Step 4: Summarize prospect_website content\n",
    "# Step 5: Create personalized email to prospect using LLM model\n"
   ]
  },
  {
   "cell_type": "markdown",
   "id": "2e9003a3-b8c6-4c93-9229-f0afd5f1d1de",
   "metadata": {},
   "source": [
    "#### LLM modeo"
   ]
  },
  {
   "cell_type": "code",
   "execution_count": null,
   "id": "930a3f26-0cc9-4e53-9f4f-d5ace4c64495",
   "metadata": {},
   "outputs": [],
   "source": [
    "from transformers import AutoModelForSeq2SeqLM\n",
    "from transformers import AutoTokenizer\n",
    "\n",
    "# model \n",
    "model_name = \"google/flan-t5-base\"\n",
    "model = AutoModelForSeq2SeqLM.from_pretrained(model_name)  \n",
    "\n",
    "# tokenizer\n",
    "tokenizer = AutoTokenizer.from_pretrained(model_name, use_fast=True)"
   ]
  },
  {
   "cell_type": "code",
   "execution_count": null,
   "id": "c16bd7dd-976f-488a-bd67-66e3b96ae809",
   "metadata": {},
   "outputs": [],
   "source": [
    "## Generating a code block\n",
    "prompt = \"\"\"\n",
    "Role: You are a marketing executive for the {client} company. You need to create a personalized marketing email to prospect company. \n",
    "Here are the services and products {client} company offers. \n",
    "Here is the information about the {prospect} company. \n",
    "{}\n",
    "\n",
    "Now creat a personalized email, so that our services and products perfectly match with {prospect} company. \n",
    "Subject:\n",
    "Email body:\n",
    "\n",
    "\"\"\"\n",
    "\n",
    "\n",
    "inputs = tokenizer(prompt, return_tensors=\"pt\")\n",
    "\n",
    "output = tokenizer.decode(model.generate(\n",
    "    inputs[\"input_ids\"],\n",
    "    max_new_tokens=100)[0], skip_special_tokens=True)\n",
    "\n",
    "print(\"Generated output\")\n",
    "print(output)"
   ]
  }
 ],
 "metadata": {
  "kernelspec": {
   "display_name": "Python 3 (ipykernel)",
   "language": "python",
   "name": "python3"
  },
  "language_info": {
   "codemirror_mode": {
    "name": "ipython",
    "version": 3
   },
   "file_extension": ".py",
   "mimetype": "text/x-python",
   "name": "python",
   "nbconvert_exporter": "python",
   "pygments_lexer": "ipython3",
   "version": "3.10.14"
  }
 },
 "nbformat": 4,
 "nbformat_minor": 5
}
