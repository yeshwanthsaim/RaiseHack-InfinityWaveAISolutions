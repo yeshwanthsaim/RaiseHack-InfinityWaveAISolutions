{
 "cells": [
  {
   "cell_type": "raw",
   "id": "382683c4",
   "metadata": {},
   "source": [
    "Strategy:\n",
    "    After we extract all the company names and its websites from google \n",
    "    For each file in the results names folder => We extract the emails one after the other \n",
    "    We save each file again updating the emails:"
   ]
  },
  {
   "cell_type": "code",
   "execution_count": null,
   "id": "4e988ef5",
   "metadata": {},
   "outputs": [],
   "source": []
  },
  {
   "cell_type": "code",
   "execution_count": 1,
   "id": "bb78f223",
   "metadata": {},
   "outputs": [],
   "source": [
    "# libraries\n",
    "\n",
    "from selenium import webdriver\n",
    "from selenium.webdriver.common.action_chains import ActionChains\n",
    "from selenium.webdriver.chrome.service import Service\n",
    "from selenium import webdriver\n",
    "from selenium.webdriver.common.by import By\n",
    "\n",
    "import time\n",
    "from selenium import webdriver\n",
    "from selenium.webdriver.chrome.service import Service\n",
    "from webdriver_manager.chrome import ChromeDriverManager as CM\n",
    "from selenium.webdriver.chrome.options import Options\n",
    "from selenium.webdriver.support.ui import WebDriverWait\n",
    "from selenium.webdriver.support import expected_conditions as EC\n",
    "from selenium.webdriver.common.by import By\n",
    "\n",
    "import time\n",
    "\n",
    "import pandas as pd\n",
    "import re\n",
    "from deep_translator import GoogleTranslator\n",
    "import tqdm\n",
    "import os"
   ]
  },
  {
   "cell_type": "code",
   "execution_count": null,
   "id": "ec1db606",
   "metadata": {},
   "outputs": [],
   "source": []
  },
  {
   "cell_type": "code",
   "execution_count": null,
   "id": "8060b66c",
   "metadata": {},
   "outputs": [],
   "source": []
  },
  {
   "cell_type": "raw",
   "id": "39c1761e",
   "metadata": {},
   "source": [
    "## logic:\n",
    "1. For each entry or row\n",
    "2. If website is given => Extract contact page and try to extract emails\n",
    "3. If website is not given => Extract website => Extract contact page and try to extract emails"
   ]
  },
  {
   "cell_type": "code",
   "execution_count": 2,
   "id": "d2ea94f4",
   "metadata": {},
   "outputs": [],
   "source": [
    "## Initiating the browser\n",
    "options = webdriver.ChromeOptions()\n",
    "path = \"../chrome/chromedriver.exe\"\n",
    "service = Service(executable_path=path)\n",
    "browser = webdriver.Chrome(service=service,options=options)\n",
    "browser.maximize_window()\n",
    "\n",
    "browser.set_page_load_timeout(60) # only for 5 minutes\n"
   ]
  },
  {
   "cell_type": "code",
   "execution_count": 26,
   "id": "80893ed5-781d-425e-9f6b-016841251f01",
   "metadata": {},
   "outputs": [],
   "source": [
    "# New way :>\n",
    "chrome_options = Options()\n",
    "# Use WebDriverManager to handle driver installation\n",
    "service = Service(executable_path=CM().install())\n",
    "browser = webdriver.Chrome(service=service, options=chrome_options)\n",
    "\n",
    "browser.maximize_window()\n",
    "browser.set_page_load_timeout(60) # only for 5 minutes"
   ]
  },
  {
   "cell_type": "code",
   "execution_count": 2,
   "id": "e8ade9de-ba6a-48ed-8b06-d88513211b5a",
   "metadata": {},
   "outputs": [],
   "source": []
  },
  {
   "cell_type": "code",
   "execution_count": 17,
   "id": "32475ee0",
   "metadata": {},
   "outputs": [],
   "source": [
    "def getEmailFromWebsite(url):\n",
    "    global browser \n",
    "    \n",
    "    emails = set()\n",
    "    # opening with selnium\n",
    "    browser.get(url)\n",
    "    \n",
    "    # from any element which has @ in their text\n",
    "    elems = browser.find_elements(\"xpath\",\"//*[contains(text(), '@')]\")\n",
    "    for elem in elems:\n",
    "        es = ((re.findall(r\"\\b[A-Za-z0-9._%+-]+@[A-Za-z0-9.-]+\\.[A-Z|a-z]{2,}\\b\", elem.text, re.I)))\n",
    "        emails.update(es)\n",
    "    \n",
    "    if len(emails) == 0:\n",
    "        try:\n",
    "            \n",
    "            time.sleep(1)\n",
    "            button = browser.find_element(By.XPATH, \"//a[contains(text(),'contact')]\") \n",
    "            browser.execute_script(\"arguments[0].click();\", button)\n",
    "\n",
    "\n",
    "            elems = browser.find_elements(\"xpath\",\"//*[contains(text(), '@')]\")\n",
    "            for elem in elems:\n",
    "                es = ((re.findall(r\"\\b[A-Za-z0-9._%+-]+@[A-Za-z0-9.-]+\\.[A-Z|a-z]{2,}\\b\", elem.text, re.I)))\n",
    "                emails.update(es)\n",
    "        except:\n",
    "            pass\n",
    "    \n",
    "    return \";\".join(emails)\n"
   ]
  },
  {
   "cell_type": "code",
   "execution_count": 4,
   "id": "9f4e196f",
   "metadata": {},
   "outputs": [
    {
     "data": {
      "text/plain": [
       "'contact@smartlog-group.com'"
      ]
     },
     "execution_count": 4,
     "metadata": {},
     "output_type": "execute_result"
    }
   ],
   "source": [
    "url = \"https://smartlog-group.com/\"\n",
    "getEmailFromWebsite(url)"
   ]
  },
  {
   "cell_type": "code",
   "execution_count": 4,
   "id": "33c10ec8",
   "metadata": {},
   "outputs": [],
   "source": [
    "def extractWebsiteFromName(name):\n",
    "    global browser\n",
    "    global country\n",
    "    url_base = \"https://www.google.com/search?q=\"\n",
    "    url = url_base + name + \" \" + country\n",
    "\n",
    "    # opening a url:\n",
    "    browser.get(url)\n",
    "    elems = browser.find_elements(\"xpath\",\"//a[@jsname='n1obkb mI8Pwc']\")\n",
    "\n",
    "    # check first\n",
    "    elem = elems[0]\n",
    "    link = elem.text.split(\"\\n\")[2]\n",
    "    \n",
    "    marketplaces = [\n",
    "        'justdail',\n",
    "        'amazon',\n",
    "        'cphi',\n",
    "        'dnb',\n",
    "        'wikipedia',\n",
    "        'linkedin',\n",
    "        'indiamart'\n",
    "    ]\n",
    "    \n",
    "    for m in marketplaces:\n",
    "        if m in link:\n",
    "            return None\n",
    "    \n",
    "    if 'http' in link:\n",
    "        if \"›\" in link:\n",
    "            link = link.split(\"›\")[0].strip()\n",
    "\n",
    "        for m in marketplaces:\n",
    "            if m in link:\n",
    "                return None\n",
    "            \n",
    "        return link\n",
    "    else:\n",
    "        # check second\n",
    "        elem = elems[1]\n",
    "        link = elem.text.split(\"\\n\")[2]\n",
    "        if 'http' in link:\n",
    "            if \"›\" in link:\n",
    "                link = link.split(\"›\")[0].strip()\n",
    "            return link\n",
    "        else:\n",
    "            # check third\n",
    "            elem = elems[1]\n",
    "            link = elem.text.split(\"\\n\")[2]\n",
    "            if 'http' in link:\n",
    "                if \"›\" in link:\n",
    "                    link = link.split(\"›\")[0].strip()\n",
    "                return link\n",
    "    return None\n",
    "\n"
   ]
  },
  {
   "cell_type": "code",
   "execution_count": 36,
   "id": "d3d5e9d4-bbf3-4446-98e6-3e2d08069018",
   "metadata": {},
   "outputs": [],
   "source": [
    "def extractWebsiteGoogleSearch(name):\n",
    "    global browser\n",
    "    global country\n",
    "    url_base = \"https://www.google.com/search?q=\"\n",
    "    url = url_base + name + \" \" + country\n",
    "\n",
    "    # opening a url:\n",
    "    browser.get(url)\n",
    "    elems = browser.find_elements(\"xpath\",\"//a[@class='n1obkb mI8Pwc']\")\n",
    "\n",
    "    # check first\n",
    "    elem = elems[0]\n",
    "    link = elem.get_attribute('href')\n",
    "    \n",
    "    return link\n",
    "\n"
   ]
  },
  {
   "cell_type": "code",
   "execution_count": 13,
   "id": "7b330336-ce6b-4672-aac9-88c8e741b551",
   "metadata": {},
   "outputs": [
    {
     "data": {
      "text/html": [
       "<div>\n",
       "<style scoped>\n",
       "    .dataframe tbody tr th:only-of-type {\n",
       "        vertical-align: middle;\n",
       "    }\n",
       "\n",
       "    .dataframe tbody tr th {\n",
       "        vertical-align: top;\n",
       "    }\n",
       "\n",
       "    .dataframe thead th {\n",
       "        text-align: right;\n",
       "    }\n",
       "</style>\n",
       "<table border=\"1\" class=\"dataframe\">\n",
       "  <thead>\n",
       "    <tr style=\"text-align: right;\">\n",
       "      <th></th>\n",
       "      <th>name</th>\n",
       "      <th>phone</th>\n",
       "      <th>website</th>\n",
       "      <th>address</th>\n",
       "    </tr>\n",
       "  </thead>\n",
       "  <tbody>\n",
       "    <tr>\n",
       "      <th>0</th>\n",
       "      <td>Comercial Médico Quirúrgica</td>\n",
       "      <td>NaN</td>\n",
       "      <td>NaN</td>\n",
       "      <td>Tienda de material sanitario ·  · Carrer de Ca...</td>\n",
       "    </tr>\n",
       "    <tr>\n",
       "      <th>1</th>\n",
       "      <td>Farmacia Guillermo Chacón Puig</td>\n",
       "      <td>934 35 92 93</td>\n",
       "      <td>http://farmaciaguillermochacon.com/</td>\n",
       "      <td>Farmacia ·  · Carrer de la Indústria, 128</td>\n",
       "    </tr>\n",
       "    <tr>\n",
       "      <th>2</th>\n",
       "      <td>Farmàcia Dra. Pascal</td>\n",
       "      <td>934 35 82 68</td>\n",
       "      <td>NaN</td>\n",
       "      <td>Farmacia ·  · AL COSTAT HOSP. DE SANT PAU, Av....</td>\n",
       "    </tr>\n",
       "    <tr>\n",
       "      <th>3</th>\n",
       "      <td>Farmacia Gaudi - Maria Belenguer</td>\n",
       "      <td>934 35 80 90</td>\n",
       "      <td>NaN</td>\n",
       "      <td>Farmacia ·  · Av. de Gaudí, 71</td>\n",
       "    </tr>\n",
       "    <tr>\n",
       "      <th>4</th>\n",
       "      <td>Ambi Medical</td>\n",
       "      <td>NaN</td>\n",
       "      <td>NaN</td>\n",
       "      <td>Tienda de material sanitario ·  · Carrer de Sa...</td>\n",
       "    </tr>\n",
       "  </tbody>\n",
       "</table>\n",
       "</div>"
      ],
      "text/plain": [
       "                               name         phone  \\\n",
       "0       Comercial Médico Quirúrgica           NaN   \n",
       "1    Farmacia Guillermo Chacón Puig  934 35 92 93   \n",
       "2              Farmàcia Dra. Pascal  934 35 82 68   \n",
       "3  Farmacia Gaudi - Maria Belenguer  934 35 80 90   \n",
       "4                      Ambi Medical           NaN   \n",
       "\n",
       "                               website  \\\n",
       "0                                  NaN   \n",
       "1  http://farmaciaguillermochacon.com/   \n",
       "2                                  NaN   \n",
       "3                                  NaN   \n",
       "4                                  NaN   \n",
       "\n",
       "                                             address  \n",
       "0  Tienda de material sanitario ·  · Carrer de Ca...  \n",
       "1          Farmacia ·  · Carrer de la Indústria, 128  \n",
       "2  Farmacia ·  · AL COSTAT HOSP. DE SANT PAU, Av....  \n",
       "3                     Farmacia ·  · Av. de Gaudí, 71  \n",
       "4  Tienda de material sanitario ·  · Carrer de Sa...  "
      ]
     },
     "execution_count": 13,
     "metadata": {},
     "output_type": "execute_result"
    }
   ],
   "source": [
    "# loading file of names :> \n",
    "df = pd.read_csv(\"../results/barcelona/Tourism companies.csv\")\n",
    "df = pd.read_csv(\"../results/industries/Medical shop/Spain/companies_highlevel_1.csv\")\n",
    "df.head()"
   ]
  },
  {
   "cell_type": "code",
   "execution_count": 24,
   "id": "f12dd721-f42f-43b8-9a5d-3cb4d761c16c",
   "metadata": {},
   "outputs": [],
   "source": [
    "names = list(df['name'].values)\n",
    "websites = []"
   ]
  },
  {
   "cell_type": "code",
   "execution_count": 27,
   "id": "47426949-a799-4bd0-8580-2fcffecde6cb",
   "metadata": {},
   "outputs": [
    {
     "name": "stderr",
     "output_type": "stream",
     "text": [
      "100%|████████████████████████████████████████████████████████████████████████████████████| 1/1 [00:12<00:00, 12.86s/it]\n"
     ]
    }
   ],
   "source": [
    "country = \"spain\"\n",
    "for name in tqdm.tqdm(names[:1]):\n",
    "    url_base = \"https://www.google.com/search?q=\"\n",
    "    url = url_base + name + \" \" + country\n",
    "    browser.get(url)\n",
    "    time.sleep(10)\n",
    "    try:\n",
    "        # opening a url:\n",
    "        browser.get(url)\n",
    "        elems = browser.find_elements(\"xpath\",\"//a[@class='n1obkb mI8Pwc']\")\n",
    "    \n",
    "        # check first\n",
    "        elem = elems[0]\n",
    "        link = elem.get_attribute('href')\n",
    "        \n",
    "        # link = extractWebsiteGoogleSearch(name)\n",
    "        websites.append(link)\n",
    "    except:\n",
    "        pass"
   ]
  },
  {
   "cell_type": "code",
   "execution_count": null,
   "id": "c05e978c-bf64-4708-893f-b78918fe6d0f",
   "metadata": {},
   "outputs": [
    {
     "name": "stderr",
     "output_type": "stream",
     "text": [
      " 53%|██████████████████████████████████████████▌                                      | 62/118 [04:40<04:02,  4.32s/it]"
     ]
    }
   ],
   "source": [
    "country = \"spain\"\n",
    "for name in tqdm.tqdm(names[2:]):\n",
    "    url_base = \"https://www.google.com/search?q=\"\n",
    "    url = url_base + name + \" \" + country\n",
    "    browser.get(url)\n",
    "    time.sleep(2)\n",
    "    try:\n",
    "        # opening a url:\n",
    "        browser.get(url)\n",
    "        elems = browser.find_elements(\"xpath\",\"//a[@class='n1obkb mI8Pwc']\")\n",
    "    \n",
    "        # check first\n",
    "        elem = elems[0]\n",
    "        link = elem.get_attribute('href')\n",
    "        \n",
    "        # link = extractWebsiteGoogleSearch(name)\n",
    "        websites.append(link)\n",
    "    except:\n",
    "        pass"
   ]
  },
  {
   "cell_type": "code",
   "execution_count": 12,
   "id": "bdecd821-ef13-4346-a0e3-58738e9d828b",
   "metadata": {},
   "outputs": [
    {
     "data": {
      "text/plain": [
       "0"
      ]
     },
     "execution_count": 12,
     "metadata": {},
     "output_type": "execute_result"
    }
   ],
   "source": [
    "len(websites)"
   ]
  },
  {
   "cell_type": "code",
   "execution_count": 54,
   "id": "42c6c819-b7bd-46f1-9d58-72183076bd5d",
   "metadata": {},
   "outputs": [],
   "source": [
    "websites_df = pd.DataFrame({\"website\":websites})\n",
    "websites_df.to_csv(\"../results/websites.csv\",index=None)"
   ]
  },
  {
   "cell_type": "code",
   "execution_count": null,
   "id": "b69aabfd-e7bb-41b5-a803-8fee1b2249d4",
   "metadata": {},
   "outputs": [],
   "source": []
  },
  {
   "cell_type": "code",
   "execution_count": 10,
   "id": "fe207628",
   "metadata": {},
   "outputs": [
    {
     "data": {
      "text/plain": [
       "'https://www.tripadvisor.es'"
      ]
     },
     "execution_count": 10,
     "metadata": {},
     "output_type": "execute_result"
    }
   ],
   "source": [
    "name = \"Barcelona da Gema (Turismo em Portugués)\"\n",
    "country = \"Barcelona\"\n",
    "links = extractWebsiteFromName(name)\n",
    "links"
   ]
  },
  {
   "cell_type": "code",
   "execution_count": 15,
   "id": "63fa5482-4f98-45e4-a0d7-a442878fe393",
   "metadata": {},
   "outputs": [
    {
     "data": {
      "text/plain": [
       "[<selenium.webdriver.remote.webelement.WebElement (session=\"00437ebce947adfd1feb360f207c5549\", element=\"f.06791A7EBA4C2E8BF4E761D57FACE59B.d.869A3B8E29A6D2E98B64AAAB35FC95D4.e.1854\")>,\n",
       " <selenium.webdriver.remote.webelement.WebElement (session=\"00437ebce947adfd1feb360f207c5549\", element=\"f.06791A7EBA4C2E8BF4E761D57FACE59B.d.869A3B8E29A6D2E98B64AAAB35FC95D4.e.1870\")>]"
      ]
     },
     "execution_count": 15,
     "metadata": {},
     "output_type": "execute_result"
    }
   ],
   "source": [
    "elems = browser.find_elements(\"xpath\",\"//a[@class='n1obkb mI8Pwc']\")\n",
    "elems"
   ]
  },
  {
   "cell_type": "code",
   "execution_count": 18,
   "id": "dcabb731-40fb-41bd-a9f2-f87cf390b875",
   "metadata": {},
   "outputs": [
    {
     "name": "stdout",
     "output_type": "stream",
     "text": [
      "http://www.barcelonadagema.com/\n",
      "https://www.google.com/search?sca_esv=dd2f1766d71666ee&si=APYL9btvhO6SAb8jF9HqTZMMa7vs_teLnZaEVrJZwRKFIIKjocFp6OWbsnWeEeIHEofi20AjgtS5-YhR9Idonf35NQU20Zwu6yy5JbycHi2iv36hfNtSeZvo1oCOpDtgYwF_bABUA4rz9bdI4-lZjeLHHwurQeXe9XPkNo-lEBAMB7zwpDrw-Kk%3D&q=Barcelona+da+Gema+%28Turismo+em+Portugu%C3%A9s%29+Rese%C3%B1as&sa=X&ved=2ahUKEwjT7d7k8PiMAxX6SPEDHf1RFtcQ0bkNegQIIBAE\n"
     ]
    }
   ],
   "source": [
    "for e in elems:\n",
    "    print(e.get_attribute('href'))"
   ]
  },
  {
   "cell_type": "code",
   "execution_count": null,
   "id": "c1855c35-6514-4895-9cb0-2c99f2583163",
   "metadata": {},
   "outputs": [],
   "source": []
  },
  {
   "cell_type": "code",
   "execution_count": null,
   "id": "f2fa2622-d1f4-473b-a32c-377815977e3a",
   "metadata": {},
   "outputs": [],
   "source": [
    "websites = [\n",
    "    'https://weareworldexperience.com/',\n",
    "    'https://mindtrip.ai',\n",
    "    'https://www.barcelonadagema.com/'\n",
    "]"
   ]
  },
  {
   "cell_type": "code",
   "execution_count": 6,
   "id": "2da6666f",
   "metadata": {},
   "outputs": [],
   "source": [
    "def extractEmail(row):\n",
    "    \n",
    "    name = row['name']\n",
    "    website = row['website']\n",
    "    \n",
    "    emails_all = []\n",
    "    \n",
    "    if type(website) != float:\n",
    "        # extract emails from website:\n",
    "        emails = getEmailFromWebsite(website)\n",
    "        emails_all.extend(emails.split(\";\"))\n",
    "        \n",
    "    else:\n",
    "        # try extracting website from company name\n",
    "        website = extractWebsiteFromName(name)\n",
    "        row['website']=website\n",
    "        \n",
    "        emails = getEmailFromWebsite(website)\n",
    "        emails_all.extend(emails.split(\";\"))\n",
    "    \n",
    "    row['emails']=\";\".join(emails_all)\n",
    "    return row\n",
    "    \n"
   ]
  },
  {
   "cell_type": "code",
   "execution_count": 57,
   "id": "b2230bdf-cb61-42be-bdf5-e2c81f9cd720",
   "metadata": {},
   "outputs": [],
   "source": [
    "emails = []"
   ]
  },
  {
   "cell_type": "code",
   "execution_count": 66,
   "id": "be38563b-8820-48bd-947f-9df9c9c5a39f",
   "metadata": {},
   "outputs": [
    {
     "data": {
      "text/plain": [
       "['http://weareworldexperience.com/',\n",
       " 'http://www.barcelonadagema.com/',\n",
       " 'https://www.barcelonalocalexperiences.com/',\n",
       " 'https://barcelonadaytrip.com/',\n",
       " 'https://www.google.com/search?sca_esv=d58a3a4304cf478c&si=APYL9bs7Hg2KMLB-4tSoTdxuOx8BdRvHbByC_AuVpNyh0x2KzZTisYb-5ojl7wl2VGGBoIQHdXdqHZnHvdrc-VODnhfzUjvTwlxhWH7FnVI0kl0tB_qvIOt9R_cLOyp7TPbovtThcUz-&q=Badal+Tours+Rese%C3%B1as&sa=X&ved=2ahUKEwjqyo-_-viMAxUScKQEHUN6DGMQ0bkNegQIKxAD',\n",
       " 'https://www.inoutbarcelonatours.com/',\n",
       " 'https://barcelona.city-tour.com/?utm_source=social&utm_medium=Google+My+Business&utm_campaign=GMB_BCT_LinkWeb',\n",
       " 'https://skipthelinebarcelona.com/',\n",
       " 'http://www.bcn-adventure.com/',\n",
       " 'https://explorecatalunya.com/',\n",
       " 'http://www.belocaltours.com/',\n",
       " 'https://juliatravel.com/?utm_source=social&utm_medium=Google+My+Business&utm_campaign=GMB_Nord_LinkWeb',\n",
       " 'http://www.donkeytours.es/',\n",
       " 'http://www.barcelonartguide.com/',\n",
       " 'https://www.barcelonaviptour.com/',\n",
       " 'https://www.touristforum.net/?utm_source=GMB&utm_medium=GMB_web&utm_campaign=GMB_web_TF',\n",
       " 'http://www.barcelonaguidebureau.com/',\n",
       " 'http://www.aeromontours.com/',\n",
       " 'https://barcelonasegwayday.com/',\n",
       " 'https://www.google.com/search?sca_esv=dd2f1766d71666ee&si=APYL9bvoDGWmsM6h2lfKzIb8LfQg_oNQyUOQgna9TyfQHAoqUplQfFjZdVSqrjgKz4ASO96kAfDxf3_cb6ROisp-HcYew7HlAEfYbZ69mYRei-pT_Fx9BroiuHg5q_SbBkOKCV3rTTd8p8qlIRfi40akG0RUrCw4FGmGA6i3bx2N_lUac9Oncz5qQST916dcrayjKmLDtfuG&q=We+Barcelona+Passeig+de+Gr%C3%A0cia+-+Van+%26+Minibus+Tours+Rese%C3%B1as&sa=X&ved=2ahUKEwim-sLP-fiMAxXOSaQEHYvnAsYQ0bkNegQILxAD&cshid=1745782482173818',\n",
       " 'https://www.barcelonaviptour.com/',\n",
       " 'http://okbarcelonatours.com/',\n",
       " 'https://www.google.com/search?sca_esv=dd2f1766d71666ee&si=APYL9bs7Hg2KMLB-4tSoTdxuOx8BdRvHbByC_AuVpNyh0x2KzbhL5X147O8CLGsQgq17Z-obloWviC6HOr4Xbsq_uWpScHAXLo7RzhGf_Ek00aK2zWT_aruFw3OskfzBndWK9cFIT10P&q=Latin+Travel+Rese%C3%B1as&sa=X&ved=2ahUKEwjawtXQ-fiMAxU7TKQEHQyoFxgQ0bkNegQIHxAD&cshid=1745782484050382',\n",
       " 'http://toursbyuni.com/',\n",
       " 'http://chauhdrylegal.com/',\n",
       " 'https://freewalkingtoursbarcelona.com/',\n",
       " 'https://somosnostos.com/',\n",
       " 'http://www.bcityng.com/',\n",
       " 'http://www.barcelonaguidebureau.com/',\n",
       " 'https://www.google.com/search?sca_esv=dd2f1766d71666ee&si=APYL9bs7Hg2KMLB-4tSoTdxuOx8BdRvHbByC_AuVpNyh0x2KzaK5ssOY2KNM1-nhu2MEzY04wVTJbaWc9rZxXgRVQZePP1HltCyOjL_zm3j5k7ewI4Fbu3BlOdaqCoViXHmbg12_JbfAjtxcmTYuVuku7gBOAmheNg%3D%3D&q=Barcelona+tailor+made+tours+Rese%C3%B1as&sa=X&ved=2ahUKEwigyMSd-viMAxXsfKQEHSgQGzsQ0bkNegQIMBAD&cshid=1745782490739741',\n",
       " 'http://sunnytours.co.il/',\n",
       " 'http://www.spaintravelviajes.com/',\n",
       " 'http://www.barcelonaoculta.com/',\n",
       " 'https://www.exoticca.com/',\n",
       " 'https://www.viajarabarcelona.org/tours-y-visitas-guiadas-para-grupos/',\n",
       " 'http://www.barcelonartoftravel.com/',\n",
       " 'https://ecotuktuk.com/barcelona/',\n",
       " 'http://www.barcelonaexperts.com/',\n",
       " 'https://www.unicabcn.com/',\n",
       " 'https://barcelonarchitecturewalks.com/',\n",
       " 'http://realbarcelonatours.com/',\n",
       " 'https://www.barcelona-reseguide.se/',\n",
       " 'https://www.bcnmtpoint.com/?utm_source=gmb&utm_medium=referral',\n",
       " 'http://weareworldexperience.com/',\n",
       " 'http://www.barcelonadagema.com/',\n",
       " 'https://www.barcelonalocalexperiences.com/',\n",
       " 'https://barcelonadaytrip.com/',\n",
       " 'https://www.google.com/search?sca_esv=d58a3a4304cf478c&si=APYL9bs7Hg2KMLB-4tSoTdxuOx8BdRvHbByC_AuVpNyh0x2KzZTisYb-5ojl7wl2VGGBoIQHdXdqHZnHvdrc-VODnhfzUjvTwlxhWH7FnVI0kl0tB_qvIOt9R_cLOyp7TPbovtThcUz-&q=Badal+Tours+Rese%C3%B1as&sa=X&ved=2ahUKEwjqyo-_-viMAxUScKQEHUN6DGMQ0bkNegQIKxAD&cshid=1745782555836773',\n",
       " 'https://www.inoutbarcelonatours.com/',\n",
       " 'https://barcelona.city-tour.com/?utm_source=social&utm_medium=Google+My+Business&utm_campaign=GMB_BCT_LinkWeb',\n",
       " 'https://skipthelinebarcelona.com/',\n",
       " 'http://www.bcn-adventure.com/',\n",
       " 'https://explorecatalunya.com/',\n",
       " 'http://www.belocaltours.com/',\n",
       " 'https://juliatravel.com/?utm_source=social&utm_medium=Google+My+Business&utm_campaign=GMB_Nord_LinkWeb',\n",
       " 'http://www.donkeytours.es/',\n",
       " 'http://www.barcelonartguide.com/',\n",
       " 'https://www.barcelonaviptour.com/',\n",
       " 'https://www.touristforum.net/?utm_source=GMB&utm_medium=GMB_web&utm_campaign=GMB_web_TF',\n",
       " 'http://www.barcelonaguidebureau.com/',\n",
       " 'http://www.aeromontours.com/',\n",
       " 'https://barcelonasegwayday.com/',\n",
       " 'https://www.google.com/search?sca_esv=dd2f1766d71666ee&si=APYL9bvoDGWmsM6h2lfKzIb8LfQg_oNQyUOQgna9TyfQHAoqUplQfFjZdVSqrjgKz4ASO96kAfDxf3_cb6ROisp-HcYew7HlAEfYbZ69mYRei-pT_Fx9BroiuHg5q_SbBkOKCV3rTTd8p8qlIRfi40akG0RUrCw4FGmGA6i3bx2N_lUac9Oncz5qQST916dcrayjKmLDtfuG&q=We+Barcelona+Passeig+de+Gr%C3%A0cia+-+Van+%26+Minibus+Tours+Rese%C3%B1as&sa=X&ved=2ahUKEwjvk_rv-viMAxUlSaQEHU6GGnIQ0bkNegQILxAD',\n",
       " 'https://www.barcelonaviptour.com/',\n",
       " 'http://okbarcelonatours.com/',\n",
       " 'https://www.google.com/search?sca_esv=dd2f1766d71666ee&si=APYL9bs7Hg2KMLB-4tSoTdxuOx8BdRvHbByC_AuVpNyh0x2KzbhL5X147O8CLGsQgq17Z-obloWviC6HOr4Xbsq_uWpScHAXLo7RzhGf_Ek00aK2zWT_aruFw3OskfzBndWK9cFIT10P&q=Latin+Travel+Rese%C3%B1as&sa=X&ved=2ahUKEwjFnPzw-viMAxVTVqQEHc5ILFAQ0bkNegQIHRAD',\n",
       " 'http://toursbyuni.com/',\n",
       " 'http://chauhdrylegal.com/',\n",
       " 'https://freewalkingtoursbarcelona.com/',\n",
       " 'https://somosnostos.com/',\n",
       " 'http://www.bcityng.com/',\n",
       " 'http://www.barcelonaguidebureau.com/',\n",
       " 'https://www.google.com/search?sca_esv=dd2f1766d71666ee&si=APYL9bs7Hg2KMLB-4tSoTdxuOx8BdRvHbByC_AuVpNyh0x2KzaK5ssOY2KNM1-nhu2MEzY04wVTJbaWc9rZxXgRVQZePP1HltCyOjL_zm3j5k7ewI4Fbu3BlOdaqCoViXHmbg12_JbfAjtxcmTYuVuku7gBOAmheNg%3D%3D&q=Barcelona+tailor+made+tours+Rese%C3%B1as&sa=X&ved=2ahUKEwigyMSd-viMAxXsfKQEHSgQGzsQ0bkNegQIMBAD&cshid=1745782579863340',\n",
       " 'http://sunnytours.co.il/',\n",
       " 'http://www.spaintravelviajes.com/',\n",
       " 'http://www.barcelonaoculta.com/',\n",
       " 'https://www.exoticca.com/',\n",
       " 'https://www.viajarabarcelona.org/tours-y-visitas-guiadas-para-grupos/',\n",
       " 'http://www.barcelonartoftravel.com/',\n",
       " 'https://ecotuktuk.com/barcelona/',\n",
       " 'http://www.barcelonaexperts.com/',\n",
       " 'https://www.unicabcn.com/',\n",
       " 'http://dmcsolutionsbarcelona.com/',\n",
       " 'https://itravex.es/',\n",
       " 'https://tacadevi.com/en/',\n",
       " 'https://www.breaktime.fun/',\n",
       " 'https://www.taranna.com/',\n",
       " 'http://www.volartetours.com/',\n",
       " 'http://www.onlinetours.es/',\n",
       " 'http://www.spanish-trails.com/']"
      ]
     },
     "execution_count": 66,
     "metadata": {},
     "output_type": "execute_result"
    }
   ],
   "source": [
    "websites"
   ]
  },
  {
   "cell_type": "code",
   "execution_count": 70,
   "id": "da581572-b512-41c4-8ee5-aad361875a69",
   "metadata": {},
   "outputs": [
    {
     "name": "stderr",
     "output_type": "stream",
     "text": [
      "100%|██████████████████████████████████████████████████████████████████████████████████| 20/20 [00:51<00:00,  2.58s/it]\n"
     ]
    }
   ],
   "source": [
    "for website in tqdm.tqdm(websites[25+45:]):\n",
    "    \n",
    "    email = getEmailFromWebsite(website)\n",
    "    emails.append(email)"
   ]
  },
  {
   "cell_type": "code",
   "execution_count": 71,
   "id": "6eb20942-a3f7-4e10-a1f2-11fe047d551d",
   "metadata": {},
   "outputs": [],
   "source": [
    "emails_list = list(set(emails))[1:]"
   ]
  },
  {
   "cell_type": "code",
   "execution_count": 72,
   "id": "f61fbc77-fd26-4531-b4b3-b7b125f1f7d7",
   "metadata": {},
   "outputs": [
    {
     "data": {
      "text/plain": [
       "29"
      ]
     },
     "execution_count": 72,
     "metadata": {},
     "output_type": "execute_result"
    }
   ],
   "source": [
    "len(emails_list)"
   ]
  },
  {
   "cell_type": "code",
   "execution_count": 74,
   "id": "7b8bf986-ed1e-41a5-8ce5-e01d6cbfec27",
   "metadata": {},
   "outputs": [],
   "source": [
    "emails_list_df = pd.DataFrame(emails_list)\n",
    "emails_list_df.to_csv(\"../results/emails.csv\",index=None)"
   ]
  },
  {
   "cell_type": "markdown",
   "id": "12f22056-c8f0-44d0-97ad-6d18535807ae",
   "metadata": {},
   "source": [
    "### Step 2: Selections"
   ]
  },
  {
   "cell_type": "code",
   "execution_count": 9,
   "id": "2df97950-4552-4a26-91f7-e94f168cbdf9",
   "metadata": {},
   "outputs": [],
   "source": [
    "country = \"India\"\n",
    "industry = \"Food\""
   ]
  },
  {
   "cell_type": "code",
   "execution_count": 12,
   "id": "5cb39680",
   "metadata": {},
   "outputs": [
    {
     "data": {
      "text/plain": [
       "['Bangalore.csv',\n",
       " 'Chennai.csv',\n",
       " 'companies_highlevel_1.csv',\n",
       " 'Delhi.csv',\n",
       " 'Hyderabad.csv',\n",
       " 'Kolkata.csv',\n",
       " 'Mumbai.csv',\n",
       " 'Pune.csv']"
      ]
     },
     "execution_count": 12,
     "metadata": {},
     "output_type": "execute_result"
    }
   ],
   "source": [
    "files = os.listdir(\"../results/industries/{}/{}/names\".format(industry,country))\n",
    "files"
   ]
  },
  {
   "cell_type": "code",
   "execution_count": null,
   "id": "6998603d",
   "metadata": {},
   "outputs": [],
   "source": [
    "os.mkdir(\"../results/industries/{}/{}/emails\".format(industry,country))"
   ]
  },
  {
   "cell_type": "code",
   "execution_count": 14,
   "id": "ab61a7d3",
   "metadata": {},
   "outputs": [
    {
     "data": {
      "text/plain": [
       "['Mumbai.csv', 'Pune.csv']"
      ]
     },
     "execution_count": 14,
     "metadata": {},
     "output_type": "execute_result"
    }
   ],
   "source": [
    "files[-2:]"
   ]
  },
  {
   "cell_type": "code",
   "execution_count": 15,
   "id": "2e45eae0",
   "metadata": {},
   "outputs": [
    {
     "name": "stdout",
     "output_type": "stream",
     "text": [
      "Index :: 0\n",
      "Started for file :: Bangalore.csv\n"
     ]
    },
    {
     "name": "stderr",
     "output_type": "stream",
     "text": [
      "100%|████████████████████████████████████████████████████████████████████████████████| 120/120 [14:11<00:00,  7.09s/it]\n"
     ]
    },
    {
     "name": "stdout",
     "output_type": "stream",
     "text": [
      "Index :: 1\n",
      "Started for file :: Chennai.csv\n"
     ]
    },
    {
     "name": "stderr",
     "output_type": "stream",
     "text": [
      "100%|████████████████████████████████████████████████████████████████████████████████| 120/120 [15:27<00:00,  7.73s/it]\n"
     ]
    },
    {
     "name": "stdout",
     "output_type": "stream",
     "text": [
      "Index :: 2\n",
      "Started for file :: companies_highlevel_1.csv\n"
     ]
    },
    {
     "name": "stderr",
     "output_type": "stream",
     "text": [
      "100%|████████████████████████████████████████████████████████████████████████████████| 105/105 [10:18<00:00,  5.89s/it]\n"
     ]
    },
    {
     "name": "stdout",
     "output_type": "stream",
     "text": [
      "Index :: 3\n",
      "Started for file :: Delhi.csv\n"
     ]
    },
    {
     "name": "stderr",
     "output_type": "stream",
     "text": [
      "100%|████████████████████████████████████████████████████████████████████████████████| 120/120 [11:23<00:00,  5.69s/it]\n"
     ]
    },
    {
     "name": "stdout",
     "output_type": "stream",
     "text": [
      "Index :: 4\n",
      "Started for file :: Hyderabad.csv\n"
     ]
    },
    {
     "name": "stderr",
     "output_type": "stream",
     "text": [
      "100%|████████████████████████████████████████████████████████████████████████████████| 100/100 [08:02<00:00,  4.83s/it]\n"
     ]
    },
    {
     "name": "stdout",
     "output_type": "stream",
     "text": [
      "Index :: 5\n",
      "Started for file :: Kolkata.csv\n"
     ]
    },
    {
     "name": "stderr",
     "output_type": "stream",
     "text": [
      "100%|████████████████████████████████████████████████████████████████████████████████| 120/120 [12:12<00:00,  6.11s/it]\n"
     ]
    },
    {
     "name": "stdout",
     "output_type": "stream",
     "text": [
      "Index :: 6\n",
      "Started for file :: Mumbai.csv\n"
     ]
    },
    {
     "name": "stderr",
     "output_type": "stream",
     "text": [
      "100%|████████████████████████████████████████████████████████████████████████████████| 120/120 [10:22<00:00,  5.19s/it]\n"
     ]
    },
    {
     "name": "stdout",
     "output_type": "stream",
     "text": [
      "Index :: 7\n",
      "Started for file :: Pune.csv\n"
     ]
    },
    {
     "name": "stderr",
     "output_type": "stream",
     "text": [
      "100%|████████████████████████████████████████████████████████████████████████████████| 120/120 [12:01<00:00,  6.01s/it]\n"
     ]
    }
   ],
   "source": [
    "\n",
    "for ind, file in enumerate(files):\n",
    "    print(\"Index ::\",ind)\n",
    "    print(\"Started for file ::\",file)\n",
    "    \n",
    "    updated_rows = []\n",
    "    failed_rows = []\n",
    "    existing_rows_names = []\n",
    "\n",
    "    df = pd.read_csv(\"../results/industries/{}/{}/names/{}\".format(industry,country,file))\n",
    "    rows = df.to_dict('records')\n",
    "    \n",
    "    for row in tqdm.tqdm(rows):\n",
    "        if row['name'] not in existing_rows_names:\n",
    "            try:\n",
    "                n = extractEmail(row)\n",
    "                updated_rows.append(n)\n",
    "            except:\n",
    "                failed_rows.append(row)\n",
    "                row['emails']=\"\"\n",
    "                updated_rows.append(row)\n",
    "                pass\n",
    "            \n",
    "        existing_rows_names.append(row['name'])\n",
    "    \n",
    "    # saving\n",
    "    df = pd.DataFrame(updated_rows)\n",
    "    df.to_csv((\"../results/industries/{}/{}/emails/{}\".format(industry,country,file)),index=None)"
   ]
  },
  {
   "cell_type": "code",
   "execution_count": null,
   "id": "2203ee1e-8824-42f2-8e48-c124a5811db2",
   "metadata": {},
   "outputs": [],
   "source": []
  },
  {
   "cell_type": "code",
   "execution_count": null,
   "id": "ed1a31c3-66a6-4a76-ad5f-9177cb947017",
   "metadata": {},
   "outputs": [],
   "source": [
    "## Ading time break logic with multi-processing:\n",
    "import multiprocessing\n",
    "import time\n",
    "\n",
    "# bar\n",
    "def bar():\n",
    "    for i in range(100):\n",
    "        print \"Tick\"\n",
    "        time.sleep(1)\n",
    "\n",
    "if __name__ == '__main__':\n",
    "    # Start bar as a process\n",
    "    p = multiprocessing.Process(target=bar)\n",
    "    p.start()\n",
    "\n",
    "    # Wait for 10 seconds or until process finishes\n",
    "    p.join(10)\n",
    "\n",
    "    # If thread is still active\n",
    "    if p.is_alive():\n",
    "        print \"running... let's kill it...\"\n",
    "\n",
    "        # Terminate - may not work if process is stuck for good\n",
    "        p.terminate()\n",
    "        # OR Kill - will work for sure, no chance for process to finish nicely however\n",
    "        # p.kill()\n",
    "\n",
    "        p.join()"
   ]
  },
  {
   "cell_type": "code",
   "execution_count": 56,
   "id": "f31bd7f1",
   "metadata": {},
   "outputs": [],
   "source": []
  },
  {
   "cell_type": "code",
   "execution_count": 22,
   "id": "162486ad",
   "metadata": {},
   "outputs": [
    {
     "name": "stdout",
     "output_type": "stream",
     "text": [
      "Index :: 0\n",
      "Started for file :: companies_1.csv\n"
     ]
    },
    {
     "name": "stderr",
     "output_type": "stream",
     "text": [
      "100%|██████████████████████████████████████████████████████████████████████████████████| 73/73 [12:20<00:00, 10.15s/it]\n"
     ]
    }
   ],
   "source": [
    "## When it is taking too much time for a certain website:\n",
    "\n",
    "for ind, file in enumerate(files):\n",
    "    print(\"Index ::\",ind)\n",
    "    print(\"Started for file ::\",file)\n",
    "    \n",
    "    updated_rows = []\n",
    "    failed_rows = []\n",
    "    existing_rows_names = []\n",
    "\n",
    "    df = pd.read_csv(\"../results/names/{}/{}\".format(country,file))\n",
    "    rows = df.to_dict('records')\n",
    "    \n",
    "    for row in tqdm.tqdm(rows[46:]):\n",
    "        if row['name'] not in existing_rows_names:\n",
    "            try:\n",
    "                n = extractEmail(row)\n",
    "                updated_rows.append(n)\n",
    "            except:\n",
    "                failed_rows.append(row)\n",
    "                row['emails']=\"\"\n",
    "                updated_rows.append(row)\n",
    "                pass\n",
    "            \n",
    "        \n",
    "    \n",
    "    "
   ]
  },
  {
   "cell_type": "code",
   "execution_count": 24,
   "id": "1dacdfbe",
   "metadata": {},
   "outputs": [
    {
     "data": {
      "text/plain": [
       "{'name': 'Austex Pharmaceutical PTE LTD',\n",
       " 'phone': '062008 92433',\n",
       " 'website': 'http://www.austexpharma.com/',\n",
       " 'address': '81 UBI Avenue 4 #06-03 UB.ONE',\n",
       " 'emails': 'contact@austexpharma.com'}"
      ]
     },
     "execution_count": 24,
     "metadata": {},
     "output_type": "execute_result"
    }
   ],
   "source": [
    "# remember to update the index accordingly\n",
    "updated_rows[0]"
   ]
  },
  {
   "cell_type": "code",
   "execution_count": 26,
   "id": "e46f5886",
   "metadata": {},
   "outputs": [],
   "source": [
    "# saving\n",
    "df = pd.DataFrame(updated_rows)\n",
    "df.to_csv(\"../results/emails/{}/{}\".format(country,file),index=None)"
   ]
  },
  {
   "cell_type": "code",
   "execution_count": null,
   "id": "dfe1a59b",
   "metadata": {},
   "outputs": [],
   "source": []
  },
  {
   "cell_type": "code",
   "execution_count": null,
   "id": "b5f8323c-757d-4fa1-a2bf-7299bc22a66f",
   "metadata": {},
   "outputs": [],
   "source": []
  }
 ],
 "metadata": {
  "kernelspec": {
   "display_name": "Python 3 (ipykernel)",
   "language": "python",
   "name": "python3"
  },
  "language_info": {
   "codemirror_mode": {
    "name": "ipython",
    "version": 3
   },
   "file_extension": ".py",
   "mimetype": "text/x-python",
   "name": "python",
   "nbconvert_exporter": "python",
   "pygments_lexer": "ipython3",
   "version": "3.10.14"
  }
 },
 "nbformat": 4,
 "nbformat_minor": 5
}
